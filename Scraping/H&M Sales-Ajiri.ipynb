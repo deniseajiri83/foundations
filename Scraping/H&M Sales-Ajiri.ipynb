{
 "cells": [
  {
   "cell_type": "markdown",
   "metadata": {},
   "source": [
    "# Scraping: H&M Sales\n",
    "\n",
    "**It's officially hot outside**, which means we need some summertime clothes. We live in New York City, though, so all our money goes to rent: we need to shop *as cheaply as possible*. So let's shop [sales at H&M](http://www.hm.com/us/products/sale)!\n",
    "\n",
    "**Answer the questions below using either Men's or Women's sale items at H&M.**\n",
    "\n",
    "## Preparation: knowing your tags\n",
    "\n",
    "### What is the tag name and class name for a product?"
   ]
  },
  {
   "cell_type": "code",
   "execution_count": 4,
   "metadata": {
    "collapsed": true
   },
   "outputs": [],
   "source": [
    "import requests"
   ]
  },
  {
   "cell_type": "code",
   "execution_count": 5,
   "metadata": {
    "collapsed": true
   },
   "outputs": [],
   "source": [
    "url = \"http://api.hm.com/v2/us/en/products/display?categories=sale%2Fmen&concealCategories=true&pageSize=60&page=1&deviceType=DESKTOP\"\n",
    "response = requests.get(url)"
   ]
  },
  {
   "cell_type": "code",
   "execution_count": 7,
   "metadata": {},
   "outputs": [
    {
     "data": {
      "text/plain": [
       "dict_keys(['searchInfo', 'pagination', 'recommendations', 'displayArticles', 'filter', 'trackingInfo', 'content'])"
      ]
     },
     "execution_count": 7,
     "metadata": {},
     "output_type": "execute_result"
    }
   ],
   "source": [
    "data = response.json()\n",
    "data.keys()"
   ]
  },
  {
   "cell_type": "code",
   "execution_count": 280,
   "metadata": {
    "collapsed": true
   },
   "outputs": [],
   "source": [
    "#it's in div class_=\"product_list_item\""
   ]
  },
  {
   "cell_type": "markdown",
   "metadata": {},
   "source": [
    "### What is the tag name and class name for the old price? The new price?"
   ]
  },
  {
   "cell_type": "code",
   "execution_count": 281,
   "metadata": {
    "collapsed": true
   },
   "outputs": [],
   "source": [
    "#It's in span tag, class \"old-price\"."
   ]
  },
  {
   "cell_type": "markdown",
   "metadata": {},
   "source": [
    "### What is the tag name and class name for the link to the product page?"
   ]
  },
  {
   "cell_type": "code",
   "execution_count": 282,
   "metadata": {
    "collapsed": true
   },
   "outputs": [],
   "source": [
    "#it's in the \"a href\" tag."
   ]
  },
  {
   "cell_type": "markdown",
   "metadata": {},
   "source": [
    "## Setup: Import what you'll need to scrape the page\n",
    "\n",
    "Use `requests`, not `urllib`."
   ]
  },
  {
   "cell_type": "code",
   "execution_count": 283,
   "metadata": {
    "collapsed": true
   },
   "outputs": [],
   "source": [
    "#already did.\n",
    "# this is an API so we use .keys()..."
   ]
  },
  {
   "cell_type": "markdown",
   "metadata": {},
   "source": [
    "## Try to scrape the page: how many product names can you find?\n",
    "\n",
    "\"Try\" to do it, because it *will not work.* Once you've learned that it won't work, spend a few minutes **looking at the page code** to see if you can figure out why.\n",
    "\n",
    "Eventually, ask for help by writing on the board."
   ]
  },
  {
   "cell_type": "code",
   "execution_count": 284,
   "metadata": {},
   "outputs": [
    {
     "data": {
      "text/plain": [
       "dict_keys(['searchInfo', 'pagination', 'recommendations', 'displayArticles', 'filter', 'trackingInfo', 'content'])"
      ]
     },
     "execution_count": 284,
     "metadata": {},
     "output_type": "execute_result"
    }
   ],
   "source": [
    "data.keys()"
   ]
  },
  {
   "cell_type": "code",
   "execution_count": 285,
   "metadata": {},
   "outputs": [
    {
     "data": {
      "text/plain": [
       "60"
      ]
     },
     "execution_count": 285,
     "metadata": {},
     "output_type": "execute_result"
    }
   ],
   "source": [
    "len(data[\"displayArticles\"])"
   ]
  },
  {
   "cell_type": "code",
   "execution_count": 286,
   "metadata": {},
   "outputs": [
    {
     "data": {
      "text/plain": [
       "28"
      ]
     },
     "execution_count": 286,
     "metadata": {},
     "output_type": "execute_result"
    }
   ],
   "source": [
    "len(data[\"displayArticles\"][0]['name'])"
   ]
  },
  {
   "cell_type": "markdown",
   "metadata": {},
   "source": [
    "## URLs"
   ]
  },
  {
   "cell_type": "markdown",
   "metadata": {},
   "source": [
    "### What is the URL for data about on-sale men's clothing?"
   ]
  },
  {
   "cell_type": "code",
   "execution_count": 287,
   "metadata": {
    "collapsed": true
   },
   "outputs": [],
   "source": [
    "#http://api.hm.com/v2/us/en/products/display?categories=sale%+++2Fmen+++&concealCategories=true&pageSize=60&page=1&deviceType=DESKTOP\n",
    "#http://api.hm.com/v2/us/en/products/categories?path=sale/+++men+++&deviceType=DESKTOP"
   ]
  },
  {
   "cell_type": "markdown",
   "metadata": {},
   "source": [
    "### What is the URL for data about on-sale women's clothing?"
   ]
  },
  {
   "cell_type": "code",
   "execution_count": 288,
   "metadata": {
    "collapsed": true
   },
   "outputs": [],
   "source": [
    "#http://api.hm.com/v2/us/en/products/display?categories=sale%+++2Fladies+++&concealCategories=true&pageSize=60&page=1&deviceType=DESKTOP\n",
    "#http://api.hm.com/v2/us/en/products/categories?path=sale/+++ladies+++&deviceType=DESKTOP"
   ]
  },
  {
   "cell_type": "markdown",
   "metadata": {},
   "source": [
    "### What is the URL for data about on-sale women's tops?"
   ]
  },
  {
   "cell_type": "code",
   "execution_count": 289,
   "metadata": {
    "collapsed": true
   },
   "outputs": [],
   "source": [
    "#http://api.hm.com/v2/us/en/products/display?categories=sale%+++2Fladies%2Ftops+++&concealCategories=true&pageSize=60&page=1&deviceType=DESKTOP\n",
    "#http://api.hm.com/v2/us/en/products/categories?path=sale/+++ladies/tops+++&deviceType=DESKTOP"
   ]
  },
  {
   "cell_type": "markdown",
   "metadata": {},
   "source": [
    "### What changes about the url based on what you're looking for?"
   ]
  },
  {
   "cell_type": "code",
   "execution_count": 290,
   "metadata": {
    "collapsed": true
   },
   "outputs": [],
   "source": [
    "#2Fladies&concealCategories=true\n",
    "#2Fmen&concealCategories=true\n",
    "#2Fladies%2Ftops&concealCategories=true"
   ]
  },
  {
   "cell_type": "markdown",
   "metadata": {},
   "source": [
    "## Request on-sale women's tops.\n",
    "\n",
    "### How many results do you get?"
   ]
  },
  {
   "cell_type": "code",
   "execution_count": 291,
   "metadata": {},
   "outputs": [
    {
     "data": {
      "text/plain": [
       "5"
      ]
     },
     "execution_count": 291,
     "metadata": {},
     "output_type": "execute_result"
    }
   ],
   "source": [
    "first_url =\"http://api.hm.com/v2/us/en/products/categories?path=sale/ladies/tops&deviceType=DESKTOP\"\n",
    "response = requests.get(first_url)\n",
    "data0 = response.json()\n",
    "data0\n",
    "len(data0['categories'])"
   ]
  },
  {
   "cell_type": "markdown",
   "metadata": {},
   "source": [
    "# How many total results are there? How do you change the URL to get more?"
   ]
  },
  {
   "cell_type": "code",
   "execution_count": 292,
   "metadata": {},
   "outputs": [
    {
     "data": {
      "text/plain": [
       "60"
      ]
     },
     "execution_count": 292,
     "metadata": {},
     "output_type": "execute_result"
    }
   ],
   "source": [
    "url2=\"http://api.hm.com/v2/us/en/products/display?categories=sale%2Fladies%2Ftops&concealCategories=true&pageSize=60&page=1&deviceType=DESKTOP\"\n",
    "response = requests.get(url2)\n",
    "data2 = response.json()\n",
    "data2\n",
    "len(data2['displayArticles'])"
   ]
  },
  {
   "cell_type": "code",
   "execution_count": 293,
   "metadata": {
    "collapsed": true
   },
   "outputs": [],
   "source": [
    "#In the API we change the pagesize from 60 to whatever we want."
   ]
  },
  {
   "cell_type": "code",
   "execution_count": 10,
   "metadata": {},
   "outputs": [
    {
     "data": {
      "text/plain": [
       "200"
      ]
     },
     "execution_count": 10,
     "metadata": {},
     "output_type": "execute_result"
    }
   ],
   "source": [
    "url3 = \"http://api.hm.com/v2/us/en/products/display?categories=sale%2Fladies%2Ftops&concealCategories=true&pageSize=200&page=1&deviceType=DESKTOP\"\n",
    "response = requests.get(url3)\n",
    "data3 = response.json()\n",
    "data3\n",
    "len(data3['displayArticles'])"
   ]
  },
  {
   "cell_type": "markdown",
   "metadata": {},
   "source": [
    "### Download all on-sale women's tops and save them to a CSV.\n",
    "\n",
    "I want this CSV to include\n",
    "\n",
    "- Name\n",
    "- Product code/number\n",
    "- Old price\n",
    "- On-sale price\n",
    "- Item's URL"
   ]
  },
  {
   "cell_type": "code",
   "execution_count": 11,
   "metadata": {},
   "outputs": [
    {
     "data": {
      "text/plain": [
       "363"
      ]
     },
     "execution_count": 11,
     "metadata": {},
     "output_type": "execute_result"
    }
   ],
   "source": [
    "url4 = \"http://api.hm.com/v2/us/en/products/display?categories=sale%2Fladies%2Ftops&concealCategories=true&pageSize=500&page=1&deviceType=DESKTOP\"\n",
    "response = requests.get(url4)\n",
    "data4 = response.json()\n",
    "data4\n",
    "len(data4['displayArticles'])"
   ]
  },
  {
   "cell_type": "code",
   "execution_count": 12,
   "metadata": {
    "collapsed": true
   },
   "outputs": [],
   "source": [
    "women_list = data4['displayArticles']\n",
    "#women_list[0]"
   ]
  },
  {
   "cell_type": "code",
   "execution_count": 13,
   "metadata": {},
   "outputs": [
    {
     "name": "stdout",
     "output_type": "stream",
     "text": [
      "363\n"
     ]
    }
   ],
   "source": [
    "women_top= []\n",
    "for item in women_list:\n",
    "    current = {}\n",
    "    (item['name'])\n",
    "    (item['articleCode'])\n",
    "    (item['priceInfo']['formattedOldPrice'])\n",
    "    (item ['priceInfo']['formattedPrice'])\n",
    "    (item['webUrl'])\n",
    "    current['Name'] = item['name']\n",
    "    current['Product code/number'] = item['articleCode']\n",
    "    current['Old Price'] = item['priceInfo']['formattedOldPrice']\n",
    "    current['Current Price'] = item['priceInfo']['formattedPrice']\n",
    "    current['Link'] = item['webUrl']\n",
    "    women_top.append(current)\n",
    "\n",
    "print(len(women_top)) "
   ]
  },
  {
   "cell_type": "code",
   "execution_count": 14,
   "metadata": {
    "collapsed": true
   },
   "outputs": [],
   "source": [
    "#to create a csv file you need a list of dict.\n",
    "\n",
    "import pandas as pd\n",
    "%matplotlib inline"
   ]
  },
  {
   "cell_type": "code",
   "execution_count": 21,
   "metadata": {
    "collapsed": true
   },
   "outputs": [],
   "source": [
    "df = pd.DataFrame(women_top)\n",
    "df.to_csv(\"women_top.csv\" , index = False)"
   ]
  },
  {
   "cell_type": "markdown",
   "metadata": {},
   "source": [
    "## Analyzing on-sale items\n",
    "\n",
    "### Read in the on-sale CSV and make sure the data looks right"
   ]
  },
  {
   "cell_type": "code",
   "execution_count": 22,
   "metadata": {},
   "outputs": [
    {
     "data": {
      "text/html": [
       "<div>\n",
       "<style>\n",
       "    .dataframe thead tr:only-child th {\n",
       "        text-align: right;\n",
       "    }\n",
       "\n",
       "    .dataframe thead th {\n",
       "        text-align: left;\n",
       "    }\n",
       "\n",
       "    .dataframe tbody tr th {\n",
       "        vertical-align: top;\n",
       "    }\n",
       "</style>\n",
       "<table border=\"1\" class=\"dataframe\">\n",
       "  <thead>\n",
       "    <tr style=\"text-align: right;\">\n",
       "      <th></th>\n",
       "      <th>Current Price</th>\n",
       "      <th>Link</th>\n",
       "      <th>Name</th>\n",
       "      <th>Old Price</th>\n",
       "      <th>Product code/number</th>\n",
       "    </tr>\n",
       "  </thead>\n",
       "  <tbody>\n",
       "    <tr>\n",
       "      <th>0</th>\n",
       "      <td>$6.99</td>\n",
       "      <td>http://www.hm.com/us/product/65274?article=652...</td>\n",
       "      <td>Short-sleeved Top</td>\n",
       "      <td>$9.99</td>\n",
       "      <td>65274-B</td>\n",
       "    </tr>\n",
       "    <tr>\n",
       "      <th>1</th>\n",
       "      <td>$6.99</td>\n",
       "      <td>http://www.hm.com/us/product/65274?article=652...</td>\n",
       "      <td>Short-sleeved Top</td>\n",
       "      <td>$9.99</td>\n",
       "      <td>65274-A</td>\n",
       "    </tr>\n",
       "    <tr>\n",
       "      <th>2</th>\n",
       "      <td>$6.99</td>\n",
       "      <td>http://www.hm.com/us/product/65274?article=652...</td>\n",
       "      <td>Short-sleeved Top</td>\n",
       "      <td>$9.99</td>\n",
       "      <td>65274-F</td>\n",
       "    </tr>\n",
       "    <tr>\n",
       "      <th>3</th>\n",
       "      <td>$6.99</td>\n",
       "      <td>http://www.hm.com/us/product/65274?article=652...</td>\n",
       "      <td>Short-sleeved Top</td>\n",
       "      <td>$9.99</td>\n",
       "      <td>65274-E</td>\n",
       "    </tr>\n",
       "    <tr>\n",
       "      <th>4</th>\n",
       "      <td>$5</td>\n",
       "      <td>http://www.hm.com/us/product/60133?article=601...</td>\n",
       "      <td>Jersey Top</td>\n",
       "      <td>$12.99</td>\n",
       "      <td>60133-B</td>\n",
       "    </tr>\n",
       "  </tbody>\n",
       "</table>\n",
       "</div>"
      ],
      "text/plain": [
       "  Current Price                                               Link  \\\n",
       "0         $6.99  http://www.hm.com/us/product/65274?article=652...   \n",
       "1         $6.99  http://www.hm.com/us/product/65274?article=652...   \n",
       "2         $6.99  http://www.hm.com/us/product/65274?article=652...   \n",
       "3         $6.99  http://www.hm.com/us/product/65274?article=652...   \n",
       "4            $5  http://www.hm.com/us/product/60133?article=601...   \n",
       "\n",
       "                Name Old Price Product code/number  \n",
       "0  Short-sleeved Top     $9.99             65274-B  \n",
       "1  Short-sleeved Top     $9.99             65274-A  \n",
       "2  Short-sleeved Top     $9.99             65274-F  \n",
       "3  Short-sleeved Top     $9.99             65274-E  \n",
       "4         Jersey Top    $12.99             60133-B  "
      ]
     },
     "execution_count": 22,
     "metadata": {},
     "output_type": "execute_result"
    }
   ],
   "source": [
    "df.head()"
   ]
  },
  {
   "cell_type": "markdown",
   "metadata": {},
   "source": [
    "### Convert the prices to numbers, if you haven't already"
   ]
  },
  {
   "cell_type": "code",
   "execution_count": 23,
   "metadata": {
    "collapsed": true
   },
   "outputs": [],
   "source": [
    "df['Current Price'] = df['Current Price'].str.replace(\"$\", \"\").astype(float)\n",
    "df['Old Price'] = df['Old Price'].str.replace(\"$\", \"\").astype(float)"
   ]
  },
  {
   "cell_type": "markdown",
   "metadata": {},
   "source": [
    "### What is the average on-sale price of a women's top? Make a histogram, too, please."
   ]
  },
  {
   "cell_type": "code",
   "execution_count": 24,
   "metadata": {},
   "outputs": [
    {
     "data": {
      "text/plain": [
       "9.99     103\n",
       "7.99      55\n",
       "12.99     46\n",
       "14.99     40\n",
       "5.99      37\n",
       "17.99     20\n",
       "19.99     17\n",
       "6.99      15\n",
       "7.00       6\n",
       "24.99      4\n",
       "4.99       4\n",
       "29.99      3\n",
       "3.99       3\n",
       "5.00       3\n",
       "2.99       2\n",
       "20.00      2\n",
       "10.00      1\n",
       "4.00       1\n",
       "34.99      1\n",
       "Name: Current Price, dtype: int64"
      ]
     },
     "execution_count": 24,
     "metadata": {},
     "output_type": "execute_result"
    }
   ],
   "source": [
    "import statistics\n",
    "#df['Old Price'].mean()\n",
    "df['Current Price'].value_counts()"
   ]
  },
  {
   "cell_type": "code",
   "execution_count": 25,
   "metadata": {},
   "outputs": [
    {
     "data": {
      "text/plain": [
       "<matplotlib.axes._subplots.AxesSubplot at 0x10a70a5f8>"
      ]
     },
     "execution_count": 25,
     "metadata": {},
     "output_type": "execute_result"
    },
    {
     "data": {
      "image/png": "[encoded data removed]",
      "text/plain": [
       "<matplotlib.figure.Figure at 0x10a81bbe0>"
      ]
     },
     "metadata": {},
     "output_type": "display_data"
    }
   ],
   "source": [
    "df['Current Price'].hist()"
   ]
  },
  {
   "cell_type": "markdown",
   "metadata": {},
   "source": [
    "### What is the average discount between full price and on sale? Histogram too, please."
   ]
  },
  {
   "cell_type": "code",
   "execution_count": 26,
   "metadata": {},
   "outputs": [
    {
     "data": {
      "text/plain": [
       "8.5474104683195602"
      ]
     },
     "execution_count": 26,
     "metadata": {},
     "output_type": "execute_result"
    }
   ],
   "source": [
    "discount = df['Old Price']-df['Current Price']\n",
    "discount.mean()"
   ]
  },
  {
   "cell_type": "code",
   "execution_count": 27,
   "metadata": {},
   "outputs": [
    {
     "data": {
      "text/plain": [
       "<matplotlib.axes._subplots.AxesSubplot at 0x10a902eb8>"
      ]
     },
     "execution_count": 27,
     "metadata": {},
     "output_type": "execute_result"
    },
    {
     "data": {
      "image/png": "[encoded data removed]",
      "text/plain": [
       "<matplotlib.figure.Figure at 0x10a8eb0f0>"
      ]
     },
     "metadata": {},
     "output_type": "display_data"
    }
   ],
   "source": [
    "discount.hist()"
   ]
  },
  {
   "cell_type": "markdown",
   "metadata": {},
   "source": [
    "### What is the average discount as a percentage of the full price? Histogram too, please."
   ]
  },
  {
   "cell_type": "code",
   "execution_count": 28,
   "metadata": {},
   "outputs": [
    {
     "data": {
      "text/plain": [
       "44.469150    44\n",
       "33.355570    40\n",
       "53.887606    27\n",
       "48.019208    27\n",
       "40.016006    25\n",
       "38.491147    24\n",
       "55.586437    19\n",
       "46.697799    12\n",
       "50.016672    12\n",
       "27.793218    11\n",
       "23.094688    11\n",
       "42.869391     9\n",
       "30.030030     8\n",
       "40.013338     8\n",
       "40.040040     8\n",
       "28.011204     6\n",
       "50.025013     6\n",
       "46.189376     5\n",
       "48.585310     5\n",
       "61.089494     4\n",
       "50.012503     4\n",
       "20.008003     4\n",
       "28.612303     4\n",
       "40.008002     3\n",
       "61.508853     3\n",
       "28.579594     3\n",
       "56.685562     3\n",
       "60.040027     2\n",
       "53.368913     2\n",
       "33.388982     2\n",
       "35.017509     2\n",
       "53.302201     2\n",
       "40.080160     2\n",
       "66.688896     2\n",
       "62.515629     1\n",
       "20.040080     1\n",
       "30.006001     1\n",
       "55.013753     1\n",
       "37.509377     1\n",
       "62.875107     1\n",
       "25.012506     1\n",
       "44.289694     1\n",
       "57.159188     1\n",
       "47.935872     1\n",
       "59.798995     1\n",
       "49.987497     1\n",
       "49.937422     1\n",
       "13.342228     1\n",
       "dtype: int64"
      ]
     },
     "execution_count": 28,
     "metadata": {},
     "output_type": "execute_result"
    }
   ],
   "source": [
    "sale_percentage = discount*100/df['Old Price']\n",
    "sale_percentage.value_counts()"
   ]
  },
  {
   "cell_type": "markdown",
   "metadata": {},
   "source": [
    "## Shopping the sales\n",
    "\n",
    "### How many items are over 50% off?\n"
   ]
  },
  {
   "cell_type": "code",
   "execution_count": 29,
   "metadata": {},
   "outputs": [
    {
     "data": {
      "text/plain": [
       "False    272\n",
       "True      91\n",
       "dtype: int64"
      ]
     },
     "execution_count": 29,
     "metadata": {},
     "output_type": "execute_result"
    }
   ],
   "source": [
    "over_50 = sale_percentage > 50\n",
    "over_50.value_counts()"
   ]
  },
  {
   "cell_type": "markdown",
   "metadata": {},
   "source": [
    "### Display all items above 50% off.\n",
    "\n",
    "Pandas doesn't want to show you every row. Change its settings so it will display up to **200 rows of content.**"
   ]
  },
  {
   "cell_type": "code",
   "execution_count": 32,
   "metadata": {},
   "outputs": [
    {
     "data": {
      "text/html": [
       "<div>\n",
       "<style>\n",
       "    .dataframe thead tr:only-child th {\n",
       "        text-align: right;\n",
       "    }\n",
       "\n",
       "    .dataframe thead th {\n",
       "        text-align: left;\n",
       "    }\n",
       "\n",
       "    .dataframe tbody tr th {\n",
       "        vertical-align: top;\n",
       "    }\n",
       "</style>\n",
       "<table border=\"1\" class=\"dataframe\">\n",
       "  <thead>\n",
       "    <tr style=\"text-align: right;\">\n",
       "      <th></th>\n",
       "      <th>Current Price</th>\n",
       "      <th>Link</th>\n",
       "      <th>Name</th>\n",
       "      <th>Old Price</th>\n",
       "      <th>Product code/number</th>\n",
       "    </tr>\n",
       "  </thead>\n",
       "  <tbody>\n",
       "    <tr>\n",
       "      <th>4</th>\n",
       "      <td>5.00</td>\n",
       "      <td>http://www.hm.com/us/product/60133?article=601...</td>\n",
       "      <td>Jersey Top</td>\n",
       "      <td>12.99</td>\n",
       "      <td>60133-B</td>\n",
       "    </tr>\n",
       "    <tr>\n",
       "      <th>5</th>\n",
       "      <td>5.00</td>\n",
       "      <td>http://www.hm.com/us/product/60133?article=601...</td>\n",
       "      <td>Jersey Top</td>\n",
       "      <td>12.99</td>\n",
       "      <td>60133-F</td>\n",
       "    </tr>\n",
       "    <tr>\n",
       "      <th>6</th>\n",
       "      <td>5.00</td>\n",
       "      <td>http://www.hm.com/us/product/60133?article=601...</td>\n",
       "      <td>Jersey Top</td>\n",
       "      <td>12.99</td>\n",
       "      <td>60133-E</td>\n",
       "    </tr>\n",
       "    <tr>\n",
       "      <th>7</th>\n",
       "      <td>5.99</td>\n",
       "      <td>http://www.hm.com/us/product/68934?article=689...</td>\n",
       "      <td>Jersey Top</td>\n",
       "      <td>12.99</td>\n",
       "      <td>68934-C</td>\n",
       "    </tr>\n",
       "    <tr>\n",
       "      <th>8</th>\n",
       "      <td>7.00</td>\n",
       "      <td>http://www.hm.com/us/product/65300?article=653...</td>\n",
       "      <td>Crêped Camisole Top</td>\n",
       "      <td>17.99</td>\n",
       "      <td>65300-B</td>\n",
       "    </tr>\n",
       "  </tbody>\n",
       "</table>\n",
       "</div>"
      ],
      "text/plain": [
       "   Current Price                                               Link  \\\n",
       "4           5.00  http://www.hm.com/us/product/60133?article=601...   \n",
       "5           5.00  http://www.hm.com/us/product/60133?article=601...   \n",
       "6           5.00  http://www.hm.com/us/product/60133?article=601...   \n",
       "7           5.99  http://www.hm.com/us/product/68934?article=689...   \n",
       "8           7.00  http://www.hm.com/us/product/65300?article=653...   \n",
       "\n",
       "                  Name  Old Price Product code/number  \n",
       "4           Jersey Top      12.99             60133-B  \n",
       "5           Jersey Top      12.99             60133-F  \n",
       "6           Jersey Top      12.99             60133-E  \n",
       "7           Jersey Top      12.99             68934-C  \n",
       "8  Crêped Camisole Top      17.99             65300-B  "
      ]
     },
     "execution_count": 32,
     "metadata": {},
     "output_type": "execute_result"
    }
   ],
   "source": [
    "df[over_50].head()"
   ]
  }
 ],
 "metadata": {
  "kernelspec": {
   "display_name": "Python 3",
   "language": "python",
   "name": "python3"
  },
  "language_info": {
   "codemirror_mode": {
    "name": "ipython",
    "version": 3
   },
   "file_extension": ".py",
   "mimetype": "text/x-python",
   "name": "python",
   "nbconvert_exporter": "python",
   "pygments_lexer": "ipython3",
   "version": "3.6.1"
  }
 },
 "nbformat": 4,
 "nbformat_minor": 2
}
