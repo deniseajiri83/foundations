{
 "cells": [
  {
   "cell_type": "markdown",
   "metadata": {},
   "source": [
    "# Mine Safety\n",
    "\n",
    "We're interested in [US mine safety](https://arlweb.msha.gov/drs/drshome.htm#MID), thank goodness we can search for these things."
   ]
  },
  {
   "cell_type": "markdown",
   "metadata": {},
   "source": [
    "## Preparation: Knowing your tags\n",
    "\n",
    "These questions are the same for every data set, and might not work exactly for yours.\n",
    "\n",
    "**Search for every operator with 'dirt' in their name, including abandoned mines.**"
   ]
  },
  {
   "cell_type": "code",
   "execution_count": 1,
   "metadata": {
    "collapsed": true
   },
   "outputs": [],
   "source": [
    "import requests\n",
    "from bs4 import BeautifulSoup"
   ]
  },
  {
   "cell_type": "code",
   "execution_count": 2,
   "metadata": {
    "collapsed": true
   },
   "outputs": [],
   "source": [
    "data = {\n",
    "    \"OperSearch\":\"dirt\",\n",
    "    \"Abandoned\":\"No\",\n",
    "    \"MineName\":\"\",\n",
    "    \"StateSearch\":\"None\",\n",
    "    \"CM\":\"All\",\n",
    "    \"x\":\"0\",\n",
    "    \"y\":\"0\",\n",
    "    \"MC\":\"Opersearch\",\n",
    "}"
   ]
  },
  {
   "cell_type": "code",
   "execution_count": 3,
   "metadata": {
    "collapsed": true
   },
   "outputs": [],
   "source": [
    "response = requests.post(\"https://arlweb.msha.gov/drs/ASP/OprNameStatesearch.asp\", data=data)\n",
    "\n",
    "doc = BeautifulSoup(response.text, \"html.parser\")\n"
   ]
  },
  {
   "cell_type": "markdown",
   "metadata": {},
   "source": [
    "### What is the tag and class name for every row of data?"
   ]
  },
  {
   "cell_type": "markdown",
   "metadata": {
    "collapsed": true
   },
   "source": [
    "Every row of data is in the \"tr\" tag."
   ]
  },
  {
   "cell_type": "markdown",
   "metadata": {},
   "source": [
    "### What is the tag and class name for every mine operator's name?"
   ]
  },
  {
   "cell_type": "markdown",
   "metadata": {
    "collapsed": true
   },
   "source": [
    "Operator's name is in the 3rd \"td\" tag"
   ]
  },
  {
   "cell_type": "markdown",
   "metadata": {},
   "source": [
    "## Being lazy\n",
    "\n",
    "If you only needed these results, what would you do instead of scraping them?"
   ]
  },
  {
   "cell_type": "code",
   "execution_count": 4,
   "metadata": {
    "collapsed": true
   },
   "outputs": [],
   "source": [
    "# export it to excel and be happy ever after"
   ]
  },
  {
   "cell_type": "markdown",
   "metadata": {},
   "source": [
    "## Setup: Import what you'll need to scrape the page\n",
    "\n",
    "Use `requests`, not `urllib`."
   ]
  },
  {
   "cell_type": "code",
   "execution_count": 5,
   "metadata": {
    "collapsed": true
   },
   "outputs": [],
   "source": [
    "#already did up there."
   ]
  },
  {
   "cell_type": "markdown",
   "metadata": {},
   "source": [
    "## Try to scrape the page\n",
    "\n",
    "To test if you requested the page correctly, save the BeautifulSoup document as `doc` and run the code `doc.find_all('tr')[-1].text` to get the text of the last `<tr>` element.\n",
    "\n",
    "- If the result starts with **Total Number of Mines Found**, you were successful."
   ]
  },
  {
   "cell_type": "code",
   "execution_count": 6,
   "metadata": {},
   "outputs": [
    {
     "data": {
      "text/plain": [
       "'\\nTotal Number of Mines Found:\\xa0\\xa019'"
      ]
     },
     "execution_count": 6,
     "metadata": {},
     "output_type": "execute_result"
    }
   ],
   "source": [
    "doc.find_all('tr')[-1].text"
   ]
  },
  {
   "cell_type": "markdown",
   "metadata": {},
   "source": [
    "## Actually scraping"
   ]
  },
  {
   "cell_type": "markdown",
   "metadata": {},
   "source": [
    "### Hopefully you know that each `tr` is supposed to be your data. What is the index of the first row element that is actually a result?\n",
    "\n",
    "`.text` will help you here."
   ]
  },
  {
   "cell_type": "code",
   "execution_count": 7,
   "metadata": {},
   "outputs": [
    {
     "data": {
      "text/plain": [
       "'\\n\\n3503598\\n'"
      ]
     },
     "execution_count": 7,
     "metadata": {},
     "output_type": "execute_result"
    }
   ],
   "source": [
    "doc.find_all('tr')[7].find_all('td')[0].text"
   ]
  },
  {
   "cell_type": "code",
   "execution_count": 8,
   "metadata": {},
   "outputs": [
    {
     "data": {
      "text/plain": [
       "'3503598'"
      ]
     },
     "execution_count": 8,
     "metadata": {},
     "output_type": "execute_result"
    }
   ],
   "source": [
    "doc.find_all('tr')[7].find_all('td')[0].text.strip()"
   ]
  },
  {
   "cell_type": "markdown",
   "metadata": {},
   "source": [
    "### Loop through each operator result, printing its name\n",
    "\n",
    "Use LIST SLICING to skip the non-data row(s)."
   ]
  },
  {
   "cell_type": "code",
   "execution_count": 9,
   "metadata": {},
   "outputs": [
    {
     "name": "stdout",
     "output_type": "stream",
     "text": [
      " Newberg Rock & Dirt  \n",
      "-----\n",
      "AM Dirtworks & Aggregate Sales  \n",
      "-----\n",
      "Dirt Company  \n",
      "-----\n",
      "Dirt Con  \n",
      "-----\n",
      "Dirt Doctor Inc  \n",
      "-----\n",
      "Dirt Works  \n",
      "-----\n",
      "Holley Dirt Company, Inc  \n",
      "-----\n",
      "Krueger Brothers Gravel & Dirt  \n",
      "-----\n",
      "M R Dirt  \n",
      "-----\n",
      "M.R. Dirt Inc.  \n",
      "-----\n",
      "P B Dirt Movers, Inc  \n",
      "-----\n",
      "PB Dirt Movers  \n",
      "-----\n",
      "PB Dirt Movers, Inc  \n",
      "-----\n",
      "Prescott Dirt, LLC  \n",
      "-----\n",
      "R D Blankenship Dirt Work LLC  \n",
      "-----\n",
      "SIMPSON DIRTWORX LLC  \n",
      "-----\n",
      "SIMPSON DIRTWORX LLC  \n",
      "-----\n",
      "Spry's Dirt & Gravel, Inc.  \n",
      "-----\n",
      "Vogt Dirt Service  \n",
      "-----\n"
     ]
    }
   ],
   "source": [
    "rows = doc.find_all(\"tr\")\n",
    "\n",
    "for element in rows[7:26]:\n",
    "    operator = element.find_all('td')[2]\n",
    "    #if operator:\n",
    "        #print(operator.text)\n",
    "    print(operator.text)\n",
    "    print(\"-----\")\n",
    "\n"
   ]
  },
  {
   "cell_type": "markdown",
   "metadata": {},
   "source": [
    "### Loop through each operator result, printing its ID\n",
    "\n",
    "There should be ONE code per row, and NO empty rows between them."
   ]
  },
  {
   "cell_type": "code",
   "execution_count": 10,
   "metadata": {},
   "outputs": [
    {
     "name": "stdout",
     "output_type": "stream",
     "text": [
      "\n",
      "\n",
      "3503598\n",
      "\n",
      "-----\n",
      "\n",
      "\n",
      "4801789\n",
      "\n",
      "-----\n",
      "\n",
      "\n",
      "5001797\n",
      "\n",
      "-----\n",
      "\n",
      "\n",
      "4608254\n",
      "\n",
      "-----\n",
      "\n",
      "\n",
      "2103723\n",
      "\n",
      "-----\n",
      "\n",
      "\n",
      "4104757\n",
      "\n",
      "-----\n",
      "\n",
      "\n",
      "0801306\n",
      "\n",
      "-----\n",
      "\n",
      "\n",
      "3901432\n",
      "\n",
      "-----\n",
      "\n",
      "\n",
      "3609624\n",
      "\n",
      "-----\n",
      "\n",
      "\n",
      "3609931\n",
      "\n",
      "-----\n",
      "\n",
      "\n",
      "1519799\n",
      "\n",
      "-----\n",
      "\n",
      "\n",
      "4407296\n",
      "\n",
      "-----\n",
      "\n",
      "\n",
      "4407270\n",
      "\n",
      "-----\n",
      "\n",
      "\n",
      "0203332\n",
      "\n",
      "-----\n",
      "\n",
      "\n",
      "2901986\n",
      "\n",
      "-----\n",
      "\n",
      "\n",
      "4300768\n",
      "\n",
      "-----\n",
      "\n",
      "\n",
      "4300776\n",
      "\n",
      "-----\n",
      "\n",
      "\n",
      "2302283\n",
      "\n",
      "-----\n",
      "\n",
      "\n",
      "2103518\n",
      "\n",
      "-----\n"
     ]
    }
   ],
   "source": [
    "for element in rows[7:26]:\n",
    "    ID = element.find_all('td')[0]\n",
    "    print(ID.text)\n",
    "    print(\"-----\")"
   ]
  },
  {
   "cell_type": "markdown",
   "metadata": {},
   "source": [
    "## Saving the results\n",
    "\n",
    "### Loop through each `tr` to create a list of dictionaries\n",
    "\n",
    "Each dictionary must contain\n",
    "\n",
    "- Operator ID\n",
    "- Operator name\n",
    "- Mine name\n",
    "- State\n",
    "- Mine type\n",
    "- Coal or metal\n",
    "- Status\n",
    "- Commodity\n",
    "\n",
    "Create a new dictionary for each row."
   ]
  },
  {
   "cell_type": "code",
   "execution_count": 11,
   "metadata": {},
   "outputs": [
    {
     "name": "stdout",
     "output_type": "stream",
     "text": [
      "{'ID': '3503598', 'state': 'OR', 'operator': 'Newberg Rock & Dirt', 'mine': 'Newberg Rock & Dirt', 'mine_type': 'Surface', 'COM': 'M', 'status': 'Active', 'commodity': 'Crushed, Broken Stone NEC'}\n"
     ]
    }
   ],
   "source": [
    "all_info = []\n",
    "for element in rows[7:26]:\n",
    "    current = {}\n",
    "    ID = element.find_all('td')[0]\n",
    "    state= element.find_all('td')[1]\n",
    "    operator = element.find_all('td')[2]\n",
    "    mine = element.find_all('td')[3]\n",
    "    mine_type = element.find_all('td')[4]\n",
    "    COM= element.find_all('td')[5]\n",
    "    status = element.find_all('td')[6]\n",
    "    commodity = element.find_all('td')[7]\n",
    "    current['ID'] = ID.text.strip()\n",
    "    current['state'] = state.text.strip()\n",
    "    current['operator'] = operator.text.strip()\n",
    "    current['mine'] = mine.text.strip()\n",
    "    current['mine_type'] = mine_type.text.rstrip()\n",
    "    current['COM'] = COM.text.strip()\n",
    "    current['status'] = status.text.strip()\n",
    "    current['commodity'] = commodity.text.strip()\n",
    "    all_info.append(current)\n",
    "print(all_info[0])"
   ]
  },
  {
   "cell_type": "markdown",
   "metadata": {},
   "source": [
    "### Save that to a CSV"
   ]
  },
  {
   "cell_type": "code",
   "execution_count": 12,
   "metadata": {
    "collapsed": true
   },
   "outputs": [],
   "source": [
    "import pandas as pd"
   ]
  },
  {
   "cell_type": "code",
   "execution_count": 13,
   "metadata": {},
   "outputs": [
    {
     "data": {
      "text/html": [
       "<div>\n",
       "<style>\n",
       "    .dataframe thead tr:only-child th {\n",
       "        text-align: right;\n",
       "    }\n",
       "\n",
       "    .dataframe thead th {\n",
       "        text-align: left;\n",
       "    }\n",
       "\n",
       "    .dataframe tbody tr th {\n",
       "        vertical-align: top;\n",
       "    }\n",
       "</style>\n",
       "<table border=\"1\" class=\"dataframe\">\n",
       "  <thead>\n",
       "    <tr style=\"text-align: right;\">\n",
       "      <th></th>\n",
       "      <th>COM</th>\n",
       "      <th>ID</th>\n",
       "      <th>commodity</th>\n",
       "      <th>mine</th>\n",
       "      <th>mine_type</th>\n",
       "      <th>operator</th>\n",
       "      <th>state</th>\n",
       "      <th>status</th>\n",
       "    </tr>\n",
       "  </thead>\n",
       "  <tbody>\n",
       "    <tr>\n",
       "      <th>0</th>\n",
       "      <td>M</td>\n",
       "      <td>3503598</td>\n",
       "      <td>Crushed, Broken Stone NEC</td>\n",
       "      <td>Newberg Rock &amp; Dirt</td>\n",
       "      <td>Surface</td>\n",
       "      <td>Newberg Rock &amp; Dirt</td>\n",
       "      <td>OR</td>\n",
       "      <td>Active</td>\n",
       "    </tr>\n",
       "    <tr>\n",
       "      <th>1</th>\n",
       "      <td>M</td>\n",
       "      <td>4801789</td>\n",
       "      <td>Construction Sand and Gravel</td>\n",
       "      <td>AM Dirtworks &amp; Aggregate Sales</td>\n",
       "      <td>Surface</td>\n",
       "      <td>AM Dirtworks &amp; Aggregate Sales</td>\n",
       "      <td>ND</td>\n",
       "      <td>Intermittent</td>\n",
       "    </tr>\n",
       "    <tr>\n",
       "      <th>2</th>\n",
       "      <td>M</td>\n",
       "      <td>5001797</td>\n",
       "      <td>Construction Sand and Gravel</td>\n",
       "      <td>Bush Pilot</td>\n",
       "      <td>Surface</td>\n",
       "      <td>Dirt Company</td>\n",
       "      <td>AK</td>\n",
       "      <td>Intermittent</td>\n",
       "    </tr>\n",
       "    <tr>\n",
       "      <th>3</th>\n",
       "      <td>M</td>\n",
       "      <td>4608254</td>\n",
       "      <td>Crushed, Broken Limestone NEC</td>\n",
       "      <td>Hog Lick Quarry</td>\n",
       "      <td>Surface</td>\n",
       "      <td>Dirt Con</td>\n",
       "      <td>WV</td>\n",
       "      <td>Temporarily Idled</td>\n",
       "    </tr>\n",
       "    <tr>\n",
       "      <th>4</th>\n",
       "      <td>M</td>\n",
       "      <td>2103723</td>\n",
       "      <td>Construction Sand and Gravel</td>\n",
       "      <td>Rock Lake Plant</td>\n",
       "      <td>Surface</td>\n",
       "      <td>Dirt Doctor Inc</td>\n",
       "      <td>MN</td>\n",
       "      <td>Intermittent</td>\n",
       "    </tr>\n",
       "    <tr>\n",
       "      <th>5</th>\n",
       "      <td>M</td>\n",
       "      <td>4104757</td>\n",
       "      <td>Construction Sand and Gravel</td>\n",
       "      <td>Portable #1</td>\n",
       "      <td>Surface</td>\n",
       "      <td>Dirt Works</td>\n",
       "      <td>TX</td>\n",
       "      <td>Intermittent</td>\n",
       "    </tr>\n",
       "    <tr>\n",
       "      <th>6</th>\n",
       "      <td>M</td>\n",
       "      <td>0801306</td>\n",
       "      <td>Sand, Common</td>\n",
       "      <td>River Road Pit</td>\n",
       "      <td>Surface</td>\n",
       "      <td>Holley Dirt Company, Inc</td>\n",
       "      <td>FL</td>\n",
       "      <td>Active</td>\n",
       "    </tr>\n",
       "    <tr>\n",
       "      <th>7</th>\n",
       "      <td>M</td>\n",
       "      <td>3901432</td>\n",
       "      <td>Construction Sand and Gravel</td>\n",
       "      <td>PORTABLE SCREENER</td>\n",
       "      <td>Surface</td>\n",
       "      <td>Krueger Brothers Gravel &amp; Dirt</td>\n",
       "      <td>SD</td>\n",
       "      <td>Intermittent</td>\n",
       "    </tr>\n",
       "    <tr>\n",
       "      <th>8</th>\n",
       "      <td>M</td>\n",
       "      <td>3609624</td>\n",
       "      <td>Construction Sand and Gravel</td>\n",
       "      <td>Forbes Pit</td>\n",
       "      <td>Surface</td>\n",
       "      <td>M R Dirt</td>\n",
       "      <td>PA</td>\n",
       "      <td>Intermittent</td>\n",
       "    </tr>\n",
       "    <tr>\n",
       "      <th>9</th>\n",
       "      <td>M</td>\n",
       "      <td>3609931</td>\n",
       "      <td>Dimension Stone NEC</td>\n",
       "      <td>Camptown Quarry</td>\n",
       "      <td>Surface</td>\n",
       "      <td>M.R. Dirt Inc.</td>\n",
       "      <td>PA</td>\n",
       "      <td>Intermittent</td>\n",
       "    </tr>\n",
       "    <tr>\n",
       "      <th>10</th>\n",
       "      <td>C</td>\n",
       "      <td>1519799</td>\n",
       "      <td>Coal (Bituminous)</td>\n",
       "      <td>Fedscreek Surface</td>\n",
       "      <td>Surface</td>\n",
       "      <td>P B Dirt Movers, Inc</td>\n",
       "      <td>KY</td>\n",
       "      <td>Active</td>\n",
       "    </tr>\n",
       "    <tr>\n",
       "      <th>11</th>\n",
       "      <td>C</td>\n",
       "      <td>4407296</td>\n",
       "      <td>Coal (Bituminous)</td>\n",
       "      <td>Mine No. 6</td>\n",
       "      <td>Underground</td>\n",
       "      <td>PB Dirt Movers</td>\n",
       "      <td>VA</td>\n",
       "      <td>Temporarily Idled</td>\n",
       "    </tr>\n",
       "    <tr>\n",
       "      <th>12</th>\n",
       "      <td>C</td>\n",
       "      <td>4407270</td>\n",
       "      <td>Coal (Bituminous)</td>\n",
       "      <td>Surface Mine No. 1</td>\n",
       "      <td>Surface</td>\n",
       "      <td>PB Dirt Movers, Inc</td>\n",
       "      <td>VA</td>\n",
       "      <td>NonProducing</td>\n",
       "    </tr>\n",
       "    <tr>\n",
       "      <th>13</th>\n",
       "      <td>M</td>\n",
       "      <td>0203332</td>\n",
       "      <td>Construction Sand and Gravel</td>\n",
       "      <td>Sandretto Drive</td>\n",
       "      <td>Surface</td>\n",
       "      <td>Prescott Dirt, LLC</td>\n",
       "      <td>AZ</td>\n",
       "      <td>Intermittent</td>\n",
       "    </tr>\n",
       "    <tr>\n",
       "      <th>14</th>\n",
       "      <td>M</td>\n",
       "      <td>2901986</td>\n",
       "      <td>Construction Sand and Gravel</td>\n",
       "      <td>R D BLANKENSHIP DIRT WORK</td>\n",
       "      <td>Surface</td>\n",
       "      <td>R D Blankenship Dirt Work LLC</td>\n",
       "      <td>NM</td>\n",
       "      <td>Active</td>\n",
       "    </tr>\n",
       "    <tr>\n",
       "      <th>15</th>\n",
       "      <td>M</td>\n",
       "      <td>4300768</td>\n",
       "      <td>Construction Sand and Gravel</td>\n",
       "      <td>Pettibone Jaw Crusher</td>\n",
       "      <td>Surface</td>\n",
       "      <td>SIMPSON DIRTWORX LLC</td>\n",
       "      <td>VT</td>\n",
       "      <td>Intermittent</td>\n",
       "    </tr>\n",
       "    <tr>\n",
       "      <th>16</th>\n",
       "      <td>M</td>\n",
       "      <td>4300776</td>\n",
       "      <td>Construction Sand and Gravel</td>\n",
       "      <td>Chieftan 1400</td>\n",
       "      <td>Surface</td>\n",
       "      <td>SIMPSON DIRTWORX LLC</td>\n",
       "      <td>VT</td>\n",
       "      <td>Intermittent</td>\n",
       "    </tr>\n",
       "    <tr>\n",
       "      <th>17</th>\n",
       "      <td>M</td>\n",
       "      <td>2302283</td>\n",
       "      <td>Construction Sand and Gravel</td>\n",
       "      <td>Mike's Money Pit</td>\n",
       "      <td>Surface</td>\n",
       "      <td>Spry's Dirt &amp; Gravel, Inc.</td>\n",
       "      <td>MO</td>\n",
       "      <td>Intermittent</td>\n",
       "    </tr>\n",
       "    <tr>\n",
       "      <th>18</th>\n",
       "      <td>M</td>\n",
       "      <td>2103518</td>\n",
       "      <td>Construction Sand and Gravel</td>\n",
       "      <td>Crusher</td>\n",
       "      <td>Surface</td>\n",
       "      <td>Vogt Dirt Service</td>\n",
       "      <td>MN</td>\n",
       "      <td>Intermittent</td>\n",
       "    </tr>\n",
       "  </tbody>\n",
       "</table>\n",
       "</div>"
      ],
      "text/plain": [
       "   COM       ID                      commodity  \\\n",
       "0    M  3503598      Crushed, Broken Stone NEC   \n",
       "1    M  4801789   Construction Sand and Gravel   \n",
       "2    M  5001797   Construction Sand and Gravel   \n",
       "3    M  4608254  Crushed, Broken Limestone NEC   \n",
       "4    M  2103723   Construction Sand and Gravel   \n",
       "5    M  4104757   Construction Sand and Gravel   \n",
       "6    M  0801306                   Sand, Common   \n",
       "7    M  3901432   Construction Sand and Gravel   \n",
       "8    M  3609624   Construction Sand and Gravel   \n",
       "9    M  3609931            Dimension Stone NEC   \n",
       "10   C  1519799              Coal (Bituminous)   \n",
       "11   C  4407296              Coal (Bituminous)   \n",
       "12   C  4407270              Coal (Bituminous)   \n",
       "13   M  0203332   Construction Sand and Gravel   \n",
       "14   M  2901986   Construction Sand and Gravel   \n",
       "15   M  4300768   Construction Sand and Gravel   \n",
       "16   M  4300776   Construction Sand and Gravel   \n",
       "17   M  2302283   Construction Sand and Gravel   \n",
       "18   M  2103518   Construction Sand and Gravel   \n",
       "\n",
       "                              mine    mine_type  \\\n",
       "0              Newberg Rock & Dirt      Surface   \n",
       "1   AM Dirtworks & Aggregate Sales      Surface   \n",
       "2                       Bush Pilot      Surface   \n",
       "3                  Hog Lick Quarry      Surface   \n",
       "4                  Rock Lake Plant      Surface   \n",
       "5                      Portable #1      Surface   \n",
       "6                   River Road Pit      Surface   \n",
       "7                PORTABLE SCREENER      Surface   \n",
       "8                       Forbes Pit      Surface   \n",
       "9                  Camptown Quarry      Surface   \n",
       "10               Fedscreek Surface      Surface   \n",
       "11                      Mine No. 6  Underground   \n",
       "12              Surface Mine No. 1      Surface   \n",
       "13                 Sandretto Drive      Surface   \n",
       "14       R D BLANKENSHIP DIRT WORK      Surface   \n",
       "15           Pettibone Jaw Crusher      Surface   \n",
       "16                   Chieftan 1400      Surface   \n",
       "17                Mike's Money Pit      Surface   \n",
       "18                         Crusher      Surface   \n",
       "\n",
       "                          operator state             status  \n",
       "0              Newberg Rock & Dirt    OR             Active  \n",
       "1   AM Dirtworks & Aggregate Sales    ND       Intermittent  \n",
       "2                     Dirt Company    AK       Intermittent  \n",
       "3                         Dirt Con    WV  Temporarily Idled  \n",
       "4                  Dirt Doctor Inc    MN       Intermittent  \n",
       "5                       Dirt Works    TX       Intermittent  \n",
       "6         Holley Dirt Company, Inc    FL             Active  \n",
       "7   Krueger Brothers Gravel & Dirt    SD       Intermittent  \n",
       "8                         M R Dirt    PA       Intermittent  \n",
       "9                   M.R. Dirt Inc.    PA       Intermittent  \n",
       "10            P B Dirt Movers, Inc    KY             Active  \n",
       "11                  PB Dirt Movers    VA  Temporarily Idled  \n",
       "12             PB Dirt Movers, Inc    VA       NonProducing  \n",
       "13              Prescott Dirt, LLC    AZ       Intermittent  \n",
       "14   R D Blankenship Dirt Work LLC    NM             Active  \n",
       "15            SIMPSON DIRTWORX LLC    VT       Intermittent  \n",
       "16            SIMPSON DIRTWORX LLC    VT       Intermittent  \n",
       "17      Spry's Dirt & Gravel, Inc.    MO       Intermittent  \n",
       "18               Vogt Dirt Service    MN       Intermittent  "
      ]
     },
     "execution_count": 13,
     "metadata": {},
     "output_type": "execute_result"
    }
   ],
   "source": [
    "df = pd.DataFrame(all_info)\n",
    "df.to_csv(\"Mine_info.csv\" , index = False)\n",
    "df"
   ]
  },
  {
   "cell_type": "markdown",
   "metadata": {},
   "source": [
    "### Open the CSV file and examine the first few. Make sure you didn't save an extra weird unnamed column."
   ]
  },
  {
   "cell_type": "code",
   "execution_count": 14,
   "metadata": {},
   "outputs": [
    {
     "data": {
      "text/html": [
       "<div>\n",
       "<style>\n",
       "    .dataframe thead tr:only-child th {\n",
       "        text-align: right;\n",
       "    }\n",
       "\n",
       "    .dataframe thead th {\n",
       "        text-align: left;\n",
       "    }\n",
       "\n",
       "    .dataframe tbody tr th {\n",
       "        vertical-align: top;\n",
       "    }\n",
       "</style>\n",
       "<table border=\"1\" class=\"dataframe\">\n",
       "  <thead>\n",
       "    <tr style=\"text-align: right;\">\n",
       "      <th></th>\n",
       "      <th>COM</th>\n",
       "      <th>ID</th>\n",
       "      <th>commodity</th>\n",
       "      <th>mine</th>\n",
       "      <th>mine_type</th>\n",
       "      <th>operator</th>\n",
       "      <th>state</th>\n",
       "      <th>status</th>\n",
       "    </tr>\n",
       "  </thead>\n",
       "  <tbody>\n",
       "    <tr>\n",
       "      <th>0</th>\n",
       "      <td>M</td>\n",
       "      <td>3503598</td>\n",
       "      <td>Crushed, Broken Stone NEC</td>\n",
       "      <td>Newberg Rock &amp; Dirt</td>\n",
       "      <td>Surface</td>\n",
       "      <td>Newberg Rock &amp; Dirt</td>\n",
       "      <td>OR</td>\n",
       "      <td>Active</td>\n",
       "    </tr>\n",
       "    <tr>\n",
       "      <th>1</th>\n",
       "      <td>M</td>\n",
       "      <td>4801789</td>\n",
       "      <td>Construction Sand and Gravel</td>\n",
       "      <td>AM Dirtworks &amp; Aggregate Sales</td>\n",
       "      <td>Surface</td>\n",
       "      <td>AM Dirtworks &amp; Aggregate Sales</td>\n",
       "      <td>ND</td>\n",
       "      <td>Intermittent</td>\n",
       "    </tr>\n",
       "    <tr>\n",
       "      <th>2</th>\n",
       "      <td>M</td>\n",
       "      <td>5001797</td>\n",
       "      <td>Construction Sand and Gravel</td>\n",
       "      <td>Bush Pilot</td>\n",
       "      <td>Surface</td>\n",
       "      <td>Dirt Company</td>\n",
       "      <td>AK</td>\n",
       "      <td>Intermittent</td>\n",
       "    </tr>\n",
       "    <tr>\n",
       "      <th>3</th>\n",
       "      <td>M</td>\n",
       "      <td>4608254</td>\n",
       "      <td>Crushed, Broken Limestone NEC</td>\n",
       "      <td>Hog Lick Quarry</td>\n",
       "      <td>Surface</td>\n",
       "      <td>Dirt Con</td>\n",
       "      <td>WV</td>\n",
       "      <td>Temporarily Idled</td>\n",
       "    </tr>\n",
       "    <tr>\n",
       "      <th>4</th>\n",
       "      <td>M</td>\n",
       "      <td>2103723</td>\n",
       "      <td>Construction Sand and Gravel</td>\n",
       "      <td>Rock Lake Plant</td>\n",
       "      <td>Surface</td>\n",
       "      <td>Dirt Doctor Inc</td>\n",
       "      <td>MN</td>\n",
       "      <td>Intermittent</td>\n",
       "    </tr>\n",
       "  </tbody>\n",
       "</table>\n",
       "</div>"
      ],
      "text/plain": [
       "  COM       ID                      commodity                            mine  \\\n",
       "0   M  3503598      Crushed, Broken Stone NEC             Newberg Rock & Dirt   \n",
       "1   M  4801789   Construction Sand and Gravel  AM Dirtworks & Aggregate Sales   \n",
       "2   M  5001797   Construction Sand and Gravel                      Bush Pilot   \n",
       "3   M  4608254  Crushed, Broken Limestone NEC                 Hog Lick Quarry   \n",
       "4   M  2103723   Construction Sand and Gravel                 Rock Lake Plant   \n",
       "\n",
       "  mine_type                        operator state             status  \n",
       "0   Surface             Newberg Rock & Dirt    OR             Active  \n",
       "1   Surface  AM Dirtworks & Aggregate Sales    ND       Intermittent  \n",
       "2   Surface                    Dirt Company    AK       Intermittent  \n",
       "3   Surface                        Dirt Con    WV  Temporarily Idled  \n",
       "4   Surface                 Dirt Doctor Inc    MN       Intermittent  "
      ]
     },
     "execution_count": 14,
     "metadata": {},
     "output_type": "execute_result"
    }
   ],
   "source": [
    "df.head()"
   ]
  }
 ],
 "metadata": {
  "kernelspec": {
   "display_name": "Python 3",
   "language": "python",
   "name": "python3"
  },
  "language_info": {
   "codemirror_mode": {
    "name": "ipython",
    "version": 3
   },
   "file_extension": ".py",
   "mimetype": "text/x-python",
   "name": "python",
   "nbconvert_exporter": "python",
   "pygments_lexer": "ipython3",
   "version": "3.6.1"
  }
 },
 "nbformat": 4,
 "nbformat_minor": 2
}
