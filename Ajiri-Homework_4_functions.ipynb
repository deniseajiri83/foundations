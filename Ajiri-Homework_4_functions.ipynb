{
 "cells": [
  {
   "cell_type": "markdown",
   "metadata": {},
   "source": [
    "## homework 4: part two: investigating lists and dictionaries\n",
    "In this assignment I will ask you to pick five relatively short texts (poems, paragraphs, short essays, song lyrics, whatever interests you). The main thing is to make sure that each text is around 10 - 20 lines or sentences long. Below, I have selected five poems by Wallace Stevens. In each cell I have made a variable that contains each poem, and then I pass that poem through a function called `text_to_dict` that makes a dictionary for each poem. The dictionary contains the title of the poem, the full text as one string, and a list that contains each line of the poem. The function will also make lists of sentences instead of lines if you want to investigate a prose text (sentence by sentence) instead of a poem (line by line).\n",
    "\n",
    "There are two parts of this assignment. \n",
    "\n",
    "**Part 1**, which should be easy, is to replace the poems with texts of your own choice--and choose to split them by lines or sentences. \n",
    "\n",
    "**Part 2** is to write functions that and investigate your texts. If you want to focus on the functions first, you can go straight to Part 2 and use the pomes I have chosen. You can then go back and enter your own texts--your functions should work no matter what text you've chosen.\n"
   ]
  },
  {
   "cell_type": "code",
   "execution_count": 1,
   "metadata": {
    "collapsed": true
   },
   "outputs": [],
   "source": [
    "#Run this cell toImport regular expressions\n",
    "#And to initialize the all texts list that will contain all of your dictionaries of text\n",
    "import re\n",
    "all_texts = []\n",
    "import statistics"
   ]
  },
  {
   "cell_type": "markdown",
   "metadata": {},
   "source": [
    "** understanding the text_to_dict function**\n",
    "\n",
    "You don't have to completely understand this function to use it, but you do need to understand its parameters. It takes three parameters:\n",
    "* `title` is a string you need to write inside function's parameters\n",
    "* `text` is the variable that holds the entire text\n",
    "* `poem` True/False parameter --if it is true it will split your text by line (`\\n`) \n",
    " \tIf it is false it will split your text by sentence ('[.?!])\n",
    "\n",
    "If you look at the function you will see that it builds a dictionary with the following fields:\n",
    "* `title` is the title of the text\n",
    "* `text` is the full text as a string\n",
    "* `lines` is a list of lines or sentences\n",
    "\n",
    "It returns a dictionary with those fields."
   ]
  },
  {
   "cell_type": "code",
   "execution_count": 2,
   "metadata": {
    "collapsed": true
   },
   "outputs": [],
   "source": [
    "def text_to_dict(title,text,poem):\n",
    "    dict_of_this_text = {}\n",
    "    dict_of_this_text['title'] = title\n",
    "    dict_of_this_text['alltext'] = text\n",
    "    if poem:\n",
    "        text_to_list = text.strip().split('\\n')\n",
    "    else:\n",
    "        text_to_list = re.split(r\"[.?!]\",text)\n",
    "    dict_of_this_text['lines'] = text_to_list\n",
    "    return dict_of_this_text"
   ]
  },
  {
   "cell_type": "markdown",
   "metadata": {},
   "source": [
    "## Part One\n",
    "\n",
    "The next five cells are exactly the same. They define five different texts, and then they pass each text through the `text_to_dict` function. And then they add the resulting dictionary to the all_texts list. \n",
    "\n",
    "In the five cells below enter your five selected texts.\n",
    "\n",
    "**You should do no coding at any point** until the very last cell before part two."
   ]
  },
  {
   "cell_type": "code",
   "execution_count": 3,
   "metadata": {
    "collapsed": true
   },
   "outputs": [],
   "source": [
    "#To change the text, just put a new text between the quotation mark\n",
    "text0 = '''\n",
    "I can write no stately proem\n",
    "As a prelude to my lay;\n",
    "From a poet to a poem\n",
    "I would dare to say.\n",
    "For if of these fallen petals\n",
    "One to you seem fair,\n",
    "Love will waft it till it settles\n",
    "On your hair.\n",
    "And when wind and winter harden\n",
    "All the loveless land,\n",
    "It will whisper of the garden,\n",
    "You will understand.\n",
    "'''\n",
    "#Remember: you need to type the title into the first parameter\n",
    "#If you want to split by line choose True for the third parameter\n",
    "#If you want to split by sentence, choose False\n",
    "transform_it = text_to_dict(\"To My Wife\",text0,True)\n",
    "all_texts.append(transform_it)"
   ]
  },
  {
   "cell_type": "code",
   "execution_count": 4,
   "metadata": {
    "collapsed": true
   },
   "outputs": [],
   "source": [
    "text1 = '''\n",
    "I am not jealous\n",
    "of what came before me.\n",
    "Come with a man \n",
    "on your shoulders,\n",
    "come with a hundred men in your hair,\n",
    "come with a thousand men between your breasts and your feet,\n",
    "come like a river\n",
    "full of drowned men\n",
    "which flows down to the wild sea,\n",
    "to the eternal surf, to Time!\n",
    "Bring them all\n",
    "to where I am waiting for you;\n",
    "we shall always be alone,\n",
    "we shall always be you and I\n",
    "alone on earth\n",
    "to start our life!\n",
    "'''\n",
    "transform_it = text_to_dict(\"Always\",text1,True)\n",
    "all_texts.append(transform_it)"
   ]
  },
  {
   "cell_type": "code",
   "execution_count": 5,
   "metadata": {
    "collapsed": true
   },
   "outputs": [],
   "source": [
    "text2 = '''\n",
    "Drunk as drunk on turpentine\n",
    "From your open kisses,\n",
    "Your wet body wedged\n",
    "Between my wet body and the strake\n",
    "Of our boat that is made of flowers,\n",
    "Feasted, we guide it - our fingers\n",
    "Like tallows adorned with yellow metal -\n",
    "Over the sky's hot rim,\n",
    "The day's last breath in our sails.\n",
    "Pinned by the sun between solstice\n",
    "And equinox, drowsy and tangled together\n",
    "We drifted for months and woke\n",
    "With the bitter taste of land on our lips,\n",
    "Eyelids all sticky, and we longed for lime\n",
    "And the sound of a rope\n",
    "Lowering a bucket down its well. Then,\n",
    "We came by night to the Fortunate Isles,\n",
    "And lay like fish\n",
    "Under the net of our kisses.\n",
    "'''\n",
    "transform_it = text_to_dict(\"Drunk As Drunk\",text2,True)\n",
    "all_texts.append(transform_it)"
   ]
  },
  {
   "cell_type": "code",
   "execution_count": 6,
   "metadata": {
    "collapsed": true
   },
   "outputs": [],
   "source": [
    "text3 = '''\n",
    "O tower of light, sad beauty\n",
    "that magnified necklaces and statues in the sea,\n",
    "calcareous eye, insignia of the vast waters, cry\n",
    "of the mourning petrel, tooth of the sea, wife\n",
    "of the Oceanian wind, O separate rose\n",
    "from the long stem of the trampled bush\n",
    "that the depths, converted into archipelago,\n",
    "O natural star, green diadem,\n",
    "alone in your lonesome dynasty,\n",
    "still unattainable, elusive, desolate\n",
    "like one drop, like one grape, like the sea.\n",
    "'''\n",
    "transform_it = text_to_dict(\"Tower of Light\",text3,True)\n",
    "all_texts.append(transform_it)"
   ]
  },
  {
   "cell_type": "code",
   "execution_count": 7,
   "metadata": {
    "collapsed": true
   },
   "outputs": [],
   "source": [
    "text4 = '''\n",
    "Two crowned Kings, and One that stood alone\n",
    "With no green weight of laurels round his head,\n",
    "But with sad eyes as one uncomforted,\n",
    "And wearied with man's never-ceasing moan\n",
    "For sins no bleating victim can atone,\n",
    "And sweet long lips with tears and kisses fed.\n",
    "Girt was he in a garment black and red,\n",
    "And at his feet I marked a broken stone\n",
    "Which sent up lilies, dove-like, to his knees.\n",
    "Now at their sight, my heart being lit with flame,\n",
    "I cried to Beatrice, 'Who are these?'\n",
    "And she made answer, knowing well each name,\n",
    "'AEschylos first, the second Sophokles,\n",
    "And last (wide stream of tears!) Euripides.'\n",
    "'''\n",
    "transform_it = text_to_dict(\"A Vision\",text4,True)\n",
    "all_texts.append(transform_it)"
   ]
  },
  {
   "cell_type": "markdown",
   "metadata": {},
   "source": [
    "Run the two cells below to confirm that first, you only have five texts in the all_texts list, and next, look at the all_texts list to see the dictionary inside it. "
   ]
  },
  {
   "cell_type": "code",
   "execution_count": 8,
   "metadata": {},
   "outputs": [
    {
     "data": {
      "text/plain": [
       "5"
      ]
     },
     "execution_count": 8,
     "metadata": {},
     "output_type": "execute_result"
    }
   ],
   "source": [
    "len(all_texts)"
   ]
  },
  {
   "cell_type": "code",
   "execution_count": 106,
   "metadata": {},
   "outputs": [
    {
     "data": {
      "text/plain": [
       "dict_keys(['title', 'alltext', 'lines'])"
      ]
     },
     "execution_count": 106,
     "metadata": {},
     "output_type": "execute_result"
    }
   ],
   "source": [
    "all_texts[0].keys()"
   ]
  },
  {
   "cell_type": "markdown",
   "metadata": {},
   "source": [
    "In the cell below, loop through all_texts and print out the title of each text. (This is the only code you need to write for Part One.)"
   ]
  },
  {
   "cell_type": "code",
   "execution_count": 115,
   "metadata": {},
   "outputs": [
    {
     "name": "stdout",
     "output_type": "stream",
     "text": [
      "To My Wife\n",
      "-\n",
      "Always\n",
      "-\n",
      "Drunk As Drunk\n",
      "-\n",
      "Tower of Light\n",
      "-\n",
      "A Vision\n",
      "-\n"
     ]
    }
   ],
   "source": [
    "for poems in all_texts:\n",
    "    print(poems['title'])\n",
    "    print(\"-\")"
   ]
  },
  {
   "cell_type": "code",
   "execution_count": 11,
   "metadata": {
    "collapsed": true
   },
   "outputs": [],
   "source": [
    "#   for poems in all_texts:\n",
    "#     print(poems['title'])\n",
    "#     print(\"-\")\n",
    "#     for line in poems['lines']:\n",
    "#         print(line)\n",
    "#     print(\"***************\")"
   ]
  },
  {
   "cell_type": "markdown",
   "metadata": {},
   "source": [
    "## Part Two:  searching within lists and dictionaries\n",
    "In this part, we will be searching through each text and printing out a desired result. The searches, including loops and printing should all be defined in the function. The second cell should just have to function call that executes the function. I have written an example function and call for the first search. For each function that you write you should copy the original function and modify it so what does what I ask for.\n",
    "\n",
    "For the first five functions, there are no parameters passed to the functions--the calls will just execute the function. Go step-by-step and take your time."
   ]
  },
  {
   "cell_type": "code",
   "execution_count": 12,
   "metadata": {
    "collapsed": true
   },
   "outputs": [],
   "source": [
    "#all_texts is a list of dictionaries.\n",
    "def get_lengths():\n",
    "    for text in all_texts:\n",
    "        print(text['title'])\n",
    "        print('This poem has' , len(text['alltext']), 'characters.')\n",
    "        print('This poem has', len(text['lines']), 'lines')\n",
    "        print(\"------------\")"
   ]
  },
  {
   "cell_type": "code",
   "execution_count": 13,
   "metadata": {},
   "outputs": [
    {
     "name": "stdout",
     "output_type": "stream",
     "text": [
      "To My Wife\n",
      "This poem has 304 characters.\n",
      "This poem has 12 lines\n",
      "------------\n",
      "Always\n",
      "This poem has 414 characters.\n",
      "This poem has 16 lines\n",
      "------------\n",
      "Drunk As Drunk\n",
      "This poem has 626 characters.\n",
      "This poem has 19 lines\n",
      "------------\n",
      "Tower of Light\n",
      "This poem has 443 characters.\n",
      "This poem has 11 lines\n",
      "------------\n",
      "A Vision\n",
      "This poem has 605 characters.\n",
      "This poem has 14 lines\n",
      "------------\n"
     ]
    }
   ],
   "source": [
    "get_lengths()"
   ]
  },
  {
   "cell_type": "markdown",
   "metadata": {},
   "source": [
    "Question 1\n",
    "Now write a function that gets the **line count for each poem** (or sentence count for each piece of prose). This function is going to be very similar to the last one. Instead of accessing the whole text via text['alltext'] which is a string, you need to access the list of lines/sentences and get the length of that list. Everything else should be the same."
   ]
  },
  {
   "cell_type": "code",
   "execution_count": 14,
   "metadata": {
    "collapsed": true
   },
   "outputs": [],
   "source": [
    "def get_line_count():\n",
    "    for text in all_texts:\n",
    "        print(\"This poem has\", len(text['lines']), \"lines.\")\n",
    "        print(\"-----------\")\n",
    "        "
   ]
  },
  {
   "cell_type": "code",
   "execution_count": 15,
   "metadata": {},
   "outputs": [
    {
     "name": "stdout",
     "output_type": "stream",
     "text": [
      "This poem has 12 lines.\n",
      "-----------\n",
      "This poem has 16 lines.\n",
      "-----------\n",
      "This poem has 19 lines.\n",
      "-----------\n",
      "This poem has 11 lines.\n",
      "-----------\n",
      "This poem has 14 lines.\n",
      "-----------\n"
     ]
    }
   ],
   "source": [
    "get_line_count()"
   ]
  },
  {
   "cell_type": "markdown",
   "metadata": {},
   "source": [
    "Question 2\n",
    "Now write a function that prints out a **random line or sentence from each text**. Again, this function will look much the same as the last ones, but instead of getting numbers you need to get actual lines. I have included the necessary import and an example of how to get random integers. Basically, for each text you need to get one element from the list of lines/ sentences with a random number between 0 and the length of the list."
   ]
  },
  {
   "cell_type": "code",
   "execution_count": 16,
   "metadata": {
    "collapsed": true
   },
   "outputs": [],
   "source": [
    "#Write your function here name it show_random_lines()\n",
    "#This should be inside the inner loop \n",
    "#so you get a fresh random number for each text\n",
    "#And it should not be from 0 to 9, but 0 to what?\n",
    "#random_num = randint(0, 9)"
   ]
  },
  {
   "cell_type": "code",
   "execution_count": 116,
   "metadata": {
    "collapsed": true
   },
   "outputs": [],
   "source": [
    "from random import randint\n",
    "def show_random_lines():\n",
    "    for text in all_texts:\n",
    "        random_num = randint(1, 11)\n",
    "        print(random_num)\n",
    "        print (text['lines'][random_num])\n",
    "        print(\"-----------\")"
   ]
  },
  {
   "cell_type": "code",
   "execution_count": 117,
   "metadata": {},
   "outputs": [
    {
     "name": "stdout",
     "output_type": "stream",
     "text": [
      "10\n",
      "It will whisper of the garden,\n",
      "-----------\n",
      "4\n",
      "come with a hundred men in your hair,\n",
      "-----------\n",
      "7\n",
      "Over the sky's hot rim,\n",
      "-----------\n",
      "2\n",
      "calcareous eye, insignia of the vast waters, cry\n",
      "-----------\n",
      "5\n",
      "And sweet long lips with tears and kisses fed.\n",
      "-----------\n"
     ]
    }
   ],
   "source": [
    "show_random_lines()"
   ]
  },
  {
   "cell_type": "markdown",
   "metadata": {},
   "source": [
    "Question 3\n",
    "This is a little bit different--instead of printing out something from each text, I want you to **print the entire text of the longest text**. Remember in the first function, I printed out the length of each text. Well, you need to test for the longest text as you look through and when you're done looping through print out the one that is longest.\n",
    "\n",
    "**Major hints!**: To do this you will need a counter variable (count = 0) set before the loop runs, and you will also need a text variable (longest_text = '') that you set before the loop. When you loop through you need to test if each text was longer than the last one, and if it is longer--you update count and longest_text to reflect the highest count, and the actual text. When the loop is over you then print out that longest_text string."
   ]
  },
  {
   "cell_type": "code",
   "execution_count": 118,
   "metadata": {
    "collapsed": true
   },
   "outputs": [],
   "source": [
    "#WDrunk as Drunk\n",
    "def longest_text():\n",
    "    count = 0\n",
    "    longest_text = ''\n",
    "    for text in all_texts:\n",
    "        if len(text['alltext']) > count:\n",
    "            count = len(text['alltext'])\n",
    "            longest_text = text['alltext']\n",
    "            longest_text_title = text['title']\n",
    "    print(longest_text_title, longest_text)\n",
    "    "
   ]
  },
  {
   "cell_type": "code",
   "execution_count": 119,
   "metadata": {},
   "outputs": [
    {
     "name": "stdout",
     "output_type": "stream",
     "text": [
      "Drunk As Drunk \n",
      "Drunk as drunk on turpentine\n",
      "From your open kisses,\n",
      "Your wet body wedged\n",
      "Between my wet body and the strake\n",
      "Of our boat that is made of flowers,\n",
      "Feasted, we guide it - our fingers\n",
      "Like tallows adorned with yellow metal -\n",
      "Over the sky's hot rim,\n",
      "The day's last breath in our sails.\n",
      "Pinned by the sun between solstice\n",
      "And equinox, drowsy and tangled together\n",
      "We drifted for months and woke\n",
      "With the bitter taste of land on our lips,\n",
      "Eyelids all sticky, and we longed for lime\n",
      "And the sound of a rope\n",
      "Lowering a bucket down its well. Then,\n",
      "We came by night to the Fortunate Isles,\n",
      "And lay like fish\n",
      "Under the net of our kisses.\n",
      "\n"
     ]
    }
   ],
   "source": [
    "longest_text()"
   ]
  },
  {
   "cell_type": "markdown",
   "metadata": {},
   "source": [
    "Question 4\n",
    "This is kind of a combination of the first two functions--write a function that gets the **average line/sentence length for each text**."
   ]
  },
  {
   "cell_type": "code",
   "execution_count": 120,
   "metadata": {
    "collapsed": true
   },
   "outputs": [],
   "source": [
    "def average_line_length():\n",
    "    for text in all_texts:\n",
    "        average = len(text['alltext'])/len(text['lines'])\n",
    "        print(average)"
   ]
  },
  {
   "cell_type": "code",
   "execution_count": 121,
   "metadata": {},
   "outputs": [
    {
     "name": "stdout",
     "output_type": "stream",
     "text": [
      "25.333333333333332\n",
      "25.875\n",
      "32.94736842105263\n",
      "40.27272727272727\n",
      "43.214285714285715\n"
     ]
    }
   ],
   "source": [
    "average_line_length()"
   ]
  },
  {
   "cell_type": "markdown",
   "metadata": {},
   "source": [
    "Question 5\n",
    "**Print the longest line/sentence in each text**. \n",
    "This is similar to question 3--but your counter, and your string variable need to be placed right before the inside loop--and then you print the lines each time the inside loop ends."
   ]
  },
  {
   "cell_type": "code",
   "execution_count": 122,
   "metadata": {
    "collapsed": true
   },
   "outputs": [],
   "source": [
    "def longest_line_in_each():\n",
    "    for text in all_texts:\n",
    "        poem_as_string = text['lines']\n",
    "        length= 0\n",
    "        longest_poem = \"\"\n",
    "        for sentence in poem_as_string:\n",
    "            if len(sentence) > length:\n",
    "                length = (len(sentence))\n",
    "                longest_poem = sentence\n",
    "        print(longest_poem)\n",
    "        print('--------')"
   ]
  },
  {
   "cell_type": "code",
   "execution_count": 123,
   "metadata": {},
   "outputs": [
    {
     "name": "stdout",
     "output_type": "stream",
     "text": [
      "Love will waft it till it settles\n",
      "--------\n",
      "come with a thousand men between your breasts and your feet,\n",
      "--------\n",
      "With the bitter taste of land on our lips,\n",
      "--------\n",
      "that magnified necklaces and statues in the sea,\n",
      "--------\n",
      "Now at their sight, my heart being lit with flame,\n",
      "--------\n"
     ]
    }
   ],
   "source": [
    "longest_line_in_each()"
   ]
  },
  {
   "cell_type": "markdown",
   "metadata": {},
   "source": [
    "Question 6\n",
    "**Print the shortest single line/sentence out of all of the texts that is greater than zero**\n",
    "This is the tricky-ish: You need to place a counter and empty string outside the loop (like question 4, but the loop through all of the lines, test for the shortest one (greater than 0)."
   ]
  },
  {
   "cell_type": "code",
   "execution_count": 125,
   "metadata": {},
   "outputs": [],
   "source": [
    "def shortest_of_all_lines():\n",
    "    length= 100\n",
    "    shortest_line = \"\"\n",
    "    for text in all_texts:\n",
    "        poem_as_string = text['lines']\n",
    "        for sentence in poem_as_string:\n",
    "            if len(sentence) > 0 and len(sentence) < length:\n",
    "                shortest_line = sentence\n",
    "                length = len(sentence)\n",
    "    print(shortest_line)"
   ]
  },
  {
   "cell_type": "code",
   "execution_count": 126,
   "metadata": {},
   "outputs": [
    {
     "name": "stdout",
     "output_type": "stream",
     "text": [
      "On your hair.\n"
     ]
    }
   ],
   "source": [
    "shortest_of_all_lines()"
   ]
  },
  {
   "cell_type": "markdown",
   "metadata": {},
   "source": [
    "## searching with regular expressions\n",
    "In the functions below you will search all the texts using regular expressions. The first few of these functions should not be too challenging--you just need to adjust the regular expression inside the function. At points it gets a little more complex as you have to control the looping through the lists and dictionaries."
   ]
  },
  {
   "cell_type": "code",
   "execution_count": 127,
   "metadata": {
    "collapsed": true
   },
   "outputs": [],
   "source": [
    "def get_this_word(word):\n",
    "    my_regex = r\"\\b\" + word + r\"\\b\"\n",
    "    for text in all_texts:\n",
    "        result = [line for line in text['lines'] if re.search(my_regex, line, re.IGNORECASE)]\n",
    "        if len(result) > 0:\n",
    "            print(text['title'])\n",
    "            [print(line) for line in result]\n",
    "            print(\"------------\")\n",
    "            "
   ]
  },
  {
   "cell_type": "code",
   "execution_count": 131,
   "metadata": {},
   "outputs": [
    {
     "name": "stdout",
     "output_type": "stream",
     "text": [
      "Drunk As Drunk\n",
      "From your open kisses,\n",
      "Under the net of our kisses.\n",
      "------------\n",
      "A Vision\n",
      "And sweet long lips with tears and kisses fed.\n",
      "------------\n"
     ]
    }
   ],
   "source": [
    "get_this_word('kisses')"
   ]
  },
  {
   "cell_type": "markdown",
   "metadata": {},
   "source": [
    "Question 7\n",
    "Print out the lines that start with the word entered.  You just need to adjust the regular expression here."
   ]
  },
  {
   "cell_type": "code",
   "execution_count": 132,
   "metadata": {
    "collapsed": true
   },
   "outputs": [],
   "source": [
    "def line_starts_with(word):\n",
    "    my_regex = r\"^\" + word + r\"\\b\"\n",
    "    for text in all_texts:\n",
    "        result = [line for line in text['lines'] if re.search(my_regex, line, re.IGNORECASE)]\n",
    "        if len(result) > 0:\n",
    "            [print(line) for line in result]\n",
    "            print(\"------------\")"
   ]
  },
  {
   "cell_type": "code",
   "execution_count": 133,
   "metadata": {},
   "outputs": [
    {
     "name": "stdout",
     "output_type": "stream",
     "text": [
      "From a poet to a poem\n",
      "------------\n",
      "From your open kisses,\n",
      "------------\n",
      "from the long stem of the trampled bush\n",
      "------------\n"
     ]
    }
   ],
   "source": [
    "line_starts_with('from')"
   ]
  },
  {
   "cell_type": "markdown",
   "metadata": {},
   "source": [
    "Question 8\n",
    "Print out the lines that end with the word entered.  You just need to adjust the regular expression here."
   ]
  },
  {
   "cell_type": "code",
   "execution_count": 134,
   "metadata": {
    "collapsed": true
   },
   "outputs": [],
   "source": [
    "def line_ends_with(word):\n",
    "    my_regex = r\"\\b\" + word + r\"\\W+$\"\n",
    "    for text in all_texts:\n",
    "        result = [line for line in text['lines'] if re.search(my_regex, line, re.IGNORECASE)]\n",
    "        if len(result) > 0:\n",
    "            print(text['title'])\n",
    "            [print(line) for line in result]\n",
    "            print(\"------------\")"
   ]
  },
  {
   "cell_type": "code",
   "execution_count": null,
   "metadata": {},
   "outputs": [],
   "source": [
    "line_ends_with('kisses')"
   ]
  },
  {
   "cell_type": "markdown",
   "metadata": {},
   "source": [
    "Question 9\n",
    "Print out **how many times the word was found in each text.** In this case, instead of the list comprehension, you want to run a re.findall() on the string of the text (not the list) and then count the number of elements in the list of results.\n",
    "\n",
    "Hint: use the original function at the beginning of this section, and make the proper adjustments to the variable \"result\""
   ]
  },
  {
   "cell_type": "code",
   "execution_count": 135,
   "metadata": {
    "collapsed": true
   },
   "outputs": [],
   "source": [
    "def how_many_times(word):\n",
    "    my_regex = r\"\\b\" + word + r\"\\b\"\n",
    "    for text in all_texts:\n",
    "        result = re.findall(my_regex, text['alltext'], re.IGNORECASE)\n",
    "        print(text['title'])\n",
    "        print(len(result))\n",
    "        print(\"------------\")"
   ]
  },
  {
   "cell_type": "code",
   "execution_count": 136,
   "metadata": {},
   "outputs": [
    {
     "name": "stdout",
     "output_type": "stream",
     "text": [
      "To My Wife\n",
      "2\n",
      "------------\n",
      "Always\n",
      "2\n",
      "------------\n",
      "Drunk As Drunk\n",
      "8\n",
      "------------\n",
      "Tower of Light\n",
      "9\n",
      "------------\n",
      "A Vision\n",
      "1\n",
      "------------\n"
     ]
    }
   ],
   "source": [
    "how_many_times('the')"
   ]
  },
  {
   "cell_type": "markdown",
   "metadata": {},
   "source": [
    "Question 10\n",
    "Print out **the text that has the highest occurrence of the word** you searched for. This is similar to the last function, but here you need the counter and a mostfreqtext variable better placed outside the loop that you run comparisons on. (See Question 3)\n"
   ]
  },
  {
   "cell_type": "code",
   "execution_count": 139,
   "metadata": {
    "collapsed": true
   },
   "outputs": [],
   "source": [
    "def text_with_most_occurance_of(word):\n",
    "    my_regex = r\"\\b\" + word + r\"\\b\"\n",
    "    count = 0\n",
    "    for text in all_texts:\n",
    "        result = re.findall(my_regex, text['alltext'], re.IGNORECASE)\n",
    "        if(len(result)) > count:\n",
    "            count = len(result)\n",
    "            high_occur = text['alltext']\n",
    "    print(count, high_occur)"
   ]
  },
  {
   "cell_type": "code",
   "execution_count": 140,
   "metadata": {},
   "outputs": [
    {
     "name": "stdout",
     "output_type": "stream",
     "text": [
      "9 \n",
      "O tower of light, sad beauty\n",
      "that magnified necklaces and statues in the sea,\n",
      "calcareous eye, insignia of the vast waters, cry\n",
      "of the mourning petrel, tooth of the sea, wife\n",
      "of the Oceanian wind, O separate rose\n",
      "from the long stem of the trampled bush\n",
      "that the depths, converted into archipelago,\n",
      "O natural star, green diadem,\n",
      "alone in your lonesome dynasty,\n",
      "still unattainable, elusive, desolate\n",
      "like one drop, like one grape, like the sea.\n",
      "\n"
     ]
    }
   ],
   "source": [
    "text_with_most_occurance_of('the')"
   ]
  },
  {
   "cell_type": "markdown",
   "metadata": {},
   "source": [
    "Question 11\n",
    "Print out **lines containing words of the length asked**. We are sort of back to basics here, you just need to modify the regular expression of the first function (get_this_word(word)) so that it can take a number parameter for the late characters in a word."
   ]
  },
  {
   "cell_type": "code",
   "execution_count": 141,
   "metadata": {},
   "outputs": [],
   "source": [
    "def lines_with_words_this_length(num):\n",
    "    my_regex = r\"\\b\\w{\" + num + r\"}\\b\"\n",
    "    for text in all_texts:\n",
    "        result = [line for line in text['lines'] if re.search(my_regex, line, re.IGNORECASE)]\n",
    "        if len(result) > 0:\n",
    "            print(result)\n",
    "            print(\"------------\")"
   ]
  },
  {
   "cell_type": "code",
   "execution_count": 146,
   "metadata": {},
   "outputs": [
    {
     "name": "stdout",
     "output_type": "stream",
     "text": [
      "['You will understand.']\n",
      "------------\n",
      "['Drunk as drunk on turpentine']\n",
      "------------\n",
      "['calcareous eye, insignia of the vast waters, cry']\n",
      "------------\n"
     ]
    }
   ],
   "source": [
    "lines_with_words_this_length('10')"
   ]
  },
  {
   "cell_type": "markdown",
   "metadata": {
    "collapsed": true
   },
   "source": [
    "**Final question:** in this cell, describe two functions that you would like to write, not ones that you're able to write, but ones you think would be useful or interesting or fun."
   ]
  },
  {
   "cell_type": "code",
   "execution_count": null,
   "metadata": {
    "collapsed": true
   },
   "outputs": [],
   "source": [
    "#finding out what's the most used word in each poem. (e.g. the is 'the' most used word in poem one. 'fly' is\n",
    "#the most used word in poem two, etc.)\n",
    "#finding out what's longest'shortest word in each poem."
   ]
  }
 ],
 "metadata": {
  "kernelspec": {
   "display_name": "Python 3",
   "language": "python",
   "name": "python3"
  },
  "language_info": {
   "codemirror_mode": {
    "name": "ipython",
    "version": 3
   },
   "file_extension": ".py",
   "mimetype": "text/x-python",
   "name": "python",
   "nbconvert_exporter": "python",
   "pygments_lexer": "ipython3",
   "version": "3.6.1"
  }
 },
 "nbformat": 4,
 "nbformat_minor": 2
}
