{
 "cells": [
  {
   "cell_type": "code",
   "execution_count": 4,
   "metadata": {
    "collapsed": true
   },
   "outputs": [],
   "source": [
    "from selenium import webdriver\n",
    "from selenium.webdriver.support.ui import Select"
   ]
  },
  {
   "cell_type": "code",
   "execution_count": 5,
   "metadata": {
    "collapsed": true
   },
   "outputs": [],
   "source": [
    "driver = webdriver.Chrome()"
   ]
  },
  {
   "cell_type": "code",
   "execution_count": 6,
   "metadata": {},
   "outputs": [],
   "source": [
    "driver.get(\"http://tse.ir/instrument/%D9%88%D9%BE%D8%A7%D8%B3%D8%A7%D8%B11_IRO1BPAS0001.html\")"
   ]
  },
  {
   "cell_type": "code",
   "execution_count": 8,
   "metadata": {
    "collapsed": true
   },
   "outputs": [],
   "source": [
    "# #Fors Shareholders\n",
    "# search_input = driver.find_element_by_xpath('//*[@id=\"shareHolder\"]/span[1]')\n",
    "# search_input.click()"
   ]
  },
  {
   "cell_type": "code",
   "execution_count": 9,
   "metadata": {
    "collapsed": true
   },
   "outputs": [],
   "source": [
    "#For BoardMembers:\n",
    "search_input = driver.find_element_by_xpath('//*[@id=\"boardMember\"]/span[1]')\n",
    "search_input.click()"
   ]
  },
  {
   "cell_type": "code",
   "execution_count": 10,
   "metadata": {
    "collapsed": true
   },
   "outputs": [],
   "source": [
    "from bs4 import BeautifulSoup\n",
    "doc=BeautifulSoup(driver.page_source, 'html.parser')"
   ]
  },
  {
   "cell_type": "code",
   "execution_count": 264,
   "metadata": {
    "collapsed": true
   },
   "outputs": [],
   "source": [
    "# #To find the shareholders\n",
    "# shareholders = doc.find_all('td', class_=\"ng-binding\")\n",
    "# for shareholder in shareholders:\n",
    "#     print (shareholder.text)"
   ]
  },
  {
   "cell_type": "code",
   "execution_count": null,
   "metadata": {
    "collapsed": true
   },
   "outputs": [],
   "source": []
  },
  {
   "cell_type": "code",
   "execution_count": 265,
   "metadata": {
    "collapsed": true
   },
   "outputs": [],
   "source": [
    "# rows = doc.find_all('tr')\n",
    "# list_of_shareholders = []\n",
    "# for row in rows[1:]:\n",
    "#     current = {}\n",
    "#     current[\"shareholders\"] = row.find_all('td')[0].text\n",
    "#     current[\"numb_of_shares\"] = row.find_all('td')[1].text\n",
    "#     current[\"percentage\"] = row.find_all('td')[2].text\n",
    "#     current[\"change\"] = row.find_all('td')[3].text\n",
    "#     list_of_shareholders.append(current)"
   ]
  },
  {
   "cell_type": "code",
   "execution_count": 273,
   "metadata": {
    "collapsed": true
   },
   "outputs": [],
   "source": [
    "# list_of_shareholders"
   ]
  },
  {
   "cell_type": "code",
   "execution_count": 11,
   "metadata": {
    "collapsed": true
   },
   "outputs": [],
   "source": [
    "#To find Board Members\n",
    "members_list = []\n",
    "BoardMembers = doc.find_all('tr')\n",
    "BoardMembers\n",
    "for BoardMember in BoardMembers[1:]:\n",
    "    current = {}\n",
    "    current['shareholder'] = BoardMember.find_all('td')[0].text\n",
    "    current['Reg_Number'] = BoardMember.find_all('td')[1].text\n",
    "    current['Board_Member'] = Board_Member = BoardMember.find_all('td')[2].text\n",
    "    current['Former_BM'] = BoardMember.find_all('td')[3].text\n",
    "    current['Title'] = BoardMember.find_all('td')[4].text\n",
    "    current['Position'] = BoardMember.find_all('td')[5].text\n",
    "    current['Degree'] = BoardMember.find_all('td')[6].text\n",
    "    members_list.append(current)"
   ]
  },
  {
   "cell_type": "code",
   "execution_count": 12,
   "metadata": {},
   "outputs": [
    {
     "data": {
      "text/plain": [
       "[{'Board_Member': '',\n",
       "  'Degree': 'فوق ليسانس مديريت بازرگاني',\n",
       "  'Former_BM': '',\n",
       "  'Position': 'موظف',\n",
       "  'Reg_Number': '5311',\n",
       "  'Title': 'عضو هیئت مدیره',\n",
       "  'shareholder': 'کامران اختيار'},\n",
       " {'Board_Member': '',\n",
       "  'Degree': 'دکتري اقتصاد',\n",
       "  'Former_BM': '',\n",
       "  'Position': 'موظف',\n",
       "  'Reg_Number': '5313',\n",
       "  'Title': 'نایب رئیس هیئت مدیره',\n",
       "  'shareholder': 'دکتر مجيد قاسمي'},\n",
       " {'Board_Member': '',\n",
       "  'Degree': 'دکتري اقتصاد',\n",
       "  'Former_BM': '',\n",
       "  'Position': 'موظف',\n",
       "  'Reg_Number': '5313',\n",
       "  'Title': 'مدیرعامل و عضو هیئت مدیره',\n",
       "  'shareholder': 'دکتر مجيد قاسمي'},\n",
       " {'Board_Member': '',\n",
       "  'Degree': 'ليسانس حسابداري',\n",
       "  'Former_BM': '',\n",
       "  'Position': 'موظف',\n",
       "  'Reg_Number': '5315',\n",
       "  'Title': 'عضو هیئت مدیره',\n",
       "  'shareholder': 'ذبيح اله خزايي'},\n",
       " {'Board_Member': '',\n",
       "  'Degree': 'فوق ليسانس مديريت و مهندس راه و ساختمان',\n",
       "  'Former_BM': '',\n",
       "  'Position': 'موظف',\n",
       "  'Reg_Number': '5316',\n",
       "  'Title': 'رئیس هیئت مدیره',\n",
       "  'shareholder': 'سيد کاظم ميرولد'},\n",
       " {'Board_Member': '',\n",
       "  'Degree': 'فوق ليسانس مديريت علوم بانکداري',\n",
       "  'Former_BM': '',\n",
       "  'Position': 'موظف',\n",
       "  'Reg_Number': '5317',\n",
       "  'Title': 'عضو هیئت مدیره',\n",
       "  'shareholder': 'احمد وادي دار'},\n",
       " {'Board_Member': '',\n",
       "  'Degree': 'دکتري مديريت و توسعه سازماني',\n",
       "  'Former_BM': '',\n",
       "  'Position': 'غیر موظف',\n",
       "  'Reg_Number': '5318',\n",
       "  'Title': 'عضو هیئت مدیره',\n",
       "  'shareholder': 'داود مجتهد'}]"
      ]
     },
     "execution_count": 12,
     "metadata": {},
     "output_type": "execute_result"
    }
   ],
   "source": [
    "members_list"
   ]
  },
  {
   "cell_type": "code",
   "execution_count": 13,
   "metadata": {},
   "outputs": [
    {
     "data": {
      "text/html": [
       "<div>\n",
       "<style>\n",
       "    .dataframe thead tr:only-child th {\n",
       "        text-align: right;\n",
       "    }\n",
       "\n",
       "    .dataframe thead th {\n",
       "        text-align: left;\n",
       "    }\n",
       "\n",
       "    .dataframe tbody tr th {\n",
       "        vertical-align: top;\n",
       "    }\n",
       "</style>\n",
       "<table border=\"1\" class=\"dataframe\">\n",
       "  <thead>\n",
       "    <tr style=\"text-align: right;\">\n",
       "      <th></th>\n",
       "      <th>Board_Member</th>\n",
       "      <th>Degree</th>\n",
       "      <th>Former_BM</th>\n",
       "      <th>Position</th>\n",
       "      <th>Reg_Number</th>\n",
       "      <th>Title</th>\n",
       "      <th>shareholder</th>\n",
       "    </tr>\n",
       "  </thead>\n",
       "  <tbody>\n",
       "    <tr>\n",
       "      <th>0</th>\n",
       "      <td></td>\n",
       "      <td>فوق ليسانس مديريت بازرگاني</td>\n",
       "      <td></td>\n",
       "      <td>موظف</td>\n",
       "      <td>5311</td>\n",
       "      <td>عضو هیئت مدیره</td>\n",
       "      <td>کامران اختيار</td>\n",
       "    </tr>\n",
       "    <tr>\n",
       "      <th>1</th>\n",
       "      <td></td>\n",
       "      <td>دکتري اقتصاد</td>\n",
       "      <td></td>\n",
       "      <td>موظف</td>\n",
       "      <td>5313</td>\n",
       "      <td>نایب رئیس هیئت مدیره</td>\n",
       "      <td>دکتر مجيد قاسمي</td>\n",
       "    </tr>\n",
       "    <tr>\n",
       "      <th>2</th>\n",
       "      <td></td>\n",
       "      <td>دکتري اقتصاد</td>\n",
       "      <td></td>\n",
       "      <td>موظف</td>\n",
       "      <td>5313</td>\n",
       "      <td>مدیرعامل و عضو هیئت مدیره</td>\n",
       "      <td>دکتر مجيد قاسمي</td>\n",
       "    </tr>\n",
       "    <tr>\n",
       "      <th>3</th>\n",
       "      <td></td>\n",
       "      <td>ليسانس حسابداري</td>\n",
       "      <td></td>\n",
       "      <td>موظف</td>\n",
       "      <td>5315</td>\n",
       "      <td>عضو هیئت مدیره</td>\n",
       "      <td>ذبيح اله خزايي</td>\n",
       "    </tr>\n",
       "    <tr>\n",
       "      <th>4</th>\n",
       "      <td></td>\n",
       "      <td>فوق ليسانس مديريت و مهندس راه و ساختمان</td>\n",
       "      <td></td>\n",
       "      <td>موظف</td>\n",
       "      <td>5316</td>\n",
       "      <td>رئیس هیئت مدیره</td>\n",
       "      <td>سيد کاظم ميرولد</td>\n",
       "    </tr>\n",
       "    <tr>\n",
       "      <th>5</th>\n",
       "      <td></td>\n",
       "      <td>فوق ليسانس مديريت علوم بانکداري</td>\n",
       "      <td></td>\n",
       "      <td>موظف</td>\n",
       "      <td>5317</td>\n",
       "      <td>عضو هیئت مدیره</td>\n",
       "      <td>احمد وادي دار</td>\n",
       "    </tr>\n",
       "    <tr>\n",
       "      <th>6</th>\n",
       "      <td></td>\n",
       "      <td>دکتري مديريت و توسعه سازماني</td>\n",
       "      <td></td>\n",
       "      <td>غیر موظف</td>\n",
       "      <td>5318</td>\n",
       "      <td>عضو هیئت مدیره</td>\n",
       "      <td>داود مجتهد</td>\n",
       "    </tr>\n",
       "  </tbody>\n",
       "</table>\n",
       "</div>"
      ],
      "text/plain": [
       "  Board_Member                                   Degree Former_BM  Position  \\\n",
       "0                            فوق ليسانس مديريت بازرگاني                موظف   \n",
       "1                                          دکتري اقتصاد                موظف   \n",
       "2                                          دکتري اقتصاد                موظف   \n",
       "3                                       ليسانس حسابداري                موظف   \n",
       "4               فوق ليسانس مديريت و مهندس راه و ساختمان                موظف   \n",
       "5                       فوق ليسانس مديريت علوم بانکداري                موظف   \n",
       "6                          دکتري مديريت و توسعه سازماني            غیر موظف   \n",
       "\n",
       "  Reg_Number                      Title      shareholder  \n",
       "0       5311             عضو هیئت مدیره    کامران اختيار  \n",
       "1       5313       نایب رئیس هیئت مدیره  دکتر مجيد قاسمي  \n",
       "2       5313  مدیرعامل و عضو هیئت مدیره  دکتر مجيد قاسمي  \n",
       "3       5315             عضو هیئت مدیره   ذبيح اله خزايي  \n",
       "4       5316            رئیس هیئت مدیره  سيد کاظم ميرولد  \n",
       "5       5317             عضو هیئت مدیره    احمد وادي دار  \n",
       "6       5318             عضو هیئت مدیره       داود مجتهد  "
      ]
     },
     "execution_count": 13,
     "metadata": {},
     "output_type": "execute_result"
    }
   ],
   "source": [
    "import pandas as pd\n",
    "# df = pd.DataFrame(list_of_shareholders)\n",
    "df = pd.DataFrame(members_list)\n",
    "df"
   ]
  },
  {
   "cell_type": "code",
   "execution_count": null,
   "metadata": {
    "collapsed": true
   },
   "outputs": [],
   "source": [
    "df.to_csv(\"cases.csv\" , index = False)"
   ]
  }
 ],
 "metadata": {
  "kernelspec": {
   "display_name": "Python 3",
   "language": "python",
   "name": "python3"
  },
  "language_info": {
   "codemirror_mode": {
    "name": "ipython",
    "version": 3
   },
   "file_extension": ".py",
   "mimetype": "text/x-python",
   "name": "python",
   "nbconvert_exporter": "python",
   "pygments_lexer": "ipython3",
   "version": "3.6.1"
  }
 },
 "nbformat": 4,
 "nbformat_minor": 2
}
