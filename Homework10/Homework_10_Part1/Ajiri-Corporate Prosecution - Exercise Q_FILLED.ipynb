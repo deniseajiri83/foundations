{
 "cells": [
  {
   "cell_type": "markdown",
   "metadata": {
    "collapsed": true
   },
   "source": [
    "# Corporate Prosecution - Exercise Q\n",
    "\n",
    "#### Summary\n",
    "\n",
    "Investigate the differences between different states' prosecution of corporate issues.\n",
    "\n",
    "#### Files\n",
    "\n",
    "- cpr-data.xls, \"detailed information about every federal organizational prosecution since 2001, as well as deferred and non-prosecution agreements with organizations since 1990\"\n",
    "\n",
    "#### Source\n",
    "\n",
    "[Corpoate Prosecution Registry](http://lib.law.virginia.edu/Garrett/corporate-prosecution-registry/about.html) \n",
    "\n",
    "#### Skills\n",
    "\n",
    "- Working with CSV files\n",
    "- Counting and summarizing columns\n",
    "- Searching with strings\n",
    "- Extracting with strings"
   ]
  },
  {
   "cell_type": "markdown",
   "metadata": {},
   "source": [
    "# Read in `cpr-data.csv`"
   ]
  },
  {
   "cell_type": "code",
   "execution_count": 1,
   "metadata": {
    "collapsed": true
   },
   "outputs": [],
   "source": [
    "import pandas as pd\n",
    "df = pd.read_csv('cpr-data.csv', error_bad_lines = False)"
   ]
  },
  {
   "cell_type": "markdown",
   "metadata": {},
   "source": [
    "### Check that your dataframe has 3038 rows and 56 columns."
   ]
  },
  {
   "cell_type": "code",
   "execution_count": 2,
   "metadata": {},
   "outputs": [
    {
     "data": {
      "text/plain": [
       "(3038, 56)"
      ]
     },
     "execution_count": 2,
     "metadata": {},
     "output_type": "execute_result"
    }
   ],
   "source": [
    "df.shape"
   ]
  },
  {
   "cell_type": "markdown",
   "metadata": {},
   "source": [
    "### List the columns and their data types"
   ]
  },
  {
   "cell_type": "code",
   "execution_count": 3,
   "metadata": {},
   "outputs": [
    {
     "data": {
      "text/plain": [
       "REC_ID                                                                      int64\n",
       "COMPANY                                                                    object\n",
       "DISPOSITION_TYPE                                                           object\n",
       "PRIMARY_CRIME_CODE                                                         object\n",
       "SWISS_BANK_PROGRAM                                                         object\n",
       "USAO                                                                       object\n",
       "COUNTRY                                                                    object\n",
       "FINANCIAL_INSTITUTION                                                      object\n",
       "CASE_NAME                                                                  object\n",
       "CASE_ID                                                                    object\n",
       "DOCKET_NO                                                                  object\n",
       "DATE                                                                       object\n",
       "JUDGMENT_DATE                                                              object\n",
       "PLEA_DATE                                                                  object\n",
       "TICKER                                                                     object\n",
       "US_PUBLIC_CO                                                               object\n",
       "ADDITIONAL_REGULATORY_FINE_OR_PAYMENT                                     float64\n",
       "COMMUNITY_SERVICE_OR_OTHER                                                float64\n",
       "FINE                                                                      float64\n",
       "FORFEITURE_DISGORGEMENT                                                   float64\n",
       "PROBATION_LENGTH                                                          float64\n",
       "RESTITUTION                                                               float64\n",
       "TOTAL_PAYMENT                                                               int64\n",
       "ACCEPTS_RESPONSIBILITY                                                     object\n",
       "AGREEMENT_REQUIRED_NEW_POSITIONS                                           object\n",
       "AGREEMENT_REQUIRED_OUTSIDE_AUDITORS_OR_EXPERTS                             object\n",
       "CITATION_AND_DESCRIPTION                                                   object\n",
       "CIVIL_JUDGMENT_OR_SETTLEMENT                                               object\n",
       "COMPLIANCE_PROGRAM_DESCRIPTION                                             object\n",
       "COMPLIANCE_PROGRAM_REQUIRED_BY_AGREEMENT                                   object\n",
       "COMPLIANCE_REQUIRED_BY_REGULATORS                                          object\n",
       "CRIME_DESC                                                                 object\n",
       "DESCRIPTION_OF_PAYMENTS                                                    object\n",
       "DOES_AGREEMENT_DISCUSS_REASONS_OR_RELEVENT_CONSIDERATIONS_FOR_LENIENCY     object\n",
       "DOJ_CAN_UNILATERALLY_TERMINATE                                             object\n",
       "FINE_CALCULATION_INCLUDED                                                  object\n",
       "FINE_DESCRIPTION                                                           object\n",
       "INDEP_MONITOR_REQUIRED                                                     object\n",
       "MUST_COMPORT_WITH_USSG_OR_AUDIT_COMPLIANCE                                 object\n",
       "OTHER_AGREEMENT                                                            object\n",
       "OTHER_AGREEMENT_REQUIRED_GOVERNANCE_CHANGES                                object\n",
       "OTHER_COMPLIANCE_OFFICER_OR_CONSULTANT_REQUIRED                            object\n",
       "PARALLEL_CIVIL_SUIT                                                        object\n",
       "PARALLEL_REGULATORY_ACTION_OR_LOCAL_PROSECUTOR                             object\n",
       "PRE_AGREEMENT_COMPLIANCE                                                   object\n",
       "PRE_AGREEMENT_COMPLIANCE_DESCRIPTION                                       object\n",
       "PRIVACY_WAIVER                                                             object\n",
       "REGULATORY_DISGORGEMENT_RESTITUTION_FORFEITURE                            float64\n",
       "REGULATORY_FINE                                                           float64\n",
       "REG_AGENCY                                                                 object\n",
       "STATEMENT_OF_FACTS                                                         object\n",
       "TOTAL_REGULATORY                                                          float64\n",
       "UNRELATED_TERMS                                                            object\n",
       "AGMT_YEAR                                                                 float64\n",
       "SOURCE                                                                     object\n",
       "NOTES                                                                      object\n",
       "dtype: object"
      ]
     },
     "execution_count": 3,
     "metadata": {},
     "output_type": "execute_result"
    }
   ],
   "source": [
    "df.dtypes"
   ]
  },
  {
   "cell_type": "markdown",
   "metadata": {},
   "source": [
    "### What do the following columns mean?\n",
    "\n",
    "- PRIMARY_CRIME_CODE\n",
    "- DISPOSITION_TYPE\n",
    "- AGREEMENT_TYPE\n",
    "- FINE\n",
    "- TOTAL_PAYMENT\n",
    "- USAO\n",
    "- AGREEMENT_REQUIRED_NEW_POSITIONS\n",
    "- INDEP_MONITOR_REQUIRED"
   ]
  },
  {
   "cell_type": "code",
   "execution_count": 4,
   "metadata": {
    "collapsed": true
   },
   "outputs": [],
   "source": [
    "# PRIMARY_CRIME_CODE - This can include any one of the following:\n",
    "# \tAccounting Fraud - federal crimes relating to false statements or entries, such as under 18 U.S.C. § 1001 (a)(3).\n",
    "# \tAntitrust - prosecutions brought under the Sherman Antitrust Act's criminal provisions.\n",
    "# \tAPPS - violations of the Act to Prevent Pollution from Ships (APPS), 33 U.S.C. §§ 1905-1915.\n",
    "# \tBank Secrecy Act - prosecutors brought under the Bank Secrecy Act, including 18 U.S.C. § 5331-5332 regarding failure to file reports of financial transactions or lack of adequate controls to prevent money laundering\n",
    "# \tBribery - violations of federal bribery and gratuities statutes such as 18 U.S.C. § 201.\n",
    "# \tBribery - violations of federal bribery and gratuities statutes such as 18 U.S.C. § 201.\n",
    "# \tControlled Substances - these include violations of the Controlled Substances Act (CSA).\n",
    "# \tEnvironmental - these include prosecutions brought under any of the range of federal environmental statutes, including the Act to Prevent Pollution from Ships, the Clean Air Act, the Clear Water Act, the Resource Conversation and Recovery Act, and statutes regulating marine pollution, handling of hazardous waste, and others.\n",
    "# \tFCPA (Foreign Corrupt Practices Act) - these include criminal prosecutions brought under the FCPA's bribery provisions and willful violations of the internal controls and books and records provisions, 15 U.S.C. §§ 78dd-1, et seq. A useful federal resource guide explaining these provisions is available here.\n",
    "# \tFalse Statements - these include prosecutions for making false statements to federal authorities under statutes including 18 U.S.C. § 1001.\n",
    "# \tFirearms - violations of federal criminal firearms registration and sales statutes.\n",
    "# \tFood - criminal violations of federal food safety laws including for adulterating or misbranding under the Federal Food, Drug, and Cosmetic Act (FDCA).\n",
    "# \tFraud - these include mail fraud and wire fraud prosecutions brought under 18 U.S.C. § 1341 and 1343, as well as other fraud crimes, such as conspiracy to defraud the federal government, 18 U.S.C. §371. However, health care fraud, securities fraud, and tax fraud cases are listed separately.\n",
    "# \tGambling - illegal gambling business under 18 U.S. Code § 1955 or violations of other federal gambling laws.\n",
    "# \tHealth Care Fraud - these include prosecutions brought under 18 U.S.C. § 1347.\n",
    "# \tImmigration - these include prosecutions brought for violating immigration rules concerning employment of noncitizens and unlawful employment practices under 8 U.S.C. §1324a and b, as well as crimes concerning bringing in and harboring illegal aliens under 8 U.S.C. §1324.\n",
    "# \tImport / Export - these include violations of U.S. customs regulations concerning imports and exports as well as violations of U.S. sanctions regarding international trade and financial transactions, including violations of the International Emergency Economic Powers Act (IEEPA).\n",
    "# \tKickbacks - violation of the federal anti-kickback statutes, including 42 U.S. Code § 1320a-7b.\n",
    "# \tMoney Laundering - these include prosecutions brought under 18 U.S.C.§1956-1957 and under 18 U.S.C. §5324 regarding structuring transactions to evade reporting requirements.\n",
    "# \tObstruction of Justice - these include prosecutions brought under 18 U.S.C. § 1503 and companion statutes.\n",
    "# \tOSHA - workplace safety crimes, involving the willful violation of a worker safety standard in the Occupational Safety and Health Act, as well as other workplace safety statutes such as and the Federal Mine Safety and Health Act.\n",
    "# \tOther - additional federal crimes, of which there are many, that do not fall within the categories described here.\n",
    "# \tPharmaceutical - these include prosecutions brought under the Federal Food, Drug, and Cosmetic Act (FDCA) as well as anti-kickback and other related claims involving pharmaceutical sales and branding.\n",
    "# \tSecurities Fraud - these include prosecutions brought under 18 U.S.C. § 1348.\n",
    "# \tTax Fraud - these include prosecutions brought under 26 U.S.C. § 7201 and 7201 regarding attempted federal tax evasion and fraud and false statements to tax authorities.\n",
    "# \tWildlife - prosecutions under wildlife conversation laws including under Endangered Species Act and the Lacey Act."
   ]
  },
  {
   "cell_type": "code",
   "execution_count": 5,
   "metadata": {
    "collapsed": true
   },
   "outputs": [],
   "source": [
    "# AGREEMENT_TYPE - Indicates whether the agreement is a plea (\"plea\"), non-prosecution agreement (\"NP\"), or deferred prosecution agreement (\"DP\")\n",
    "# DISPOSITION_TYPE - Indicates whether the prosecution was resolved through a type of agreement: a plea (\"plea\"); non-prosecution agreement (\"NP\"); or deferred prosecution agreement (\"DP\"); or whether the prosecution was resolved at trial in a conviction (\"trial conviction\") or acquittal (\"acquittal\") or a dismissal before or during trial (\"dismissal\"); as well as by a declination in which the case was dismissed by the prosecutor (\"declination\").\n",
    "# COUNTRY - Country in which the entity was incorporated.\n",
    "# FINE - Amount of fine in U.S. dollars.\n",
    "# TOTAL_PAYMENT - Sum of all monetary penalties (i.e. fines, restitution, forfeiture, disgorgements, community service, etc.)\n",
    "# USAO - U.S. Attorney's Offices involved in the prosecution. Multiple entries are separated by a \"|\".\n",
    "# PROBATION_LENGTH - Length of probation in months."
   ]
  },
  {
   "cell_type": "markdown",
   "metadata": {},
   "source": [
    "# Customizing the display in pandas\n",
    "\n",
    "See how the middle of the table has a `...`? Let's fix that.\n",
    "\n",
    "## How do you see the number of columns pandas will display?"
   ]
  },
  {
   "cell_type": "code",
   "execution_count": 6,
   "metadata": {},
   "outputs": [
    {
     "data": {
      "text/plain": [
       "20"
      ]
     },
     "execution_count": 6,
     "metadata": {},
     "output_type": "execute_result"
    }
   ],
   "source": [
    "pd.options.display.max_columns"
   ]
  },
  {
   "cell_type": "markdown",
   "metadata": {},
   "source": [
    "## Set pandas to display 60 columns"
   ]
  },
  {
   "cell_type": "code",
   "execution_count": 7,
   "metadata": {},
   "outputs": [
    {
     "data": {
      "text/plain": [
       "60"
      ]
     },
     "execution_count": 7,
     "metadata": {},
     "output_type": "execute_result"
    }
   ],
   "source": [
    "pd.set_option(\"display.max_columns\",60)\n",
    "pd.options.display.max_columns"
   ]
  },
  {
   "cell_type": "markdown",
   "metadata": {},
   "source": [
    "## How do you see the number of rows pandas will display? Then, set it to display 100 rows at a time.\n",
    "\n",
    "What does \"the number rows pandas will display\" actually mean?"
   ]
  },
  {
   "cell_type": "code",
   "execution_count": 8,
   "metadata": {},
   "outputs": [
    {
     "data": {
      "text/plain": [
       "60"
      ]
     },
     "execution_count": 8,
     "metadata": {},
     "output_type": "execute_result"
    }
   ],
   "source": [
    "pd.options.display.max_rows"
   ]
  },
  {
   "cell_type": "code",
   "execution_count": 9,
   "metadata": {},
   "outputs": [
    {
     "data": {
      "text/plain": [
       "100"
      ]
     },
     "execution_count": 9,
     "metadata": {},
     "output_type": "execute_result"
    }
   ],
   "source": [
    "pd.set_option(\"display.max_rows\",100)\n",
    "pd.options.display.max_rows"
   ]
  },
  {
   "cell_type": "markdown",
   "metadata": {},
   "source": [
    "## Describe the REGULATORY_FINE column to me numerically - maxes, mins, averages.\n",
    "\n",
    "Do this in **one line.**"
   ]
  },
  {
   "cell_type": "code",
   "execution_count": 10,
   "metadata": {},
   "outputs": [
    {
     "data": {
      "text/plain": [
       "count    1.470000e+02\n",
       "mean     4.905565e+07\n",
       "std      1.405663e+08\n",
       "min      0.000000e+00\n",
       "25%      0.000000e+00\n",
       "50%      2.000000e+06\n",
       "75%      2.345000e+07\n",
       "max      1.000000e+09\n",
       "Name: REGULATORY_FINE, dtype: float64"
      ]
     },
     "execution_count": 10,
     "metadata": {},
     "output_type": "execute_result"
    }
   ],
   "source": [
    "df.REGULATORY_FINE.describe()"
   ]
  },
  {
   "cell_type": "markdown",
   "metadata": {},
   "source": [
    "### Oh that's ugly ugly ugly. Set pandas to format floats with ZERO decimal points. And tell it to use a `,` in the thousands position.\n",
    "\n",
    "I'm just going to leave [this here](http://infohost.nmt.edu/~shipman/doc/python27/web/new-str-format.html) for reference. You should definitely come up and ask on the board, though."
   ]
  },
  {
   "cell_type": "code",
   "execution_count": 11,
   "metadata": {},
   "outputs": [
    {
     "data": {
      "text/plain": [
       "count             147\n",
       "mean       49,055,647\n",
       "std       140,566,295\n",
       "min                 0\n",
       "25%                 0\n",
       "50%         2,000,000\n",
       "75%        23,450,000\n",
       "max     1,000,000,000\n",
       "Name: REGULATORY_FINE, dtype: float64"
      ]
     },
     "execution_count": 11,
     "metadata": {},
     "output_type": "execute_result"
    }
   ],
   "source": [
    "pd.set_option('display.float_format', \"{:,.0f}\".format)\n",
    "df.REGULATORY_FINE.describe()"
   ]
  },
  {
   "cell_type": "markdown",
   "metadata": {},
   "source": [
    "## Look at the total payments for the first two rows. Pretty nice!"
   ]
  },
  {
   "cell_type": "code",
   "execution_count": 12,
   "metadata": {},
   "outputs": [
    {
     "data": {
      "text/html": [
       "<div>\n",
       "<style>\n",
       "    .dataframe thead tr:only-child th {\n",
       "        text-align: right;\n",
       "    }\n",
       "\n",
       "    .dataframe thead th {\n",
       "        text-align: left;\n",
       "    }\n",
       "\n",
       "    .dataframe tbody tr th {\n",
       "        vertical-align: top;\n",
       "    }\n",
       "</style>\n",
       "<table border=\"1\" class=\"dataframe\">\n",
       "  <thead>\n",
       "    <tr style=\"text-align: right;\">\n",
       "      <th></th>\n",
       "      <th>TOTAL_PAYMENT</th>\n",
       "    </tr>\n",
       "  </thead>\n",
       "  <tbody>\n",
       "    <tr>\n",
       "      <th>0</th>\n",
       "      <td>272734</td>\n",
       "    </tr>\n",
       "    <tr>\n",
       "      <th>1</th>\n",
       "      <td>24000</td>\n",
       "    </tr>\n",
       "  </tbody>\n",
       "</table>\n",
       "</div>"
      ],
      "text/plain": [
       "   TOTAL_PAYMENT\n",
       "0         272734\n",
       "1          24000"
      ]
     },
     "execution_count": 12,
     "metadata": {},
     "output_type": "execute_result"
    }
   ],
   "source": [
    "# They're integers and we formatted floats\n",
    "# But they still look pretty nice!!\n",
    "df[['TOTAL_PAYMENT']].head(2)"
   ]
  },
  {
   "cell_type": "markdown",
   "metadata": {},
   "source": [
    "# A little summarizing"
   ]
  },
  {
   "cell_type": "markdown",
   "metadata": {},
   "source": [
    "## What were the most popular crimes?"
   ]
  },
  {
   "cell_type": "code",
   "execution_count": 13,
   "metadata": {},
   "outputs": [
    {
     "data": {
      "text/plain": [
       "Tax fraud               52\n",
       "FCPA                    44\n",
       "Securities Fraud         8\n",
       "Anti-Kickback Law        7\n",
       "Antitrust violations     7\n",
       "Name: CRIME_DESC, dtype: int64"
      ]
     },
     "execution_count": 13,
     "metadata": {},
     "output_type": "execute_result"
    }
   ],
   "source": [
    "df.CRIME_DESC.value_counts().head(5)"
   ]
  },
  {
   "cell_type": "markdown",
   "metadata": {},
   "source": [
    "### Graph the previous answer, with the longest bar on top"
   ]
  },
  {
   "cell_type": "code",
   "execution_count": 14,
   "metadata": {},
   "outputs": [
    {
     "data": {
      "text/plain": [
       "<matplotlib.axes._subplots.AxesSubplot at 0x10cff0fd0>"
      ]
     },
     "execution_count": 14,
     "metadata": {},
     "output_type": "execute_result"
    },
    {
     "data": {
      "image/png": "[encoded data removed]",
      "text/plain": [
       "<matplotlib.figure.Figure at 0x10cff0588>"
      ]
     },
     "metadata": {},
     "output_type": "display_data"
    }
   ],
   "source": [
    "%matplotlib inline\n",
    "df.CRIME_DESC.value_counts(ascending=True).tail(5).plot(kind='barh')"
   ]
  },
  {
   "cell_type": "markdown",
   "metadata": {},
   "source": [
    "# Column selection\n",
    "\n",
    "We wanted to view all of those rows, but honestly that's a little silly. **We can't actually see the data we want!** Let's just select the ones we care about.\n",
    "\n",
    "## Create a new dataframe that only includes the company name, disposition type, primary crime code, US Attorney's Office and total payment."
   ]
  },
  {
   "cell_type": "code",
   "execution_count": 15,
   "metadata": {
    "collapsed": true
   },
   "outputs": [],
   "source": [
    "df_new = df[['COMPANY', 'DISPOSITION_TYPE', 'PRIMARY_CRIME_CODE', 'USAO', 'TOTAL_PAYMENT']]"
   ]
  },
  {
   "cell_type": "code",
   "execution_count": 16,
   "metadata": {},
   "outputs": [
    {
     "data": {
      "text/html": [
       "<div>\n",
       "<style>\n",
       "    .dataframe thead tr:only-child th {\n",
       "        text-align: right;\n",
       "    }\n",
       "\n",
       "    .dataframe thead th {\n",
       "        text-align: left;\n",
       "    }\n",
       "\n",
       "    .dataframe tbody tr th {\n",
       "        vertical-align: top;\n",
       "    }\n",
       "</style>\n",
       "<table border=\"1\" class=\"dataframe\">\n",
       "  <thead>\n",
       "    <tr style=\"text-align: right;\">\n",
       "      <th></th>\n",
       "      <th>COMPANY</th>\n",
       "      <th>DISPOSITION_TYPE</th>\n",
       "      <th>PRIMARY_CRIME_CODE</th>\n",
       "      <th>USAO</th>\n",
       "      <th>TOTAL_PAYMENT</th>\n",
       "    </tr>\n",
       "  </thead>\n",
       "  <tbody>\n",
       "    <tr>\n",
       "      <th>0</th>\n",
       "      <td>1st Union Transfer and Telegraph, Inc.</td>\n",
       "      <td>plea</td>\n",
       "      <td>Money Laundering</td>\n",
       "      <td>Virginia - Eastern District</td>\n",
       "      <td>272734</td>\n",
       "    </tr>\n",
       "    <tr>\n",
       "      <th>1</th>\n",
       "      <td>3D Poultry Loading, Inc.</td>\n",
       "      <td>plea</td>\n",
       "      <td>Immigration</td>\n",
       "      <td>Arkansas - Western District</td>\n",
       "      <td>24000</td>\n",
       "    </tr>\n",
       "    <tr>\n",
       "      <th>2</th>\n",
       "      <td>3rd &amp; Bell, LLC</td>\n",
       "      <td>plea</td>\n",
       "      <td>Immigration</td>\n",
       "      <td>Arizona</td>\n",
       "      <td>50</td>\n",
       "    </tr>\n",
       "    <tr>\n",
       "      <th>3</th>\n",
       "      <td>41 Market Inc.</td>\n",
       "      <td>plea</td>\n",
       "      <td>Controlled substances / Drugs / Meth Act</td>\n",
       "      <td>Georgia - Northern District</td>\n",
       "      <td>14640</td>\n",
       "    </tr>\n",
       "    <tr>\n",
       "      <th>4</th>\n",
       "      <td>45,000, Inc.</td>\n",
       "      <td>plea</td>\n",
       "      <td>Environmental</td>\n",
       "      <td>Louisiana - Middle District</td>\n",
       "      <td>27500</td>\n",
       "    </tr>\n",
       "  </tbody>\n",
       "</table>\n",
       "</div>"
      ],
      "text/plain": [
       "                                  COMPANY DISPOSITION_TYPE  \\\n",
       "0  1st Union Transfer and Telegraph, Inc.             plea   \n",
       "1                3D Poultry Loading, Inc.             plea   \n",
       "2                         3rd & Bell, LLC             plea   \n",
       "3                          41 Market Inc.             plea   \n",
       "4                            45,000, Inc.             plea   \n",
       "\n",
       "                         PRIMARY_CRIME_CODE                         USAO  \\\n",
       "0                          Money Laundering  Virginia - Eastern District   \n",
       "1                               Immigration  Arkansas - Western District   \n",
       "2                               Immigration                      Arizona   \n",
       "3  Controlled substances / Drugs / Meth Act  Georgia - Northern District   \n",
       "4                             Environmental  Louisiana - Middle District   \n",
       "\n",
       "   TOTAL_PAYMENT  \n",
       "0         272734  \n",
       "1          24000  \n",
       "2             50  \n",
       "3          14640  \n",
       "4          27500  "
      ]
     },
     "execution_count": 16,
     "metadata": {},
     "output_type": "execute_result"
    }
   ],
   "source": [
    "df_new.head(5)"
   ]
  },
  {
   "cell_type": "markdown",
   "metadata": {},
   "source": [
    "## Confirm it has 3038 rows and 5 columns"
   ]
  },
  {
   "cell_type": "code",
   "execution_count": 17,
   "metadata": {},
   "outputs": [],
   "source": [
    "# df_new.shape\n",
    "# import numpy as np\n",
    "# np.nan\n",
    "# df['USAO'].replace('USDOJ', np.nan, inplace=True)\n",
    "# df['USAO']"
   ]
  },
  {
   "cell_type": "markdown",
   "metadata": {},
   "source": [
    "## Using this subset, try to extract the state name of the US Attorney's Office into a separate column called `state`\n",
    "\n",
    "Your machine will complain. **Let's talk about that error.**"
   ]
  },
  {
   "cell_type": "markdown",
   "metadata": {},
   "source": [
    "## Look at the first 25 states.\n",
    "\n",
    "Confirm they match the following. If they don't, improve your technique from above.\n",
    "\n",
    "    0        Virginia\n",
    "    1        Arkansas\n",
    "    2         Arizona\n",
    "    3         Georgia\n",
    "    4       Louisiana\n",
    "    5        New York\n",
    "    6          Alaska\n",
    "    7      New Jersey\n",
    "    8         Arizona\n",
    "    9         Arizona\n",
    "    10       Virginia\n",
    "    11       Virginia\n",
    "    12      Louisiana\n",
    "    13       New York\n",
    "    14         Kansas\n",
    "    15    Mississippi\n",
    "    16         Oregon\n",
    "    17        Florida\n",
    "    18     California\n",
    "    19      Louisiana\n",
    "    20        Vermont\n",
    "    21       New York\n",
    "    22       New York\n",
    "    23          USDOJ\n",
    "    24          USDO"
   ]
  },
  {
   "cell_type": "code",
   "execution_count": 18,
   "metadata": {},
   "outputs": [
    {
     "name": "stderr",
     "output_type": "stream",
     "text": [
      "/usr/local/lib/python3.6/site-packages/ipykernel_launcher.py:1: FutureWarning: currently extract(expand=None) means expand=False (return Index/Series/DataFrame) but in a future version of pandas this will be changed to expand=True (return DataFrame)\n",
      "  \"\"\"Entry point for launching an IPython kernel.\n"
     ]
    },
    {
     "data": {
      "text/plain": [
       "0                  Virginia \n",
       "1                  Arkansas \n",
       "2                    Arizona\n",
       "3                   Georgia \n",
       "4                 Louisiana \n",
       "5                  New York \n",
       "6                     Alaska\n",
       "7                 New Jersey\n",
       "8                    Arizona\n",
       "9                    Arizona\n",
       "10                 Virginia \n",
       "11                 Virginia \n",
       "12                Louisiana \n",
       "13                 New York \n",
       "14                    Kansas\n",
       "15              Mississippi \n",
       "16                    Oregon\n",
       "17                  Florida \n",
       "18               California \n",
       "19                Louisiana \n",
       "20                   Vermont\n",
       "21                 New York \n",
       "22                 New York \n",
       "23                    USDOJ \n",
       "24                    USDOJ \n",
       "25                    USDOJ \n",
       "26                    USDOJ \n",
       "27                    Texas \n",
       "28                    Texas \n",
       "29                 Virginia \n",
       "30                    Texas \n",
       "31                 Missouri \n",
       "32      District of Columbia\n",
       "33                    USDOJ \n",
       "34             Massachusetts\n",
       "35             Pennsylvania \n",
       "36                     USDOJ\n",
       "37                    USDOJ \n",
       "38                    Texas \n",
       "39                 Illinois \n",
       "40                  Florida \n",
       "41                    USDOJ \n",
       "42            West Virginia \n",
       "43                  Florida \n",
       "44                    USDOJ \n",
       "45                    USDOJ \n",
       "46                 Virginia \n",
       "47                    USDOJ \n",
       "48                    USDOJ \n",
       "49             Pennsylvania \n",
       "                ...         \n",
       "2988             California \n",
       "2989             California \n",
       "2990                    Utah\n",
       "2991             California \n",
       "2992                  Texas \n",
       "2993                  Texas \n",
       "2994                Florida \n",
       "2995              Louisiana \n",
       "2996              Louisiana \n",
       "2997                  USDOJ \n",
       "2998                  Kansas\n",
       "2999                  USDOJ \n",
       "3000              Wisconsin \n",
       "3001         North Carolina \n",
       "3002             Connecticut\n",
       "3003    District of Columbia\n",
       "3004              New Jersey\n",
       "3005              New Jersey\n",
       "3006               Oklahoma \n",
       "3007               Oklahoma \n",
       "3008                 Wyoming\n",
       "3009              Louisiana \n",
       "3010                  Texas \n",
       "3011                  USDOJ \n",
       "3012                   Ohio \n",
       "3013    District of Columbia\n",
       "3014           Pennsylvania \n",
       "3015                 Wyoming\n",
       "3016               Michigan \n",
       "3017              Tennessee \n",
       "3018              Louisiana \n",
       "3019               New York \n",
       "3020                  USDOJ \n",
       "3021           Pennsylvania \n",
       "3022               Arkansas \n",
       "3023    District of Columbia\n",
       "3024               Missouri \n",
       "3025                Florida \n",
       "3026             California \n",
       "3027                  USDOJ \n",
       "3028                Maryland\n",
       "3029               Kentucky \n",
       "3030             Washington \n",
       "3031                  USDOJ \n",
       "3032                  USDOJ \n",
       "3033              New Jersey\n",
       "3034                  USDOJ \n",
       "3035               New York \n",
       "3036    District of Columbia\n",
       "3037                Florida \n",
       "Name: state, Length: 3038, dtype: object"
      ]
     },
     "execution_count": 18,
     "metadata": {},
     "output_type": "execute_result"
    }
   ],
   "source": [
    "df['state'] = df.USAO.str.extract('^([^-,]*)')\n",
    "df['state']\n",
    "\n",
    "#('(\\w*\\W?\\w+)\\W?.*')"
   ]
  },
  {
   "cell_type": "markdown",
   "metadata": {},
   "source": [
    "## Hmm, maybe you should clean that up a little more and try again."
   ]
  },
  {
   "cell_type": "code",
   "execution_count": 19,
   "metadata": {
    "collapsed": true
   },
   "outputs": [],
   "source": [
    "#I don't!"
   ]
  },
  {
   "cell_type": "markdown",
   "metadata": {},
   "source": [
    "## Which state has had the most total cases?"
   ]
  },
  {
   "cell_type": "code",
   "execution_count": 20,
   "metadata": {},
   "outputs": [
    {
     "data": {
      "text/plain": [
       "USDOJ          567\n",
       "Florida        220\n",
       "California     215\n",
       "Name: state, dtype: int64"
      ]
     },
     "execution_count": 20,
     "metadata": {},
     "output_type": "execute_result"
    }
   ],
   "source": [
    "df.state.value_counts().head(3)"
   ]
  },
  {
   "cell_type": "markdown",
   "metadata": {},
   "source": [
    "## Which state has had the most total fines?"
   ]
  },
  {
   "cell_type": "code",
   "execution_count": 21,
   "metadata": {
    "scrolled": true
   },
   "outputs": [
    {
     "data": {
      "text/plain": [
       "state\n",
       "USDOJ            23225083332\n",
       "New York         15699780905\n",
       "Louisiana         4531757633\n",
       "Massachusetts     4455980454\n",
       "Michigan          3941190981\n",
       "Name: TOTAL_PAYMENT, dtype: int64"
      ]
     },
     "execution_count": 21,
     "metadata": {},
     "output_type": "execute_result"
    }
   ],
   "source": [
    "df.groupby('state')['TOTAL_PAYMENT'].sum().sort_values(ascending=False).head()\n",
    "#df.groupby('state')['TOTAL_PAYMENT'].value_counts().sort_values(ascending=False).head()\n"
   ]
  },
  {
   "cell_type": "markdown",
   "metadata": {},
   "source": [
    "## Show me both the count AND the sum in the same dataframe\n",
    "\n",
    "- Tip: There's a quick way to do this if you'd like"
   ]
  },
  {
   "cell_type": "code",
   "execution_count": 22,
   "metadata": {},
   "outputs": [
    {
     "data": {
      "text/html": [
       "<div>\n",
       "<style>\n",
       "    .dataframe thead tr:only-child th {\n",
       "        text-align: right;\n",
       "    }\n",
       "\n",
       "    .dataframe thead th {\n",
       "        text-align: left;\n",
       "    }\n",
       "\n",
       "    .dataframe tbody tr th {\n",
       "        vertical-align: top;\n",
       "    }\n",
       "</style>\n",
       "<table border=\"1\" class=\"dataframe\">\n",
       "  <thead>\n",
       "    <tr style=\"text-align: right;\">\n",
       "      <th></th>\n",
       "      <th>sum</th>\n",
       "      <th>count</th>\n",
       "    </tr>\n",
       "    <tr>\n",
       "      <th>state</th>\n",
       "      <th></th>\n",
       "      <th></th>\n",
       "    </tr>\n",
       "  </thead>\n",
       "  <tbody>\n",
       "    <tr>\n",
       "      <th>Alabama</th>\n",
       "      <td>114555399</td>\n",
       "      <td>27</td>\n",
       "    </tr>\n",
       "    <tr>\n",
       "      <th>Alaska</th>\n",
       "      <td>60718216</td>\n",
       "      <td>19</td>\n",
       "    </tr>\n",
       "    <tr>\n",
       "      <th>Arizona</th>\n",
       "      <td>10455037</td>\n",
       "      <td>34</td>\n",
       "    </tr>\n",
       "    <tr>\n",
       "      <th>Arkansas</th>\n",
       "      <td>3071778</td>\n",
       "      <td>24</td>\n",
       "    </tr>\n",
       "    <tr>\n",
       "      <th>California</th>\n",
       "      <td>1153522038</td>\n",
       "      <td>215</td>\n",
       "    </tr>\n",
       "    <tr>\n",
       "      <th>Colorado</th>\n",
       "      <td>8618944</td>\n",
       "      <td>22</td>\n",
       "    </tr>\n",
       "    <tr>\n",
       "      <th>Connecticut</th>\n",
       "      <td>1511960683</td>\n",
       "      <td>58</td>\n",
       "    </tr>\n",
       "    <tr>\n",
       "      <th>Delaware</th>\n",
       "      <td>70622580</td>\n",
       "      <td>11</td>\n",
       "    </tr>\n",
       "    <tr>\n",
       "      <th>District of Columbia</th>\n",
       "      <td>1579935794</td>\n",
       "      <td>43</td>\n",
       "    </tr>\n",
       "    <tr>\n",
       "      <th>District of Columbia (Fraud and Public Corruption Section)</th>\n",
       "      <td>1500000</td>\n",
       "      <td>3</td>\n",
       "    </tr>\n",
       "    <tr>\n",
       "      <th>Florida</th>\n",
       "      <td>1809225843</td>\n",
       "      <td>220</td>\n",
       "    </tr>\n",
       "    <tr>\n",
       "      <th>Georgia</th>\n",
       "      <td>484094806</td>\n",
       "      <td>57</td>\n",
       "    </tr>\n",
       "    <tr>\n",
       "      <th>Guam &amp; the Northern Mariana Islands</th>\n",
       "      <td>3050969</td>\n",
       "      <td>2</td>\n",
       "    </tr>\n",
       "    <tr>\n",
       "      <th>Hawaii</th>\n",
       "      <td>2732863</td>\n",
       "      <td>12</td>\n",
       "    </tr>\n",
       "    <tr>\n",
       "      <th>Hawaii</th>\n",
       "      <td>275000</td>\n",
       "      <td>1</td>\n",
       "    </tr>\n",
       "    <tr>\n",
       "      <th>Idaho</th>\n",
       "      <td>7727312</td>\n",
       "      <td>18</td>\n",
       "    </tr>\n",
       "    <tr>\n",
       "      <th>Illinois</th>\n",
       "      <td>608519488</td>\n",
       "      <td>74</td>\n",
       "    </tr>\n",
       "    <tr>\n",
       "      <th>Indiana</th>\n",
       "      <td>170000</td>\n",
       "      <td>1</td>\n",
       "    </tr>\n",
       "    <tr>\n",
       "      <th>Indiana</th>\n",
       "      <td>19354134</td>\n",
       "      <td>25</td>\n",
       "    </tr>\n",
       "    <tr>\n",
       "      <th>Iowa</th>\n",
       "      <td>3736949</td>\n",
       "      <td>15</td>\n",
       "    </tr>\n",
       "    <tr>\n",
       "      <th>Kansas</th>\n",
       "      <td>4370473</td>\n",
       "      <td>15</td>\n",
       "    </tr>\n",
       "    <tr>\n",
       "      <th>Kentucky</th>\n",
       "      <td>39064587</td>\n",
       "      <td>39</td>\n",
       "    </tr>\n",
       "    <tr>\n",
       "      <th>Louisana</th>\n",
       "      <td>0</td>\n",
       "      <td>1</td>\n",
       "    </tr>\n",
       "    <tr>\n",
       "      <th>Louisiana</th>\n",
       "      <td>4531757633</td>\n",
       "      <td>112</td>\n",
       "    </tr>\n",
       "    <tr>\n",
       "      <th>MIchigan</th>\n",
       "      <td>200000000</td>\n",
       "      <td>1</td>\n",
       "    </tr>\n",
       "    <tr>\n",
       "      <th>Maine</th>\n",
       "      <td>9682554</td>\n",
       "      <td>13</td>\n",
       "    </tr>\n",
       "    <tr>\n",
       "      <th>Maryland</th>\n",
       "      <td>153173049</td>\n",
       "      <td>34</td>\n",
       "    </tr>\n",
       "    <tr>\n",
       "      <th>Massachusetts</th>\n",
       "      <td>4455980454</td>\n",
       "      <td>67</td>\n",
       "    </tr>\n",
       "    <tr>\n",
       "      <th>Massachusetts|USDOJ</th>\n",
       "      <td>20940000</td>\n",
       "      <td>2</td>\n",
       "    </tr>\n",
       "    <tr>\n",
       "      <th>Michigan</th>\n",
       "      <td>3941190981</td>\n",
       "      <td>45</td>\n",
       "    </tr>\n",
       "    <tr>\n",
       "      <th>Minnesota</th>\n",
       "      <td>378928336</td>\n",
       "      <td>26</td>\n",
       "    </tr>\n",
       "    <tr>\n",
       "      <th>Mississippi</th>\n",
       "      <td>74176031</td>\n",
       "      <td>25</td>\n",
       "    </tr>\n",
       "    <tr>\n",
       "      <th>Missouri</th>\n",
       "      <td>125585685</td>\n",
       "      <td>96</td>\n",
       "    </tr>\n",
       "    <tr>\n",
       "      <th>Montana</th>\n",
       "      <td>19093684</td>\n",
       "      <td>11</td>\n",
       "    </tr>\n",
       "    <tr>\n",
       "      <th>Nebraska</th>\n",
       "      <td>2309088</td>\n",
       "      <td>18</td>\n",
       "    </tr>\n",
       "    <tr>\n",
       "      <th>Nevada</th>\n",
       "      <td>30680705</td>\n",
       "      <td>8</td>\n",
       "    </tr>\n",
       "    <tr>\n",
       "      <th>New Hampshire</th>\n",
       "      <td>8138501</td>\n",
       "      <td>8</td>\n",
       "    </tr>\n",
       "    <tr>\n",
       "      <th>New Jersey</th>\n",
       "      <td>902173331</td>\n",
       "      <td>81</td>\n",
       "    </tr>\n",
       "    <tr>\n",
       "      <th>New Mexico</th>\n",
       "      <td>1372395</td>\n",
       "      <td>10</td>\n",
       "    </tr>\n",
       "    <tr>\n",
       "      <th>New York</th>\n",
       "      <td>15699780905</td>\n",
       "      <td>179</td>\n",
       "    </tr>\n",
       "    <tr>\n",
       "      <th>North Carolina</th>\n",
       "      <td>217725035</td>\n",
       "      <td>68</td>\n",
       "    </tr>\n",
       "    <tr>\n",
       "      <th>North Dakota</th>\n",
       "      <td>101376831</td>\n",
       "      <td>10</td>\n",
       "    </tr>\n",
       "    <tr>\n",
       "      <th>Ohio</th>\n",
       "      <td>587424909</td>\n",
       "      <td>109</td>\n",
       "    </tr>\n",
       "    <tr>\n",
       "      <th>Oklahoma</th>\n",
       "      <td>255233460</td>\n",
       "      <td>11</td>\n",
       "    </tr>\n",
       "    <tr>\n",
       "      <th>Oregon</th>\n",
       "      <td>15595225</td>\n",
       "      <td>22</td>\n",
       "    </tr>\n",
       "    <tr>\n",
       "      <th>Pennsylvania</th>\n",
       "      <td>1751471389</td>\n",
       "      <td>105</td>\n",
       "    </tr>\n",
       "    <tr>\n",
       "      <th>Puerto Rico</th>\n",
       "      <td>27530000</td>\n",
       "      <td>14</td>\n",
       "    </tr>\n",
       "    <tr>\n",
       "      <th>Rhode Island</th>\n",
       "      <td>543548834</td>\n",
       "      <td>12</td>\n",
       "    </tr>\n",
       "    <tr>\n",
       "      <th>South Carolina</th>\n",
       "      <td>29025983</td>\n",
       "      <td>30</td>\n",
       "    </tr>\n",
       "    <tr>\n",
       "      <th>South Dakota</th>\n",
       "      <td>1210200</td>\n",
       "      <td>5</td>\n",
       "    </tr>\n",
       "    <tr>\n",
       "      <th>Tennessee</th>\n",
       "      <td>6152089</td>\n",
       "      <td>34</td>\n",
       "    </tr>\n",
       "    <tr>\n",
       "      <th>Texas</th>\n",
       "      <td>692004039</td>\n",
       "      <td>124</td>\n",
       "    </tr>\n",
       "    <tr>\n",
       "      <th>USAO</th>\n",
       "      <td>290802</td>\n",
       "      <td>4</td>\n",
       "    </tr>\n",
       "    <tr>\n",
       "      <th>USDOJ</th>\n",
       "      <td>540145418</td>\n",
       "      <td>13</td>\n",
       "    </tr>\n",
       "    <tr>\n",
       "      <th>USDOJ</th>\n",
       "      <td>23225083332</td>\n",
       "      <td>567</td>\n",
       "    </tr>\n",
       "    <tr>\n",
       "      <th>Utah</th>\n",
       "      <td>3641485</td>\n",
       "      <td>6</td>\n",
       "    </tr>\n",
       "    <tr>\n",
       "      <th>Vermont</th>\n",
       "      <td>2232945</td>\n",
       "      <td>6</td>\n",
       "    </tr>\n",
       "    <tr>\n",
       "      <th>Virgin Islands</th>\n",
       "      <td>3300000</td>\n",
       "      <td>2</td>\n",
       "    </tr>\n",
       "    <tr>\n",
       "      <th>Virginia</th>\n",
       "      <td>2254367316</td>\n",
       "      <td>93</td>\n",
       "    </tr>\n",
       "    <tr>\n",
       "      <th>Washington</th>\n",
       "      <td>68162131</td>\n",
       "      <td>38</td>\n",
       "    </tr>\n",
       "    <tr>\n",
       "      <th>West Virginia</th>\n",
       "      <td>15892166</td>\n",
       "      <td>22</td>\n",
       "    </tr>\n",
       "    <tr>\n",
       "      <th>Wisconsin</th>\n",
       "      <td>304374202</td>\n",
       "      <td>28</td>\n",
       "    </tr>\n",
       "    <tr>\n",
       "      <th>Wyoming</th>\n",
       "      <td>1129784</td>\n",
       "      <td>10</td>\n",
       "    </tr>\n",
       "    <tr>\n",
       "      <th>illinois</th>\n",
       "      <td>696163</td>\n",
       "      <td>2</td>\n",
       "    </tr>\n",
       "    <tr>\n",
       "      <th>other gov't</th>\n",
       "      <td>17800500</td>\n",
       "      <td>6</td>\n",
       "    </tr>\n",
       "  </tbody>\n",
       "</table>\n",
       "</div>"
      ],
      "text/plain": [
       "                                                            sum  count\n",
       "state                                                                 \n",
       "Alabama                                               114555399     27\n",
       "Alaska                                                 60718216     19\n",
       "Arizona                                                10455037     34\n",
       "Arkansas                                                3071778     24\n",
       "California                                           1153522038    215\n",
       "Colorado                                                8618944     22\n",
       "Connecticut                                          1511960683     58\n",
       "Delaware                                               70622580     11\n",
       "District of Columbia                                 1579935794     43\n",
       "District of Columbia (Fraud and Public Corrupti...      1500000      3\n",
       "Florida                                              1809225843    220\n",
       "Georgia                                               484094806     57\n",
       "Guam & the Northern Mariana Islands                     3050969      2\n",
       "Hawaii                                                  2732863     12\n",
       "Hawaii                                                   275000      1\n",
       "Idaho                                                   7727312     18\n",
       "Illinois                                              608519488     74\n",
       "Indiana                                                  170000      1\n",
       "Indiana                                                19354134     25\n",
       "Iowa                                                    3736949     15\n",
       "Kansas                                                  4370473     15\n",
       "Kentucky                                               39064587     39\n",
       "Louisana                                                      0      1\n",
       "Louisiana                                            4531757633    112\n",
       "MIchigan                                              200000000      1\n",
       "Maine                                                   9682554     13\n",
       "Maryland                                              153173049     34\n",
       "Massachusetts                                        4455980454     67\n",
       "Massachusetts|USDOJ                                    20940000      2\n",
       "Michigan                                             3941190981     45\n",
       "Minnesota                                             378928336     26\n",
       "Mississippi                                            74176031     25\n",
       "Missouri                                              125585685     96\n",
       "Montana                                                19093684     11\n",
       "Nebraska                                                2309088     18\n",
       "Nevada                                                 30680705      8\n",
       "New Hampshire                                           8138501      8\n",
       "New Jersey                                            902173331     81\n",
       "New Mexico                                              1372395     10\n",
       "New York                                            15699780905    179\n",
       "North Carolina                                        217725035     68\n",
       "North Dakota                                          101376831     10\n",
       "Ohio                                                  587424909    109\n",
       "Oklahoma                                              255233460     11\n",
       "Oregon                                                 15595225     22\n",
       "Pennsylvania                                         1751471389    105\n",
       "Puerto Rico                                            27530000     14\n",
       "Rhode Island                                          543548834     12\n",
       "South Carolina                                         29025983     30\n",
       "South Dakota                                            1210200      5\n",
       "Tennessee                                               6152089     34\n",
       "Texas                                                 692004039    124\n",
       "USAO                                                     290802      4\n",
       "USDOJ                                                 540145418     13\n",
       "USDOJ                                               23225083332    567\n",
       "Utah                                                    3641485      6\n",
       "Vermont                                                 2232945      6\n",
       "Virgin Islands                                          3300000      2\n",
       "Virginia                                             2254367316     93\n",
       "Washington                                             68162131     38\n",
       "West Virginia                                          15892166     22\n",
       "Wisconsin                                             304374202     28\n",
       "Wyoming                                                 1129784     10\n",
       "illinois                                                 696163      2\n",
       "other gov't                                            17800500      6"
      ]
     },
     "execution_count": 22,
     "metadata": {},
     "output_type": "execute_result"
    }
   ],
   "source": [
    "df.groupby('state')['TOTAL_PAYMENT'].agg(['sum', 'count'])"
   ]
  },
  {
   "cell_type": "markdown",
   "metadata": {},
   "source": [
    "## Graph that, but only for \"real\" states\n",
    "\n",
    "Here's a list of state names, if you'd like:\n",
    "\n",
    "    ['Alaska', 'Alabama', 'Arkansas', 'American Samoa', 'Arizona', 'California', 'Colorado', 'Connecticut', 'District of Columbia', 'Delaware', 'Florida', 'Georgia', 'Guam', 'Hawaii', 'Iowa', 'Idaho', 'Illinois', 'Indiana', 'Kansas', 'Kentucky', 'Louisiana', 'Massachusetts', 'Maryland', 'Maine', 'Michigan', 'Minnesota', 'Missouri', 'Northern Mariana Islands', 'Mississippi', 'Montana', 'National', 'North Carolina', 'North Dakota', 'Nebraska', 'New Hampshire', 'New Jersey', 'New Mexico', 'Nevada', 'New York', 'Ohio', 'Oklahoma', 'Oregon', 'Pennsylvania', 'Puerto Rico', 'Rhode Island', 'South Carolina', 'South Dakota', 'Tennessee', 'Texas', 'Utah', 'Virginia', 'Virgin Islands', 'Vermont', 'Washington', 'Wisconsin', 'West Virginia', 'Wyoming']"
   ]
  },
  {
   "cell_type": "code",
   "execution_count": 23,
   "metadata": {},
   "outputs": [
    {
     "data": {
      "text/plain": [
       "<matplotlib.axes._subplots.AxesSubplot at 0x10d09dd68>"
      ]
     },
     "execution_count": 23,
     "metadata": {},
     "output_type": "execute_result"
    },
    {
     "data": {
      "image/png": "[encoded data removed]",
      "text/plain": [
       "<matplotlib.figure.Figure at 0x10d0f9128>"
      ]
     },
     "metadata": {},
     "output_type": "display_data"
    }
   ],
   "source": [
    "df.groupby('state')['TOTAL_PAYMENT'].agg(['sum', 'count']).plot(kind='scatter', x= 'count', y = 'sum')"
   ]
  },
  {
   "cell_type": "markdown",
   "metadata": {},
   "source": [
    "## What are the states that have so many prosecutions but so little money?"
   ]
  },
  {
   "cell_type": "code",
   "execution_count": 24,
   "metadata": {},
   "outputs": [
    {
     "data": {
      "text/html": [
       "<div>\n",
       "<style>\n",
       "    .dataframe thead tr:only-child th {\n",
       "        text-align: right;\n",
       "    }\n",
       "\n",
       "    .dataframe thead th {\n",
       "        text-align: left;\n",
       "    }\n",
       "\n",
       "    .dataframe tbody tr th {\n",
       "        vertical-align: top;\n",
       "    }\n",
       "</style>\n",
       "<table border=\"1\" class=\"dataframe\">\n",
       "  <thead>\n",
       "    <tr style=\"text-align: right;\">\n",
       "      <th></th>\n",
       "      <th>state</th>\n",
       "      <th>sum</th>\n",
       "      <th>count</th>\n",
       "    </tr>\n",
       "  </thead>\n",
       "  <tbody>\n",
       "    <tr>\n",
       "      <th>0</th>\n",
       "      <td>Alabama</td>\n",
       "      <td>114555399</td>\n",
       "      <td>27</td>\n",
       "    </tr>\n",
       "    <tr>\n",
       "      <th>1</th>\n",
       "      <td>Alaska</td>\n",
       "      <td>60718216</td>\n",
       "      <td>19</td>\n",
       "    </tr>\n",
       "    <tr>\n",
       "      <th>2</th>\n",
       "      <td>Arizona</td>\n",
       "      <td>10455037</td>\n",
       "      <td>34</td>\n",
       "    </tr>\n",
       "    <tr>\n",
       "      <th>3</th>\n",
       "      <td>Arkansas</td>\n",
       "      <td>3071778</td>\n",
       "      <td>24</td>\n",
       "    </tr>\n",
       "    <tr>\n",
       "      <th>4</th>\n",
       "      <td>California</td>\n",
       "      <td>1153522038</td>\n",
       "      <td>215</td>\n",
       "    </tr>\n",
       "    <tr>\n",
       "      <th>5</th>\n",
       "      <td>Colorado</td>\n",
       "      <td>8618944</td>\n",
       "      <td>22</td>\n",
       "    </tr>\n",
       "    <tr>\n",
       "      <th>6</th>\n",
       "      <td>Connecticut</td>\n",
       "      <td>1511960683</td>\n",
       "      <td>58</td>\n",
       "    </tr>\n",
       "    <tr>\n",
       "      <th>7</th>\n",
       "      <td>Delaware</td>\n",
       "      <td>70622580</td>\n",
       "      <td>11</td>\n",
       "    </tr>\n",
       "    <tr>\n",
       "      <th>8</th>\n",
       "      <td>District of Columbia</td>\n",
       "      <td>1579935794</td>\n",
       "      <td>43</td>\n",
       "    </tr>\n",
       "    <tr>\n",
       "      <th>9</th>\n",
       "      <td>District of Columbia (Fraud and Public Corrupt...</td>\n",
       "      <td>1500000</td>\n",
       "      <td>3</td>\n",
       "    </tr>\n",
       "  </tbody>\n",
       "</table>\n",
       "</div>"
      ],
      "text/plain": [
       "                                               state         sum  count\n",
       "0                                           Alabama    114555399     27\n",
       "1                                             Alaska    60718216     19\n",
       "2                                            Arizona    10455037     34\n",
       "3                                          Arkansas      3071778     24\n",
       "4                                        California   1153522038    215\n",
       "5                                           Colorado     8618944     22\n",
       "6                                        Connecticut  1511960683     58\n",
       "7                                           Delaware    70622580     11\n",
       "8                               District of Columbia  1579935794     43\n",
       "9  District of Columbia (Fraud and Public Corrupt...     1500000      3"
      ]
     },
     "execution_count": 24,
     "metadata": {},
     "output_type": "execute_result"
    }
   ],
   "source": [
    "df.groupby('state')['TOTAL_PAYMENT'].agg(['sum', 'count']).reset_index().head(10)"
   ]
  },
  {
   "cell_type": "code",
   "execution_count": 25,
   "metadata": {
    "collapsed": true
   },
   "outputs": [],
   "source": [
    "#df_final = df.groupby('state')['TOTAL_PAYMENT'].agg(['sum', 'count']).sort_values('count')"
   ]
  },
  {
   "cell_type": "code",
   "execution_count": 26,
   "metadata": {
    "collapsed": true
   },
   "outputs": [],
   "source": [
    "#df_final['sum']/df_final['count']"
   ]
  },
  {
   "cell_type": "code",
   "execution_count": 27,
   "metadata": {
    "collapsed": true
   },
   "outputs": [],
   "source": [
    "#California and Florida"
   ]
  },
  {
   "cell_type": "markdown",
   "metadata": {},
   "source": [
    "# Make another comparison between two groups in the full dataset\n",
    "\n",
    "For example, \"cases before 2003 were likely to be about this, but after 2003 they became about something else.\""
   ]
  },
  {
   "cell_type": "code",
   "execution_count": 66,
   "metadata": {},
   "outputs": [
    {
     "data": {
      "text/plain": [
       "Arizona          21\n",
       "Pennsylvania     13\n",
       "Arkansas         10\n",
       "Texas             9\n",
       "Mississippi       7\n",
       "Name: state, dtype: int64"
      ]
     },
     "execution_count": 66,
     "metadata": {},
     "output_type": "execute_result"
    }
   ],
   "source": [
    "df[df.PRIMARY_CRIME_CODE == \"Immigration\"]['state'].value_counts().head()\n",
    "#df[df.PRIMARY_CRIME_CODE == \"Immigration\"]['state'].value_counts().tail(20)\n",
    "\n",
    "#Arizona, Pennsylvania and Arkansas have the most immigration cases "
   ]
  },
  {
   "cell_type": "code",
   "execution_count": null,
   "metadata": {
    "collapsed": true
   },
   "outputs": [],
   "source": []
  }
 ],
 "metadata": {
  "kernelspec": {
   "display_name": "Python 3",
   "language": "python",
   "name": "python3"
  },
  "language_info": {
   "codemirror_mode": {
    "name": "ipython",
    "version": 3
   },
   "file_extension": ".py",
   "mimetype": "text/x-python",
   "name": "python",
   "nbconvert_exporter": "python",
   "pygments_lexer": "ipython3",
   "version": "3.6.1"
  }
 },
 "nbformat": 4,
 "nbformat_minor": 2
}
