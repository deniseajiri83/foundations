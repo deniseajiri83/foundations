{
 "cells": [
  {
   "cell_type": "markdown",
   "metadata": {},
   "source": [
    "Send yourself the top 10 headlines from a news at 8am, 12pm and 4pm. Along with the headlines, also send links to the stories themselves and summaries (if available). Do *not* use the New York Times.\n",
    "\n",
    "Extra Credit: Additionally, create a CSV file once a day of the headlines and have it emailed to you."
   ]
  },
  {
   "cell_type": "code",
   "execution_count": null,
   "metadata": {
    "collapsed": true
   },
   "outputs": [],
   "source": [
    "import requests\n",
    "from bs4 import BeautifulSoup\n",
    "import pandas as pd\n",
    "import time"
   ]
  },
  {
   "cell_type": "code",
   "execution_count": 24,
   "metadata": {
    "collapsed": true
   },
   "outputs": [],
   "source": [
    "response = requests.get(\"http://www.bbc.com/news/world\")\n",
    "doc = BeautifulSoup(response.text, 'html.parser')"
   ]
  },
  {
   "cell_type": "code",
   "execution_count": 25,
   "metadata": {},
   "outputs": [
    {
     "data": {
      "text/plain": [
       "'/news/world-us-canada-40687521'"
      ]
     },
     "execution_count": 25,
     "metadata": {},
     "output_type": "execute_result"
    }
   ],
   "source": [
    "doc.find(class_=\"column--primary\").find_all(class_=\"title-link\")[0]['href']"
   ]
  },
  {
   "cell_type": "code",
   "execution_count": 42,
   "metadata": {
    "collapsed": true
   },
   "outputs": [],
   "source": [
    "table1= doc.find(class_=\"column--primary\")\n",
    "info = table1.find_all(class_=\"buzzard-item\")\n",
    "box1 = []\n",
    "for case in info:\n",
    "    current = {}\n",
    "    current['headline']= case.find(\"span\", class_= \"title-link__title-text\").text\n",
    "    current['summary']= case.find(class_=\"buzzard__summary\").text\n",
    "    current['link']= case.find_all(class_=\"title-link\")[0]['href']\n",
    "box1.append(current)"
   ]
  },
  {
   "cell_type": "code",
   "execution_count": 43,
   "metadata": {
    "collapsed": true
   },
   "outputs": [],
   "source": [
    "table2= doc.find(class_=\"pigeon\")\n",
    "info2=table2.find_all(class_=\"pigeon__column pigeon__column--a\")\n",
    "    \n",
    "box2 = []\n",
    "for case in info2:\n",
    "    current = {}\n",
    "    current['headline']= case.find_all(\"span\", class_= \"title-link__title-text\")[0].text\n",
    "    current['summary']= case.find_all(class_=\"pigeon-item__summary\")[0].text\n",
    "    current['link']= case.find_all(class_=\"title-link\")[0]['href']\n",
    "    box2.append(current)"
   ]
  },
  {
   "cell_type": "code",
   "execution_count": 44,
   "metadata": {
    "collapsed": true
   },
   "outputs": [],
   "source": [
    "table3= doc.find(class_=\"pigeon\")\n",
    "info3 =table3.find_all(class_=\"pigeon__column pigeon__column--b\")\n",
    "list_of_dicts = []\n",
    "for case in info3:\n",
    "    headlines= case.find_all(\"span\", class_= \"title-link__title-text\")\n",
    "    links = case.find_all(class_=\"title-link\")\n",
    "    for every,anything in zip(headlines,links):\n",
    "        dictionary = {}       \n",
    "        dictionary['headline'] = every.text\n",
    "        dictionary['link'] = anything['href']\n",
    "        list_of_dicts.append(dictionary)"
   ]
  },
  {
   "cell_type": "code",
   "execution_count": 45,
   "metadata": {
    "collapsed": true
   },
   "outputs": [],
   "source": [
    "table4= doc.find(class_=\"distinct-component-group container-macaw\")\n",
    "info4 =table4.find_all(class_=\"macaw-item faux-block-link\")\n",
    "list_of_dicts2 = []\n",
    "for case in info4[0:4]:\n",
    "    headlines= case.find_all(\"span\", class_= \"title-link__title-text\")\n",
    "    links = case.find_all(class_=\"title-link\")\n",
    "    for every,anything in zip(headlines,links):\n",
    "        dictionary = {}       \n",
    "        dictionary['headline'] = every.text\n",
    "        dictionary['link'] = anything['href']\n",
    "        list_of_dicts2.append(dictionary)"
   ]
  },
  {
   "cell_type": "code",
   "execution_count": 51,
   "metadata": {
    "collapsed": true
   },
   "outputs": [],
   "source": [
    "df1 = pd.DataFrame(box1)"
   ]
  },
  {
   "cell_type": "code",
   "execution_count": 52,
   "metadata": {
    "collapsed": true,
    "scrolled": true
   },
   "outputs": [],
   "source": [
    "df2 = pd.DataFrame(box2)"
   ]
  },
  {
   "cell_type": "code",
   "execution_count": 53,
   "metadata": {
    "collapsed": true
   },
   "outputs": [],
   "source": [
    "df3 = pd.DataFrame(list_of_dicts)"
   ]
  },
  {
   "cell_type": "code",
   "execution_count": 49,
   "metadata": {
    "collapsed": true
   },
   "outputs": [],
   "source": [
    "df4 = pd.DataFrame(list_of_dicts2)"
   ]
  },
  {
   "cell_type": "code",
   "execution_count": 57,
   "metadata": {
    "collapsed": true
   },
   "outputs": [],
   "source": [
    "BBC_Data = pd.concat([df1, df2, df3, df4], ignore_index = True)"
   ]
  },
  {
   "cell_type": "code",
   "execution_count": 58,
   "metadata": {
    "collapsed": true
   },
   "outputs": [],
   "source": [
    "# BBC_Data.to_csv(\"BBC_Data.csv\", index = False)"
   ]
  },
  {
   "cell_type": "code",
   "execution_count": 59,
   "metadata": {
    "collapsed": true
   },
   "outputs": [],
   "source": [
    "datestring = time.strftime(\"%Y-%m-%d-%H-%M\")\n",
    "\n",
    "filename = \"BBC_Data\" + datestring + \".csv\"\n",
    "BBC_Data.to_csv(filename, index=False)"
   ]
  },
  {
   "cell_type": "code",
   "execution_count": null,
   "metadata": {
    "collapsed": true
   },
   "outputs": [],
   "source": [
    "#nano filename and edit"
   ]
  },
  {
   "cell_type": "code",
   "execution_count": null,
   "metadata": {
    "collapsed": true
   },
   "outputs": [],
   "source": [
    "\n"
   ]
  }
 ],
 "metadata": {
  "kernelspec": {
   "display_name": "Python 3",
   "language": "python",
   "name": "python3"
  },
  "language_info": {
   "codemirror_mode": {
    "name": "ipython",
    "version": 3
   },
   "file_extension": ".py",
   "mimetype": "text/x-python",
   "name": "python",
   "nbconvert_exporter": "python",
   "pygments_lexer": "ipython3",
   "version": "3.6.1"
  }
 },
 "nbformat": 4,
 "nbformat_minor": 2
}
