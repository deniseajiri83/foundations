{
 "cells": [
  {
   "cell_type": "markdown",
   "metadata": {},
   "source": [
    "Get notified via text every time the big headline on the NYT changes (either the box in the middle or the article on the top left changes, whichever you think is more important). The notification should say \"NEW HEADLINE: _______\" and include the headline. Check every 30 minutes Monday through Friday.\n",
    "\n",
    "The texting service you'll use is Twilio (Links to an external site.)Links to an external site.. Feel free to do this via email instead of text if you need to."
   ]
  },
  {
   "cell_type": "code",
   "execution_count": 37,
   "metadata": {},
   "outputs": [
    {
     "name": "stdout",
     "output_type": "stream",
     "text": [
      "200\n",
      "Mailgun Magnificent API\n"
     ]
    }
   ],
   "source": [
    "import requests\n",
    "from bs4 import BeautifulSoup\n",
    "import pandas as pd\n",
    "\n",
    "response = requests.get(\"https://www.nytimes.com/\")\n",
    "doc = BeautifulSoup(response.text, 'html.parser')\n",
    "new_headline = doc.find_all(class_='story-heading')[0].string\n",
    "f = open('headline.txt','r')\n",
    "old_headline = f.read()\n",
    "f.close()\n",
    "if new_headline != old_headline:\n",
    "    #print (\"not match\")\n",
    "    f = open(\"headline.txt\",'w')\n",
    "    f.write(headline)\n",
    "    f.close()\n",
    "    response = requests.post(\n",
    "    \"https://api.mailgun.net/v3/sandbox22b985df69584bab9bdaed88d5f7b46f.mailgun.org\",\n",
    "    auth=(\"api\", \"key-708d654adb423f2b248b9989353f42b3\"),\n",
    "    data={\"from\": \"ajiri.denise@columbia.edu\",\n",
    "          \"to\": [\"denise.ajiri83@gmail.com\"],\n",
    "          \"subject\": \"NYT Headline\",\n",
    "          \"text\": \"NEW HEADLINE ALERT: \" + new_headline })\n",
    "#     print(response.status_code)\n",
    "#     print(response.text)"
   ]
  },
  {
   "cell_type": "code",
   "execution_count": null,
   "metadata": {
    "collapsed": true
   },
   "outputs": [],
   "source": [
    "# import requests\n",
    "# from bs4 import BeautifulSoup\n",
    "# import pandas as pd\n",
    "# https://programminghistorian.org/lessons/working-with-text-files\n",
    "# response = requests.get(\"https://www.nytimes.com/\")\n",
    "# doc = BeautifulSoup(response.text, 'html.parser')\n",
    "# headline = doc.find_all(class_='story-heading')[0].string\n",
    "# f = open(\"headline.txt\",'w')\n",
    "# f.write(headline)\n",
    "# f.close()"
   ]
  }
 ],
 "metadata": {
  "kernelspec": {
   "display_name": "Python 3",
   "language": "python",
   "name": "python3"
  },
  "language_info": {
   "codemirror_mode": {
    "name": "ipython",
    "version": 3
   },
   "file_extension": ".py",
   "mimetype": "text/x-python",
   "name": "python",
   "nbconvert_exporter": "python",
   "pygments_lexer": "ipython3",
   "version": "3.6.1"
  }
 },
 "nbformat": 4,
 "nbformat_minor": 2
}
