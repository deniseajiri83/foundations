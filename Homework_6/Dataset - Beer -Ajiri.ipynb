{
 "cells": [
  {
   "cell_type": "markdown",
   "metadata": {
    "collapsed": true
   },
   "source": [
    "# A dataset about cans of beer.\n",
    "\n",
    "Data from http://craftcans.com/"
   ]
  },
  {
   "cell_type": "markdown",
   "metadata": {},
   "source": [
    "## Do your importing and your setup"
   ]
  },
  {
   "cell_type": "code",
   "execution_count": 1,
   "metadata": {
    "collapsed": true
   },
   "outputs": [],
   "source": [
    "import pandas as pd\n",
    "%matplotlib inline"
   ]
  },
  {
   "cell_type": "markdown",
   "metadata": {},
   "source": [
    "## Read in the file `craftcans.csv`, and look at the first first rows"
   ]
  },
  {
   "cell_type": "code",
   "execution_count": 2,
   "metadata": {},
   "outputs": [
    {
     "data": {
      "text/html": [
       "<div>\n",
       "<style>\n",
       "    .dataframe thead tr:only-child th {\n",
       "        text-align: right;\n",
       "    }\n",
       "\n",
       "    .dataframe thead th {\n",
       "        text-align: left;\n",
       "    }\n",
       "\n",
       "    .dataframe tbody tr th {\n",
       "        vertical-align: top;\n",
       "    }\n",
       "</style>\n",
       "<table border=\"1\" class=\"dataframe\">\n",
       "  <thead>\n",
       "    <tr style=\"text-align: right;\">\n",
       "      <th></th>\n",
       "      <th>Beer</th>\n",
       "      <th>Brewery</th>\n",
       "      <th>Location</th>\n",
       "      <th>Style</th>\n",
       "      <th>Size</th>\n",
       "      <th>ABV</th>\n",
       "      <th>IBUs</th>\n",
       "    </tr>\n",
       "  </thead>\n",
       "  <tbody>\n",
       "    <tr>\n",
       "      <th>0</th>\n",
       "      <td>Get Together</td>\n",
       "      <td>NorthGate Brewing</td>\n",
       "      <td>Minneapolis, MN</td>\n",
       "      <td>American IPA</td>\n",
       "      <td>16 oz.</td>\n",
       "      <td>4.50%</td>\n",
       "      <td>50.0</td>\n",
       "    </tr>\n",
       "    <tr>\n",
       "      <th>1</th>\n",
       "      <td>Maggie's Leap</td>\n",
       "      <td>NorthGate Brewing</td>\n",
       "      <td>Minneapolis, MN</td>\n",
       "      <td>Milk / Sweet Stout</td>\n",
       "      <td>16 oz.</td>\n",
       "      <td>4.90%</td>\n",
       "      <td>26.0</td>\n",
       "    </tr>\n",
       "    <tr>\n",
       "      <th>2</th>\n",
       "      <td>Wall's End</td>\n",
       "      <td>NorthGate Brewing</td>\n",
       "      <td>Minneapolis, MN</td>\n",
       "      <td>English Brown Ale</td>\n",
       "      <td>16 oz.</td>\n",
       "      <td>4.80%</td>\n",
       "      <td>19.0</td>\n",
       "    </tr>\n",
       "    <tr>\n",
       "      <th>3</th>\n",
       "      <td>Pumpion</td>\n",
       "      <td>NorthGate Brewing</td>\n",
       "      <td>Minneapolis, MN</td>\n",
       "      <td>Pumpkin Ale</td>\n",
       "      <td>16 oz.</td>\n",
       "      <td>6.00%</td>\n",
       "      <td>38.0</td>\n",
       "    </tr>\n",
       "    <tr>\n",
       "      <th>4</th>\n",
       "      <td>Stronghold</td>\n",
       "      <td>NorthGate Brewing</td>\n",
       "      <td>Minneapolis, MN</td>\n",
       "      <td>American Porter</td>\n",
       "      <td>16 oz.</td>\n",
       "      <td>6.00%</td>\n",
       "      <td>25.0</td>\n",
       "    </tr>\n",
       "  </tbody>\n",
       "</table>\n",
       "</div>"
      ],
      "text/plain": [
       "            Beer            Brewery         Location               Style  \\\n",
       "0   Get Together  NorthGate Brewing  Minneapolis, MN        American IPA   \n",
       "1  Maggie's Leap  NorthGate Brewing  Minneapolis, MN  Milk / Sweet Stout   \n",
       "2     Wall's End  NorthGate Brewing  Minneapolis, MN   English Brown Ale   \n",
       "3        Pumpion  NorthGate Brewing  Minneapolis, MN         Pumpkin Ale   \n",
       "4     Stronghold  NorthGate Brewing  Minneapolis, MN     American Porter   \n",
       "\n",
       "     Size    ABV  IBUs  \n",
       "0  16 oz.  4.50%  50.0  \n",
       "1  16 oz.  4.90%  26.0  \n",
       "2  16 oz.  4.80%  19.0  \n",
       "3  16 oz.  6.00%  38.0  \n",
       "4  16 oz.  6.00%  25.0  "
      ]
     },
     "execution_count": 2,
     "metadata": {},
     "output_type": "execute_result"
    }
   ],
   "source": [
    "df = pd.read_csv(\"craftcans.csv\",na_values=['???','NA','Unknown','UNKNOWN','unknown'])\n",
    "df.head()"
   ]
  },
  {
   "cell_type": "markdown",
   "metadata": {},
   "source": [
    "stype(floatif want to remove something\n",
    "you say: cityname.replace(\"Minneapolis\", \"Worst city\")\n",
    "\n",
    "#df['location'].str.replace(\"Minneapolis\", \"Worst city\")\n",
    "# in order to change things permenantly:\n",
    "#cityname = df.['location'].str.replace(\"Minneapolis\", \"Worst city\")\n",
    "\n",
    "# there are certain things you do on columns and certain things you do on strings\n",
    "\n",
    "How to convert something: astype: df.IBUs_string.astype(float)\n",
    "\n",
    "df.ABV.astype (when you get ??? because there are empty parts/missing parts)\n",
    "you want nothing in an emty cell:\n",
    "\n",
    "df=pd.read_csv(), 'na_values = ['N/A']\n",
    "\n",
    "df[\"Style\"].value_counts(normalize = True) .... that'll give you a percentage.\n",
    "\n",
    "- bin: df['IBU'].hist(bin=30)\n",
    "\n",
    "-count the number rows that meet some condition: df[df.IBUs > 40].shape\n",
    "you basically filter and then count the rows and columns\n",
    "\n",
    "Nulls last= na_position \n",
    "\n",
    "df.sort_values(na_position='first\").....\n",
    "\n",
    "df.dropna().sort_values()..... it's not permenant but if you did it on \n",
    "\n",
    "df.dropna(subset['IBUs'], inplace=True)"
   ]
  },
  {
   "cell_type": "markdown",
   "metadata": {},
   "source": [
    "## How many rows do you have in the data? What are the column types?"
   ]
  },
  {
   "cell_type": "code",
   "execution_count": 3,
   "metadata": {},
   "outputs": [
    {
     "data": {
      "text/plain": [
       "(2416, 7)"
      ]
     },
     "execution_count": 3,
     "metadata": {},
     "output_type": "execute_result"
    }
   ],
   "source": [
    "df.shape\n",
    "#there are 2416 rows & 7 columns."
   ]
  },
  {
   "cell_type": "code",
   "execution_count": 4,
   "metadata": {},
   "outputs": [
    {
     "data": {
      "text/plain": [
       "Beer         object\n",
       "Brewery      object\n",
       "Location     object\n",
       "Style        object\n",
       "Size         object\n",
       "ABV          object\n",
       "IBUs        float64\n",
       "dtype: object"
      ]
     },
     "execution_count": 4,
     "metadata": {},
     "output_type": "execute_result"
    }
   ],
   "source": [
    "df.dtypes"
   ]
  },
  {
   "cell_type": "markdown",
   "metadata": {},
   "source": [
    "# Checking out breweries\n",
    "\n",
    "Where does beer come from????"
   ]
  },
  {
   "cell_type": "markdown",
   "metadata": {},
   "source": [
    "## What are the top 10 producers of cans of beer?"
   ]
  },
  {
   "cell_type": "code",
   "execution_count": 30,
   "metadata": {},
   "outputs": [
    {
     "data": {
      "text/plain": [
       "Brewery Vivant                62\n",
       "Oskar Blues Brewery           46\n",
       "Sun King Brewing Company      38\n",
       "Cigar City Brewing Company    25\n",
       "Sixpoint Craft Ales           24\n",
       "Hopworks Urban Brewery        23\n",
       "Stevens Point Brewery         22\n",
       "Great Crescent Brewery        20\n",
       "21st Amendment Brewery        20\n",
       "SanTan Brewing Company        19\n",
       "Name: Brewery, dtype: int64"
      ]
     },
     "execution_count": 30,
     "metadata": {},
     "output_type": "execute_result"
    }
   ],
   "source": [
    "df['Brewery'].value_counts().head(10)"
   ]
  },
  {
   "cell_type": "markdown",
   "metadata": {},
   "source": [
    "## What is the most common size of beer?\n",
    "\n",
    "The answer won't be pretty - we'll learn to clean it up in a week or two."
   ]
  },
  {
   "cell_type": "code",
   "execution_count": 31,
   "metadata": {},
   "outputs": [
    {
     "data": {
      "text/plain": [
       "12 oz.    1507\n",
       "16 oz.     814\n",
       "24 oz.      21\n",
       "Name: Size, dtype: int64"
      ]
     },
     "execution_count": 31,
     "metadata": {},
     "output_type": "execute_result"
    }
   ],
   "source": [
    "df['Size'].value_counts().head(3)"
   ]
  },
  {
   "cell_type": "markdown",
   "metadata": {},
   "source": [
    "## What is the most common ABV? (alcohol by volume)"
   ]
  },
  {
   "cell_type": "code",
   "execution_count": 7,
   "metadata": {},
   "outputs": [
    {
     "data": {
      "text/plain": [
       "5.00%    215\n",
       "5.50%    158\n",
       "6.00%    125\n",
       "Name: ABV, dtype: int64"
      ]
     },
     "execution_count": 7,
     "metadata": {},
     "output_type": "execute_result"
    }
   ],
   "source": [
    "df['ABV'].value_counts().head(3)"
   ]
  },
  {
   "cell_type": "markdown",
   "metadata": {},
   "source": [
    "## Oh, weird, ABV isn't a number. Convert it to a number for me, please.\n",
    "\n",
    "It's going to take three steps:\n",
    "\n",
    "1. List just the ABV of every row\n",
    "2. Remove the % symbol\n",
    "3. Convert it to a `float`\n",
    "4. Save it into a new column. Or the same column, if you're feeling wild.\n",
    "\n",
    "Although it *also* turns out that there's some bad data in there. We'll need to clean that up, too."
   ]
  },
  {
   "cell_type": "code",
   "execution_count": 8,
   "metadata": {},
   "outputs": [
    {
     "data": {
      "text/plain": [
       "0    4.50\n",
       "1    4.90\n",
       "2    4.80\n",
       "3    6.00\n",
       "4    6.00\n",
       "Name: ABV, dtype: object"
      ]
     },
     "execution_count": 8,
     "metadata": {},
     "output_type": "execute_result"
    }
   ],
   "source": [
    "df['ABV'].str.replace(\"%\", \"\").head()"
   ]
  },
  {
   "cell_type": "code",
   "execution_count": 9,
   "metadata": {},
   "outputs": [
    {
     "data": {
      "text/plain": [
       "0    4.5\n",
       "1    4.9\n",
       "2    4.8\n",
       "3    6.0\n",
       "4    6.0\n",
       "Name: ABV, dtype: float64"
      ]
     },
     "execution_count": 9,
     "metadata": {},
     "output_type": "execute_result"
    }
   ],
   "source": [
    "df['ABV'].str.replace(\"%\", \"\").astype(float).head()\n",
    "#df['New_ABV'].astype(float).head()\n",
    "#astype: df.IBUs_string.astype(float)"
   ]
  },
  {
   "cell_type": "markdown",
   "metadata": {},
   "source": [
    "# Looking at location\n",
    "\n",
    "Brooklyn used to produce 80% of the country's beer! Let's see if it's still true."
   ]
  },
  {
   "cell_type": "markdown",
   "metadata": {},
   "source": [
    "## What are the top 10 cities in the US for canned craft beer?"
   ]
  },
  {
   "cell_type": "code",
   "execution_count": 10,
   "metadata": {},
   "outputs": [
    {
     "data": {
      "text/plain": [
       "Grand Rapids, MI    66\n",
       "Chicago, IL         55\n",
       "Portland, OR        52\n",
       "Indianapolis, IN    43\n",
       "San Diego, CA       42\n",
       "Boulder, CO         41\n",
       "Denver, CO          40\n",
       "Brooklyn, NY        38\n",
       "Seattle, WA         35\n",
       "Longmont, CO        33\n",
       "Name: Location, dtype: int64"
      ]
     },
     "execution_count": 10,
     "metadata": {},
     "output_type": "execute_result"
    }
   ],
   "source": [
    "df['Location'].value_counts().head(10)"
   ]
  },
  {
   "cell_type": "markdown",
   "metadata": {},
   "source": [
    "## List all of the beer from Brooklyn, NY"
   ]
  },
  {
   "cell_type": "code",
   "execution_count": 11,
   "metadata": {
    "scrolled": true
   },
   "outputs": [
    {
     "data": {
      "text/plain": [
       "East India Pale Ale                2\n",
       "Brooklyn Summer Ale                1\n",
       "Apollo                             1\n",
       "Sweet Action                       1\n",
       "Sweet Action (2011)                1\n",
       "Hipster Ale (Two Roads Brewing)    1\n",
       "Righteous Ale                      1\n",
       "Global Warmer                      1\n",
       "Sensi Harvest                      1\n",
       "Diesel                             1\n",
       "Brooklyn Summer Ale (2011)         1\n",
       "Nomader Weiss                      1\n",
       "Molotov Lite                       1\n",
       "Hipster Ale (Westbrook Brewing)    1\n",
       "Bengali Tiger                      1\n",
       "Autumnation (2011-12) (2011)       1\n",
       "4Beans                             1\n",
       "Resin                              1\n",
       "Autumnation (2013)                 1\n",
       "Hi-Res                             1\n",
       "Jammer                             1\n",
       "Bengali                            1\n",
       "The Crisp                          1\n",
       "3Beans                             1\n",
       "Bengali Tiger (2011)               1\n",
       "KelSo Nut Brown Lager              1\n",
       "Rad                                1\n",
       "Brooklyn Lager (12 oz.)            1\n",
       "Harbinger                          1\n",
       "Brooklyn Lager (16 oz.)            1\n",
       "KelSo India Pale Ale               1\n",
       "Brownstone                         1\n",
       "The Crisp (2011)                   1\n",
       "Bikini Beer                        1\n",
       "Righteous Ale (2011)               1\n",
       "KelSo Pilsner                      1\n",
       "Abigale                            1\n",
       "Name: Beer, dtype: int64"
      ]
     },
     "execution_count": 11,
     "metadata": {},
     "output_type": "execute_result"
    }
   ],
   "source": [
    "#df.groupby('Location')['Beer'].value_counts().groupby(level=1).head()\n",
    "Brook_Beer = df[df['Location'] == 'Brooklyn, NY']['Beer'].value_counts()\n",
    "\n",
    "Brook_Beer\n",
    "\n",
    "#Brook_Beer.groupby('Location')['Beer'].value_counts()\n",
    "\n",
    "#IPA = df[df['Style'].str.contains(\"IPA\", na=False)]\n",
    "\n",
    "#IPA.groupby('Style')['ABV'].value_counts().groupby(level=0).head(2)"
   ]
  },
  {
   "cell_type": "markdown",
   "metadata": {},
   "source": [
    "## What brewery in Brooklyn puts out the most cans of beer?"
   ]
  },
  {
   "cell_type": "code",
   "execution_count": 12,
   "metadata": {},
   "outputs": [
    {
     "data": {
      "text/plain": [
       "Sixpoint Craft Ales    24\n",
       "Name: Brewery, dtype: int64"
      ]
     },
     "execution_count": 12,
     "metadata": {},
     "output_type": "execute_result"
    }
   ],
   "source": [
    "df[df['Location'] == 'Brooklyn, NY']['Brewery'].value_counts().head(1)"
   ]
  },
  {
   "cell_type": "markdown",
   "metadata": {},
   "source": [
    "## What are the five most popular styles of beer produced by Sixpoint?"
   ]
  },
  {
   "cell_type": "code",
   "execution_count": 13,
   "metadata": {},
   "outputs": [
    {
     "data": {
      "text/plain": [
       "American IPA                      4\n",
       "German Pilsener                   2\n",
       "Cream Ale                         2\n",
       "Baltic Porter                     2\n",
       "American Double / Imperial IPA    2\n",
       "Name: Style, dtype: int64"
      ]
     },
     "execution_count": 13,
     "metadata": {},
     "output_type": "execute_result"
    }
   ],
   "source": [
    "df[df['Brewery'] == 'Sixpoint Craft Ales']['Style'].value_counts().head(5)"
   ]
  },
  {
   "cell_type": "markdown",
   "metadata": {},
   "source": [
    "## List all of the breweries in New York state. Then count them."
   ]
  },
  {
   "cell_type": "code",
   "execution_count": 14,
   "metadata": {},
   "outputs": [
    {
     "data": {
      "text/html": [
       "<div>\n",
       "<style>\n",
       "    .dataframe thead tr:only-child th {\n",
       "        text-align: right;\n",
       "    }\n",
       "\n",
       "    .dataframe thead th {\n",
       "        text-align: left;\n",
       "    }\n",
       "\n",
       "    .dataframe tbody tr th {\n",
       "        vertical-align: top;\n",
       "    }\n",
       "</style>\n",
       "<table border=\"1\" class=\"dataframe\">\n",
       "  <thead>\n",
       "    <tr style=\"text-align: right;\">\n",
       "      <th></th>\n",
       "      <th>Beer</th>\n",
       "      <th>Brewery</th>\n",
       "      <th>Location</th>\n",
       "      <th>Style</th>\n",
       "      <th>Size</th>\n",
       "      <th>ABV</th>\n",
       "      <th>IBUs</th>\n",
       "    </tr>\n",
       "  </thead>\n",
       "  <tbody>\n",
       "    <tr>\n",
       "      <th>115</th>\n",
       "      <td>4Beans</td>\n",
       "      <td>Sixpoint Craft Ales</td>\n",
       "      <td>Brooklyn, NY</td>\n",
       "      <td>Baltic Porter</td>\n",
       "      <td>12 oz.</td>\n",
       "      <td>10.00%</td>\n",
       "      <td>52.0</td>\n",
       "    </tr>\n",
       "    <tr>\n",
       "      <th>210</th>\n",
       "      <td>Jammer</td>\n",
       "      <td>Sixpoint Craft Ales</td>\n",
       "      <td>Brooklyn, NY</td>\n",
       "      <td>Gose</td>\n",
       "      <td>12 oz. Slimline</td>\n",
       "      <td>4.20%</td>\n",
       "      <td>16.0</td>\n",
       "    </tr>\n",
       "    <tr>\n",
       "      <th>246</th>\n",
       "      <td>Abigale</td>\n",
       "      <td>Sixpoint Craft Ales</td>\n",
       "      <td>Brooklyn, NY</td>\n",
       "      <td>Belgian Pale Ale</td>\n",
       "      <td>12 oz.</td>\n",
       "      <td>8.00%</td>\n",
       "      <td>NaN</td>\n",
       "    </tr>\n",
       "    <tr>\n",
       "      <th>404</th>\n",
       "      <td>Nomader Weiss</td>\n",
       "      <td>Evil Twin Brewing</td>\n",
       "      <td>Brooklyn, NY</td>\n",
       "      <td>Berliner Weissbier</td>\n",
       "      <td>12 oz.</td>\n",
       "      <td>4.00%</td>\n",
       "      <td>NaN</td>\n",
       "    </tr>\n",
       "    <tr>\n",
       "      <th>421</th>\n",
       "      <td>Rad</td>\n",
       "      <td>Sixpoint Craft Ales</td>\n",
       "      <td>Brooklyn, NY</td>\n",
       "      <td>Fruit / Vegetable Beer</td>\n",
       "      <td>16 oz.</td>\n",
       "      <td>3.20%</td>\n",
       "      <td>7.0</td>\n",
       "    </tr>\n",
       "  </tbody>\n",
       "</table>\n",
       "</div>"
      ],
      "text/plain": [
       "              Beer              Brewery      Location                   Style  \\\n",
       "115         4Beans  Sixpoint Craft Ales  Brooklyn, NY           Baltic Porter   \n",
       "210         Jammer  Sixpoint Craft Ales  Brooklyn, NY                    Gose   \n",
       "246        Abigale  Sixpoint Craft Ales  Brooklyn, NY        Belgian Pale Ale   \n",
       "404  Nomader Weiss    Evil Twin Brewing  Brooklyn, NY      Berliner Weissbier   \n",
       "421            Rad  Sixpoint Craft Ales  Brooklyn, NY  Fruit / Vegetable Beer   \n",
       "\n",
       "                Size     ABV  IBUs  \n",
       "115           12 oz.  10.00%  52.0  \n",
       "210  12 oz. Slimline   4.20%  16.0  \n",
       "246           12 oz.   8.00%   NaN  \n",
       "404           12 oz.   4.00%   NaN  \n",
       "421           16 oz.   3.20%   7.0  "
      ]
     },
     "execution_count": 14,
     "metadata": {},
     "output_type": "execute_result"
    }
   ],
   "source": [
    "df_brewery = df[df['Location'].str.contains(\"NY\", na=False)]\n",
    "df_brewery.head()"
   ]
  },
  {
   "cell_type": "code",
   "execution_count": 15,
   "metadata": {},
   "outputs": [
    {
     "data": {
      "text/plain": [
       "(74, 7)"
      ]
     },
     "execution_count": 15,
     "metadata": {},
     "output_type": "execute_result"
    }
   ],
   "source": [
    "df_brewery.shape\n",
    "#df['Location'].str.contains(\"NY\", na=False).value_counts()\n",
    "#df['Location'].str.contains(\"NY\").value_counts(dropna=False)"
   ]
  },
  {
   "cell_type": "markdown",
   "metadata": {},
   "source": [
    "# Measuring International Bitterness Units\n",
    "\n",
    "IBU stands for [International Bitterness Unit](http://www.thebrewenthusiast.com/ibus/), and while a lot of places like to brag about having the most bitter beer (it's an American thing!), IBUs don't necessary *mean anything*.\n",
    "\n",
    "Let's look at how different beers have different IBU measurements."
   ]
  },
  {
   "cell_type": "markdown",
   "metadata": {},
   "source": [
    "## What is the average IBU measurement across all beers?"
   ]
  },
  {
   "cell_type": "code",
   "execution_count": 16,
   "metadata": {},
   "outputs": [
    {
     "data": {
      "text/plain": [
       "42.713167259786474"
      ]
     },
     "execution_count": 16,
     "metadata": {},
     "output_type": "execute_result"
    }
   ],
   "source": [
    "df['IBUs'].mean()"
   ]
  },
  {
   "cell_type": "markdown",
   "metadata": {},
   "source": [
    "## Draw the distribution of IBU measurements, but with *thirty* bins instead of the default of 10"
   ]
  },
  {
   "cell_type": "code",
   "execution_count": 17,
   "metadata": {},
   "outputs": [
    {
     "data": {
      "text/plain": [
       "<matplotlib.axes._subplots.AxesSubplot at 0x10322ac88>"
      ]
     },
     "execution_count": 17,
     "metadata": {},
     "output_type": "execute_result"
    },
    {
     "data": {
      "image/png": "[encoded data removed]",
      "text/plain": [
       "<matplotlib.figure.Figure at 0x10245dcc0>"
      ]
     },
     "metadata": {},
     "output_type": "display_data"
    }
   ],
   "source": [
    "df['IBUs'].hist(bins=30)"
   ]
  },
  {
   "cell_type": "markdown",
   "metadata": {},
   "source": [
    "## List all of the beers with IBUs above the 75th percentile"
   ]
  },
  {
   "cell_type": "code",
   "execution_count": 18,
   "metadata": {},
   "outputs": [
    {
     "data": {
      "text/plain": [
       "count    1405.000000\n",
       "mean       42.713167\n",
       "std        25.954066\n",
       "min         4.000000\n",
       "25%        21.000000\n",
       "50%        35.000000\n",
       "75%        64.000000\n",
       "max       138.000000\n",
       "Name: IBUs, dtype: float64"
      ]
     },
     "execution_count": 18,
     "metadata": {},
     "output_type": "execute_result"
    }
   ],
   "source": [
    "df['IBUs'].describe()"
   ]
  },
  {
   "cell_type": "code",
   "execution_count": 19,
   "metadata": {},
   "outputs": [
    {
     "data": {
      "text/html": [
       "<div>\n",
       "<style>\n",
       "    .dataframe thead tr:only-child th {\n",
       "        text-align: right;\n",
       "    }\n",
       "\n",
       "    .dataframe thead th {\n",
       "        text-align: left;\n",
       "    }\n",
       "\n",
       "    .dataframe tbody tr th {\n",
       "        vertical-align: top;\n",
       "    }\n",
       "</style>\n",
       "<table border=\"1\" class=\"dataframe\">\n",
       "  <thead>\n",
       "    <tr style=\"text-align: right;\">\n",
       "      <th></th>\n",
       "      <th>Beer</th>\n",
       "      <th>Brewery</th>\n",
       "      <th>Location</th>\n",
       "      <th>Style</th>\n",
       "      <th>Size</th>\n",
       "      <th>ABV</th>\n",
       "      <th>IBUs</th>\n",
       "    </tr>\n",
       "  </thead>\n",
       "  <tbody>\n",
       "    <tr>\n",
       "      <th>6</th>\n",
       "      <td>Citra Ass Down</td>\n",
       "      <td>Against the Grain Brewery</td>\n",
       "      <td>Louisville, KY</td>\n",
       "      <td>American Double / Imperial IPA</td>\n",
       "      <td>16 oz.</td>\n",
       "      <td>8.00%</td>\n",
       "      <td>68.0</td>\n",
       "    </tr>\n",
       "    <tr>\n",
       "      <th>7</th>\n",
       "      <td>London Balling</td>\n",
       "      <td>Against the Grain Brewery</td>\n",
       "      <td>Louisville, KY</td>\n",
       "      <td>English Barleywine</td>\n",
       "      <td>16 oz.</td>\n",
       "      <td>12.50%</td>\n",
       "      <td>80.0</td>\n",
       "    </tr>\n",
       "    <tr>\n",
       "      <th>14</th>\n",
       "      <td>Rico Sauvin</td>\n",
       "      <td>Against the Grain Brewery</td>\n",
       "      <td>Louisville, KY</td>\n",
       "      <td>American Double / Imperial IPA</td>\n",
       "      <td>16 oz.</td>\n",
       "      <td>7.60%</td>\n",
       "      <td>68.0</td>\n",
       "    </tr>\n",
       "    <tr>\n",
       "      <th>17</th>\n",
       "      <td>Pile of Face</td>\n",
       "      <td>Against the Grain Brewery</td>\n",
       "      <td>Louisville, KY</td>\n",
       "      <td>American IPA</td>\n",
       "      <td>16 oz.</td>\n",
       "      <td>6.00%</td>\n",
       "      <td>65.0</td>\n",
       "    </tr>\n",
       "    <tr>\n",
       "      <th>21</th>\n",
       "      <td>Excess IPL</td>\n",
       "      <td>Jack's Abby Craft Lagers</td>\n",
       "      <td>Framingham, MA</td>\n",
       "      <td>American India Pale Lager</td>\n",
       "      <td>16 oz.</td>\n",
       "      <td>7.20%</td>\n",
       "      <td>80.0</td>\n",
       "    </tr>\n",
       "    <tr>\n",
       "      <th>22</th>\n",
       "      <td>Hoponius Union</td>\n",
       "      <td>Jack's Abby Craft Lagers</td>\n",
       "      <td>Framingham, MA</td>\n",
       "      <td>American India Pale Lager</td>\n",
       "      <td>12 oz.</td>\n",
       "      <td>6.70%</td>\n",
       "      <td>65.0</td>\n",
       "    </tr>\n",
       "    <tr>\n",
       "      <th>24</th>\n",
       "      <td>Habitus (2014)</td>\n",
       "      <td>Mike Hess Brewing Company</td>\n",
       "      <td>San Diego, CA</td>\n",
       "      <td>American Double / Imperial IPA</td>\n",
       "      <td>16 oz.</td>\n",
       "      <td>8.00%</td>\n",
       "      <td>100.0</td>\n",
       "    </tr>\n",
       "    <tr>\n",
       "      <th>25</th>\n",
       "      <td>Solis</td>\n",
       "      <td>Mike Hess Brewing Company</td>\n",
       "      <td>San Diego, CA</td>\n",
       "      <td>American IPA</td>\n",
       "      <td>16 oz.</td>\n",
       "      <td>7.50%</td>\n",
       "      <td>85.0</td>\n",
       "    </tr>\n",
       "    <tr>\n",
       "      <th>27</th>\n",
       "      <td>Habitus</td>\n",
       "      <td>Mike Hess Brewing Company</td>\n",
       "      <td>San Diego, CA</td>\n",
       "      <td>American Double / Imperial IPA</td>\n",
       "      <td>16 oz.</td>\n",
       "      <td>8.00%</td>\n",
       "      <td>100.0</td>\n",
       "    </tr>\n",
       "    <tr>\n",
       "      <th>46</th>\n",
       "      <td>Yeti Imperial Stout</td>\n",
       "      <td>Great Divide Brewing Company</td>\n",
       "      <td>Denver, CO</td>\n",
       "      <td>Russian Imperial Stout</td>\n",
       "      <td>12 oz.</td>\n",
       "      <td>9.50%</td>\n",
       "      <td>75.0</td>\n",
       "    </tr>\n",
       "    <tr>\n",
       "      <th>59</th>\n",
       "      <td>98 Problems (Cuz A Hop Ain't One)</td>\n",
       "      <td>Perrin Brewing Company</td>\n",
       "      <td>Comstock Park, MI</td>\n",
       "      <td>American IPA</td>\n",
       "      <td>12 oz.</td>\n",
       "      <td>6.50%</td>\n",
       "      <td>65.0</td>\n",
       "    </tr>\n",
       "    <tr>\n",
       "      <th>62</th>\n",
       "      <td>Train Hopper</td>\n",
       "      <td>Witch's Hat Brewing Company</td>\n",
       "      <td>South Lyon, MI</td>\n",
       "      <td>American IPA</td>\n",
       "      <td>12 oz.</td>\n",
       "      <td>5.80%</td>\n",
       "      <td>72.0</td>\n",
       "    </tr>\n",
       "    <tr>\n",
       "      <th>68</th>\n",
       "      <td>Csar</td>\n",
       "      <td>Tin Man Brewing Company</td>\n",
       "      <td>Evansville, IN</td>\n",
       "      <td>Russian Imperial Stout</td>\n",
       "      <td>16 oz.</td>\n",
       "      <td>12.00%</td>\n",
       "      <td>90.0</td>\n",
       "    </tr>\n",
       "    <tr>\n",
       "      <th>69</th>\n",
       "      <td>Saucy Intruder</td>\n",
       "      <td>Black Acre Brewing Co.</td>\n",
       "      <td>Indianapolis, IN</td>\n",
       "      <td>Rye Beer</td>\n",
       "      <td>16 oz.</td>\n",
       "      <td>7.20%</td>\n",
       "      <td>75.0</td>\n",
       "    </tr>\n",
       "    <tr>\n",
       "      <th>79</th>\n",
       "      <td>The Gadget</td>\n",
       "      <td>Four Fathers Brewing</td>\n",
       "      <td>Valparaiso, IN</td>\n",
       "      <td>American IPA</td>\n",
       "      <td>16 oz.</td>\n",
       "      <td>6.40%</td>\n",
       "      <td>90.0</td>\n",
       "    </tr>\n",
       "    <tr>\n",
       "      <th>89</th>\n",
       "      <td>Gone A-Rye</td>\n",
       "      <td>Cedar Creek Brewery</td>\n",
       "      <td>Seven Points, TX</td>\n",
       "      <td>American Double / Imperial IPA</td>\n",
       "      <td>16 oz.</td>\n",
       "      <td>8.50%</td>\n",
       "      <td>90.0</td>\n",
       "    </tr>\n",
       "    <tr>\n",
       "      <th>93</th>\n",
       "      <td>Heavy Lifting</td>\n",
       "      <td>Boulevard Brewing Company</td>\n",
       "      <td>Kansas City, MO</td>\n",
       "      <td>American IPA</td>\n",
       "      <td>12 oz.</td>\n",
       "      <td>6.20%</td>\n",
       "      <td>80.0</td>\n",
       "    </tr>\n",
       "    <tr>\n",
       "      <th>110</th>\n",
       "      <td>Jah Mon</td>\n",
       "      <td>Rivertowne Brewing Company</td>\n",
       "      <td>Export, PA</td>\n",
       "      <td>American IPA</td>\n",
       "      <td>12 oz.</td>\n",
       "      <td>5.00%</td>\n",
       "      <td>100.0</td>\n",
       "    </tr>\n",
       "    <tr>\n",
       "      <th>123</th>\n",
       "      <td>Flying Mouse 4</td>\n",
       "      <td>Flying Mouse Brewery</td>\n",
       "      <td>Troutville, VA</td>\n",
       "      <td>American IPA</td>\n",
       "      <td>12 oz.</td>\n",
       "      <td>7.00%</td>\n",
       "      <td>70.0</td>\n",
       "    </tr>\n",
       "    <tr>\n",
       "      <th>149</th>\n",
       "      <td>Citra Ass Down</td>\n",
       "      <td>Against The Grain Brewery</td>\n",
       "      <td>Louisville, KY</td>\n",
       "      <td>American IPA</td>\n",
       "      <td>16 oz.</td>\n",
       "      <td>8.20%</td>\n",
       "      <td>68.0</td>\n",
       "    </tr>\n",
       "    <tr>\n",
       "      <th>168</th>\n",
       "      <td>Soul Doubt</td>\n",
       "      <td>Freetail Brewing Company</td>\n",
       "      <td>San Antonio, TX</td>\n",
       "      <td>American IPA</td>\n",
       "      <td>12 oz.</td>\n",
       "      <td>5.90%</td>\n",
       "      <td>70.0</td>\n",
       "    </tr>\n",
       "    <tr>\n",
       "      <th>170</th>\n",
       "      <td>Bimini Twist</td>\n",
       "      <td>3 Daughters Brewing</td>\n",
       "      <td>St Petersburg, FL</td>\n",
       "      <td>American IPA</td>\n",
       "      <td>12 oz.</td>\n",
       "      <td>7.00%</td>\n",
       "      <td>82.0</td>\n",
       "    </tr>\n",
       "    <tr>\n",
       "      <th>178</th>\n",
       "      <td>Long Leaf</td>\n",
       "      <td>Appalachian Mountain Brewery</td>\n",
       "      <td>Boone, NC</td>\n",
       "      <td>American IPA</td>\n",
       "      <td>16 oz.</td>\n",
       "      <td>7.10%</td>\n",
       "      <td>75.0</td>\n",
       "    </tr>\n",
       "    <tr>\n",
       "      <th>182</th>\n",
       "      <td>Double Duckpin</td>\n",
       "      <td>Union Craft Brewing</td>\n",
       "      <td>Baltimore, MD</td>\n",
       "      <td>American Double / Imperial IPA</td>\n",
       "      <td>12 oz.</td>\n",
       "      <td>8.50%</td>\n",
       "      <td>90.0</td>\n",
       "    </tr>\n",
       "    <tr>\n",
       "      <th>186</th>\n",
       "      <td>Hop A-Peel</td>\n",
       "      <td>Atwater Brewery</td>\n",
       "      <td>Detroit, MI</td>\n",
       "      <td>American Double / Imperial IPA</td>\n",
       "      <td>16 oz.</td>\n",
       "      <td>7.50%</td>\n",
       "      <td>115.0</td>\n",
       "    </tr>\n",
       "    <tr>\n",
       "      <th>192</th>\n",
       "      <td>Wobble</td>\n",
       "      <td>Two Brothers Brewing Company</td>\n",
       "      <td>Warrenville, IL</td>\n",
       "      <td>American IPA</td>\n",
       "      <td>16 oz.</td>\n",
       "      <td>6.30%</td>\n",
       "      <td>69.0</td>\n",
       "    </tr>\n",
       "    <tr>\n",
       "      <th>218</th>\n",
       "      <td>Hopkick Dropkick</td>\n",
       "      <td>Burn 'Em Brewing</td>\n",
       "      <td>Michigan City, IN</td>\n",
       "      <td>American Double / Imperial IPA</td>\n",
       "      <td>12 oz.</td>\n",
       "      <td>9.90%</td>\n",
       "      <td>115.0</td>\n",
       "    </tr>\n",
       "    <tr>\n",
       "      <th>226</th>\n",
       "      <td>Union Jack</td>\n",
       "      <td>Firestone Walker Brewing Company</td>\n",
       "      <td>Paso Robles, CA</td>\n",
       "      <td>American IPA</td>\n",
       "      <td>12 oz.</td>\n",
       "      <td>7.50%</td>\n",
       "      <td>75.0</td>\n",
       "    </tr>\n",
       "    <tr>\n",
       "      <th>229</th>\n",
       "      <td>India Pale Ale</td>\n",
       "      <td>Kirkwood Station Brewing Company</td>\n",
       "      <td>Kirkwood, MO</td>\n",
       "      <td>American IPA</td>\n",
       "      <td>16 oz.</td>\n",
       "      <td>6.30%</td>\n",
       "      <td>65.0</td>\n",
       "    </tr>\n",
       "    <tr>\n",
       "      <th>239</th>\n",
       "      <td>Self Starter</td>\n",
       "      <td>Warped Wing Brewing Company</td>\n",
       "      <td>Dayton, OH</td>\n",
       "      <td>American IPA</td>\n",
       "      <td>16 oz.</td>\n",
       "      <td>5.20%</td>\n",
       "      <td>67.0</td>\n",
       "    </tr>\n",
       "    <tr>\n",
       "      <th>...</th>\n",
       "      <td>...</td>\n",
       "      <td>...</td>\n",
       "      <td>...</td>\n",
       "      <td>...</td>\n",
       "      <td>...</td>\n",
       "      <td>...</td>\n",
       "      <td>...</td>\n",
       "    </tr>\n",
       "    <tr>\n",
       "      <th>2181</th>\n",
       "      <td>Upstate I.P.W.</td>\n",
       "      <td>Upstate Brewing Company</td>\n",
       "      <td>Elmira, NY</td>\n",
       "      <td>American IPA</td>\n",
       "      <td>12 oz.</td>\n",
       "      <td>6.50%</td>\n",
       "      <td>70.0</td>\n",
       "    </tr>\n",
       "    <tr>\n",
       "      <th>2182</th>\n",
       "      <td>Heady Topper</td>\n",
       "      <td>The Alchemist</td>\n",
       "      <td>Waterbury, VT</td>\n",
       "      <td>American Double / Imperial IPA</td>\n",
       "      <td>16 oz.</td>\n",
       "      <td>8.00%</td>\n",
       "      <td>120.0</td>\n",
       "    </tr>\n",
       "    <tr>\n",
       "      <th>2186</th>\n",
       "      <td>Hop Ottin' IPA (2011)</td>\n",
       "      <td>Anderson Valley Brewing Company</td>\n",
       "      <td>Boonville, CA</td>\n",
       "      <td>American IPA</td>\n",
       "      <td>12 oz.</td>\n",
       "      <td>7.00%</td>\n",
       "      <td>80.0</td>\n",
       "    </tr>\n",
       "    <tr>\n",
       "      <th>2218</th>\n",
       "      <td>WET</td>\n",
       "      <td>Surly Brewing Company</td>\n",
       "      <td>Brooklyn Center, MN</td>\n",
       "      <td>American IPA</td>\n",
       "      <td>16 oz.</td>\n",
       "      <td>7.50%</td>\n",
       "      <td>90.0</td>\n",
       "    </tr>\n",
       "    <tr>\n",
       "      <th>2225</th>\n",
       "      <td>Gandhi-Bot Double IPA</td>\n",
       "      <td>New England Brewing Company</td>\n",
       "      <td>Woodbridge, CT</td>\n",
       "      <td>American Double / Imperial IPA</td>\n",
       "      <td>12 oz.</td>\n",
       "      <td>8.80%</td>\n",
       "      <td>85.0</td>\n",
       "    </tr>\n",
       "    <tr>\n",
       "      <th>2228</th>\n",
       "      <td>Vortex IPA</td>\n",
       "      <td>Fort George Brewery</td>\n",
       "      <td>Astoria, OR</td>\n",
       "      <td>American IPA</td>\n",
       "      <td>16 oz.</td>\n",
       "      <td>7.40%</td>\n",
       "      <td>97.0</td>\n",
       "    </tr>\n",
       "    <tr>\n",
       "      <th>2229</th>\n",
       "      <td>Hop Shock IPA (2010)</td>\n",
       "      <td>SanTan Brewing Company</td>\n",
       "      <td>Chandler, AZ</td>\n",
       "      <td>American IPA</td>\n",
       "      <td>12 oz.</td>\n",
       "      <td>7.00%</td>\n",
       "      <td>85.0</td>\n",
       "    </tr>\n",
       "    <tr>\n",
       "      <th>2234</th>\n",
       "      <td>Snake Handler Double IPA</td>\n",
       "      <td>Good People Brewing Company</td>\n",
       "      <td>Birmingham, AL</td>\n",
       "      <td>American Double / Imperial IPA</td>\n",
       "      <td>12 oz.</td>\n",
       "      <td>9.30%</td>\n",
       "      <td>103.0</td>\n",
       "    </tr>\n",
       "    <tr>\n",
       "      <th>2252</th>\n",
       "      <td>Lucky U IPA</td>\n",
       "      <td>Breckenridge Brewery</td>\n",
       "      <td>Denver, CO</td>\n",
       "      <td>American IPA</td>\n",
       "      <td>12 oz.</td>\n",
       "      <td>6.20%</td>\n",
       "      <td>68.0</td>\n",
       "    </tr>\n",
       "    <tr>\n",
       "      <th>2257</th>\n",
       "      <td>The Corruption</td>\n",
       "      <td>DC Brau Brewing Company</td>\n",
       "      <td>Washington, DC</td>\n",
       "      <td>American IPA</td>\n",
       "      <td>12 oz.</td>\n",
       "      <td>6.50%</td>\n",
       "      <td>80.0</td>\n",
       "    </tr>\n",
       "    <tr>\n",
       "      <th>2261</th>\n",
       "      <td>Stowaway IPA</td>\n",
       "      <td>Baxter Brewing Company</td>\n",
       "      <td>Lewiston, ME</td>\n",
       "      <td>American IPA</td>\n",
       "      <td>12 oz.</td>\n",
       "      <td>6.90%</td>\n",
       "      <td>69.0</td>\n",
       "    </tr>\n",
       "    <tr>\n",
       "      <th>2267</th>\n",
       "      <td>Back in Black</td>\n",
       "      <td>21st Amendment Brewery</td>\n",
       "      <td>San Francisco, CA</td>\n",
       "      <td>American Black Ale</td>\n",
       "      <td>12 oz.</td>\n",
       "      <td>6.80%</td>\n",
       "      <td>65.0</td>\n",
       "    </tr>\n",
       "    <tr>\n",
       "      <th>2306</th>\n",
       "      <td>Ranger IPA (Current)</td>\n",
       "      <td>New Belgium Brewing Company</td>\n",
       "      <td>Fort Collins, CO</td>\n",
       "      <td>American IPA</td>\n",
       "      <td>12 oz.</td>\n",
       "      <td>6.50%</td>\n",
       "      <td>70.0</td>\n",
       "    </tr>\n",
       "    <tr>\n",
       "      <th>2313</th>\n",
       "      <td>Avery India Pale Ale</td>\n",
       "      <td>Avery Brewing Company</td>\n",
       "      <td>Boulder, CO</td>\n",
       "      <td>American IPA</td>\n",
       "      <td>12 oz.</td>\n",
       "      <td>6.30%</td>\n",
       "      <td>69.0</td>\n",
       "    </tr>\n",
       "    <tr>\n",
       "      <th>2316</th>\n",
       "      <td>Oasis (2010)</td>\n",
       "      <td>Tallgrass Brewing Company</td>\n",
       "      <td>Manhattan, KS</td>\n",
       "      <td>American Double / Imperial IPA</td>\n",
       "      <td>16 oz.</td>\n",
       "      <td>7.20%</td>\n",
       "      <td>93.0</td>\n",
       "    </tr>\n",
       "    <tr>\n",
       "      <th>2326</th>\n",
       "      <td>Third Eye Pale Ale</td>\n",
       "      <td>Steamworks Brewing Company</td>\n",
       "      <td>Durango, CO</td>\n",
       "      <td>American IPA</td>\n",
       "      <td>12 oz.</td>\n",
       "      <td>6.50%</td>\n",
       "      <td>65.0</td>\n",
       "    </tr>\n",
       "    <tr>\n",
       "      <th>2330</th>\n",
       "      <td>Double Haul IPA</td>\n",
       "      <td>Kettle House Brewing Company</td>\n",
       "      <td>Missoula, MT</td>\n",
       "      <td>American IPA</td>\n",
       "      <td>16 oz.</td>\n",
       "      <td>6.50%</td>\n",
       "      <td>65.0</td>\n",
       "    </tr>\n",
       "    <tr>\n",
       "      <th>2349</th>\n",
       "      <td>Modus Hoperandi</td>\n",
       "      <td>Ska Brewing Company</td>\n",
       "      <td>Durango, CO</td>\n",
       "      <td>American IPA</td>\n",
       "      <td>12 oz.</td>\n",
       "      <td>6.80%</td>\n",
       "      <td>65.0</td>\n",
       "    </tr>\n",
       "    <tr>\n",
       "      <th>2369</th>\n",
       "      <td>Ballz Deep Double IPA</td>\n",
       "      <td>7 Seas Brewing Company</td>\n",
       "      <td>Gig Harbor, WA</td>\n",
       "      <td>American Double / Imperial IPA</td>\n",
       "      <td>16 oz.</td>\n",
       "      <td>8.40%</td>\n",
       "      <td>82.0</td>\n",
       "    </tr>\n",
       "    <tr>\n",
       "      <th>2375</th>\n",
       "      <td>Gandhi-Bot Double IPA</td>\n",
       "      <td>New England Brewing Company</td>\n",
       "      <td>Woodbridge, CT</td>\n",
       "      <td>American Double / Imperial IPA</td>\n",
       "      <td>16 oz.</td>\n",
       "      <td>8.80%</td>\n",
       "      <td>85.0</td>\n",
       "    </tr>\n",
       "    <tr>\n",
       "      <th>2382</th>\n",
       "      <td>Caldera IPA</td>\n",
       "      <td>Caldera Brewing Company</td>\n",
       "      <td>Ashland, OR</td>\n",
       "      <td>American IPA</td>\n",
       "      <td>12 oz.</td>\n",
       "      <td>6.10%</td>\n",
       "      <td>94.0</td>\n",
       "    </tr>\n",
       "    <tr>\n",
       "      <th>2387</th>\n",
       "      <td>Big Swell IPA</td>\n",
       "      <td>Maui Brewing Company</td>\n",
       "      <td>Lahaina, HI</td>\n",
       "      <td>American IPA</td>\n",
       "      <td>12 oz.</td>\n",
       "      <td>6.20%</td>\n",
       "      <td>65.0</td>\n",
       "    </tr>\n",
       "    <tr>\n",
       "      <th>2394</th>\n",
       "      <td>113 IPA</td>\n",
       "      <td>Sly Fox Brewing Company</td>\n",
       "      <td>Pottstown, PA</td>\n",
       "      <td>American IPA</td>\n",
       "      <td>12 oz.</td>\n",
       "      <td>7.00%</td>\n",
       "      <td>113.0</td>\n",
       "    </tr>\n",
       "    <tr>\n",
       "      <th>2403</th>\n",
       "      <td>Abrasive Ale</td>\n",
       "      <td>Surly Brewing Company</td>\n",
       "      <td>Brooklyn Center, MN</td>\n",
       "      <td>American Double / Imperial IPA</td>\n",
       "      <td>16 oz.</td>\n",
       "      <td>9.70%</td>\n",
       "      <td>120.0</td>\n",
       "    </tr>\n",
       "    <tr>\n",
       "      <th>2406</th>\n",
       "      <td>Furious</td>\n",
       "      <td>Surly Brewing Company</td>\n",
       "      <td>Brooklyn Center, MN</td>\n",
       "      <td>American IPA</td>\n",
       "      <td>16 oz.</td>\n",
       "      <td>6.20%</td>\n",
       "      <td>99.0</td>\n",
       "    </tr>\n",
       "    <tr>\n",
       "      <th>2408</th>\n",
       "      <td>Brew Free! or Die IPA</td>\n",
       "      <td>21st Amendment Brewery</td>\n",
       "      <td>San Francisco, CA</td>\n",
       "      <td>American IPA</td>\n",
       "      <td>12 oz.</td>\n",
       "      <td>7.00%</td>\n",
       "      <td>65.0</td>\n",
       "    </tr>\n",
       "    <tr>\n",
       "      <th>2410</th>\n",
       "      <td>Ten Fidy Imperial Stout</td>\n",
       "      <td>Oskar Blues Brewery</td>\n",
       "      <td>Longmont, CO</td>\n",
       "      <td>Russian Imperial Stout</td>\n",
       "      <td>12 oz.</td>\n",
       "      <td>9.90%</td>\n",
       "      <td>98.0</td>\n",
       "    </tr>\n",
       "    <tr>\n",
       "      <th>2412</th>\n",
       "      <td>GUBNA Imperial IPA</td>\n",
       "      <td>Oskar Blues Brewery</td>\n",
       "      <td>Longmont, CO</td>\n",
       "      <td>American Double / Imperial IPA</td>\n",
       "      <td>12 oz.</td>\n",
       "      <td>9.90%</td>\n",
       "      <td>100.0</td>\n",
       "    </tr>\n",
       "    <tr>\n",
       "      <th>2414</th>\n",
       "      <td>Gordon Ale (2009)</td>\n",
       "      <td>Oskar Blues Brewery</td>\n",
       "      <td>Longmont, CO</td>\n",
       "      <td>American Double / Imperial IPA</td>\n",
       "      <td>12 oz.</td>\n",
       "      <td>8.70%</td>\n",
       "      <td>85.0</td>\n",
       "    </tr>\n",
       "    <tr>\n",
       "      <th>2415</th>\n",
       "      <td>Dale's Pale Ale</td>\n",
       "      <td>Oskar Blues Brewery</td>\n",
       "      <td>Longmont, CO</td>\n",
       "      <td>American Pale Ale (APA)</td>\n",
       "      <td>12 oz.</td>\n",
       "      <td>6.50%</td>\n",
       "      <td>65.0</td>\n",
       "    </tr>\n",
       "  </tbody>\n",
       "</table>\n",
       "<p>346 rows × 7 columns</p>\n",
       "</div>"
      ],
      "text/plain": [
       "                                   Beer                           Brewery  \\\n",
       "6                        Citra Ass Down         Against the Grain Brewery   \n",
       "7                        London Balling         Against the Grain Brewery   \n",
       "14                          Rico Sauvin         Against the Grain Brewery   \n",
       "17                         Pile of Face         Against the Grain Brewery   \n",
       "21                           Excess IPL          Jack's Abby Craft Lagers   \n",
       "22                       Hoponius Union          Jack's Abby Craft Lagers   \n",
       "24                       Habitus (2014)         Mike Hess Brewing Company   \n",
       "25                                Solis         Mike Hess Brewing Company   \n",
       "27                              Habitus         Mike Hess Brewing Company   \n",
       "46                  Yeti Imperial Stout      Great Divide Brewing Company   \n",
       "59    98 Problems (Cuz A Hop Ain't One)            Perrin Brewing Company   \n",
       "62                         Train Hopper       Witch's Hat Brewing Company   \n",
       "68                                 Csar           Tin Man Brewing Company   \n",
       "69                       Saucy Intruder            Black Acre Brewing Co.   \n",
       "79                           The Gadget              Four Fathers Brewing   \n",
       "89                           Gone A-Rye               Cedar Creek Brewery   \n",
       "93                        Heavy Lifting         Boulevard Brewing Company   \n",
       "110                             Jah Mon        Rivertowne Brewing Company   \n",
       "123                      Flying Mouse 4              Flying Mouse Brewery   \n",
       "149                      Citra Ass Down         Against The Grain Brewery   \n",
       "168                          Soul Doubt          Freetail Brewing Company   \n",
       "170                        Bimini Twist               3 Daughters Brewing   \n",
       "178                           Long Leaf      Appalachian Mountain Brewery   \n",
       "182                      Double Duckpin               Union Craft Brewing   \n",
       "186                          Hop A-Peel                   Atwater Brewery   \n",
       "192                              Wobble      Two Brothers Brewing Company   \n",
       "218                    Hopkick Dropkick                  Burn 'Em Brewing   \n",
       "226                          Union Jack  Firestone Walker Brewing Company   \n",
       "229                      India Pale Ale  Kirkwood Station Brewing Company   \n",
       "239                        Self Starter       Warped Wing Brewing Company   \n",
       "...                                 ...                               ...   \n",
       "2181                     Upstate I.P.W.           Upstate Brewing Company   \n",
       "2182                       Heady Topper                     The Alchemist   \n",
       "2186              Hop Ottin' IPA (2011)   Anderson Valley Brewing Company   \n",
       "2218                                WET             Surly Brewing Company   \n",
       "2225             Gandhi-Bot Double IPA        New England Brewing Company   \n",
       "2228                         Vortex IPA               Fort George Brewery   \n",
       "2229               Hop Shock IPA (2010)            SanTan Brewing Company   \n",
       "2234           Snake Handler Double IPA       Good People Brewing Company   \n",
       "2252                        Lucky U IPA              Breckenridge Brewery   \n",
       "2257                     The Corruption           DC Brau Brewing Company   \n",
       "2261                       Stowaway IPA            Baxter Brewing Company   \n",
       "2267                      Back in Black            21st Amendment Brewery   \n",
       "2306               Ranger IPA (Current)       New Belgium Brewing Company   \n",
       "2313               Avery India Pale Ale             Avery Brewing Company   \n",
       "2316                       Oasis (2010)         Tallgrass Brewing Company   \n",
       "2326                 Third Eye Pale Ale        Steamworks Brewing Company   \n",
       "2330                    Double Haul IPA      Kettle House Brewing Company   \n",
       "2349                    Modus Hoperandi               Ska Brewing Company   \n",
       "2369              Ballz Deep Double IPA            7 Seas Brewing Company   \n",
       "2375             Gandhi-Bot Double IPA        New England Brewing Company   \n",
       "2382                        Caldera IPA           Caldera Brewing Company   \n",
       "2387                      Big Swell IPA              Maui Brewing Company   \n",
       "2394                            113 IPA           Sly Fox Brewing Company   \n",
       "2403                       Abrasive Ale             Surly Brewing Company   \n",
       "2406                            Furious             Surly Brewing Company   \n",
       "2408              Brew Free! or Die IPA            21st Amendment Brewery   \n",
       "2410            Ten Fidy Imperial Stout               Oskar Blues Brewery   \n",
       "2412                 GUBNA Imperial IPA               Oskar Blues Brewery   \n",
       "2414                  Gordon Ale (2009)               Oskar Blues Brewery   \n",
       "2415                    Dale's Pale Ale               Oskar Blues Brewery   \n",
       "\n",
       "                 Location                           Style    Size     ABV  \\\n",
       "6          Louisville, KY  American Double / Imperial IPA  16 oz.   8.00%   \n",
       "7          Louisville, KY              English Barleywine  16 oz.  12.50%   \n",
       "14         Louisville, KY  American Double / Imperial IPA  16 oz.   7.60%   \n",
       "17         Louisville, KY                    American IPA  16 oz.   6.00%   \n",
       "21         Framingham, MA       American India Pale Lager  16 oz.   7.20%   \n",
       "22         Framingham, MA       American India Pale Lager  12 oz.   6.70%   \n",
       "24          San Diego, CA  American Double / Imperial IPA  16 oz.   8.00%   \n",
       "25          San Diego, CA                    American IPA  16 oz.   7.50%   \n",
       "27          San Diego, CA  American Double / Imperial IPA  16 oz.   8.00%   \n",
       "46             Denver, CO          Russian Imperial Stout  12 oz.   9.50%   \n",
       "59      Comstock Park, MI                    American IPA  12 oz.   6.50%   \n",
       "62         South Lyon, MI                    American IPA  12 oz.   5.80%   \n",
       "68         Evansville, IN          Russian Imperial Stout  16 oz.  12.00%   \n",
       "69       Indianapolis, IN                        Rye Beer  16 oz.   7.20%   \n",
       "79         Valparaiso, IN                    American IPA  16 oz.   6.40%   \n",
       "89       Seven Points, TX  American Double / Imperial IPA  16 oz.   8.50%   \n",
       "93        Kansas City, MO                    American IPA  12 oz.   6.20%   \n",
       "110            Export, PA                    American IPA  12 oz.   5.00%   \n",
       "123        Troutville, VA                    American IPA  12 oz.   7.00%   \n",
       "149        Louisville, KY                    American IPA  16 oz.   8.20%   \n",
       "168       San Antonio, TX                    American IPA  12 oz.   5.90%   \n",
       "170     St Petersburg, FL                    American IPA  12 oz.   7.00%   \n",
       "178             Boone, NC                    American IPA  16 oz.   7.10%   \n",
       "182         Baltimore, MD  American Double / Imperial IPA  12 oz.   8.50%   \n",
       "186           Detroit, MI  American Double / Imperial IPA  16 oz.   7.50%   \n",
       "192       Warrenville, IL                    American IPA  16 oz.   6.30%   \n",
       "218     Michigan City, IN  American Double / Imperial IPA  12 oz.   9.90%   \n",
       "226       Paso Robles, CA                    American IPA  12 oz.   7.50%   \n",
       "229          Kirkwood, MO                    American IPA  16 oz.   6.30%   \n",
       "239            Dayton, OH                    American IPA  16 oz.   5.20%   \n",
       "...                   ...                             ...     ...     ...   \n",
       "2181           Elmira, NY                    American IPA  12 oz.   6.50%   \n",
       "2182        Waterbury, VT  American Double / Imperial IPA  16 oz.   8.00%   \n",
       "2186        Boonville, CA                    American IPA  12 oz.   7.00%   \n",
       "2218  Brooklyn Center, MN                    American IPA  16 oz.   7.50%   \n",
       "2225       Woodbridge, CT  American Double / Imperial IPA  12 oz.   8.80%   \n",
       "2228          Astoria, OR                    American IPA  16 oz.   7.40%   \n",
       "2229         Chandler, AZ                    American IPA  12 oz.   7.00%   \n",
       "2234       Birmingham, AL  American Double / Imperial IPA  12 oz.   9.30%   \n",
       "2252           Denver, CO                    American IPA  12 oz.   6.20%   \n",
       "2257       Washington, DC                    American IPA  12 oz.   6.50%   \n",
       "2261         Lewiston, ME                    American IPA  12 oz.   6.90%   \n",
       "2267    San Francisco, CA              American Black Ale  12 oz.   6.80%   \n",
       "2306     Fort Collins, CO                    American IPA  12 oz.   6.50%   \n",
       "2313          Boulder, CO                    American IPA  12 oz.   6.30%   \n",
       "2316        Manhattan, KS  American Double / Imperial IPA  16 oz.   7.20%   \n",
       "2326          Durango, CO                    American IPA  12 oz.   6.50%   \n",
       "2330         Missoula, MT                    American IPA  16 oz.   6.50%   \n",
       "2349          Durango, CO                    American IPA  12 oz.   6.80%   \n",
       "2369       Gig Harbor, WA  American Double / Imperial IPA  16 oz.   8.40%   \n",
       "2375       Woodbridge, CT  American Double / Imperial IPA  16 oz.   8.80%   \n",
       "2382          Ashland, OR                    American IPA  12 oz.   6.10%   \n",
       "2387          Lahaina, HI                    American IPA  12 oz.   6.20%   \n",
       "2394        Pottstown, PA                    American IPA  12 oz.   7.00%   \n",
       "2403  Brooklyn Center, MN  American Double / Imperial IPA  16 oz.   9.70%   \n",
       "2406  Brooklyn Center, MN                    American IPA  16 oz.   6.20%   \n",
       "2408    San Francisco, CA                    American IPA  12 oz.   7.00%   \n",
       "2410         Longmont, CO          Russian Imperial Stout  12 oz.   9.90%   \n",
       "2412         Longmont, CO  American Double / Imperial IPA  12 oz.   9.90%   \n",
       "2414         Longmont, CO  American Double / Imperial IPA  12 oz.   8.70%   \n",
       "2415         Longmont, CO         American Pale Ale (APA)  12 oz.   6.50%   \n",
       "\n",
       "       IBUs  \n",
       "6      68.0  \n",
       "7      80.0  \n",
       "14     68.0  \n",
       "17     65.0  \n",
       "21     80.0  \n",
       "22     65.0  \n",
       "24    100.0  \n",
       "25     85.0  \n",
       "27    100.0  \n",
       "46     75.0  \n",
       "59     65.0  \n",
       "62     72.0  \n",
       "68     90.0  \n",
       "69     75.0  \n",
       "79     90.0  \n",
       "89     90.0  \n",
       "93     80.0  \n",
       "110   100.0  \n",
       "123    70.0  \n",
       "149    68.0  \n",
       "168    70.0  \n",
       "170    82.0  \n",
       "178    75.0  \n",
       "182    90.0  \n",
       "186   115.0  \n",
       "192    69.0  \n",
       "218   115.0  \n",
       "226    75.0  \n",
       "229    65.0  \n",
       "239    67.0  \n",
       "...     ...  \n",
       "2181   70.0  \n",
       "2182  120.0  \n",
       "2186   80.0  \n",
       "2218   90.0  \n",
       "2225   85.0  \n",
       "2228   97.0  \n",
       "2229   85.0  \n",
       "2234  103.0  \n",
       "2252   68.0  \n",
       "2257   80.0  \n",
       "2261   69.0  \n",
       "2267   65.0  \n",
       "2306   70.0  \n",
       "2313   69.0  \n",
       "2316   93.0  \n",
       "2326   65.0  \n",
       "2330   65.0  \n",
       "2349   65.0  \n",
       "2369   82.0  \n",
       "2375   85.0  \n",
       "2382   94.0  \n",
       "2387   65.0  \n",
       "2394  113.0  \n",
       "2403  120.0  \n",
       "2406   99.0  \n",
       "2408   65.0  \n",
       "2410   98.0  \n",
       "2412  100.0  \n",
       "2414   85.0  \n",
       "2415   65.0  \n",
       "\n",
       "[346 rows x 7 columns]"
      ]
     },
     "execution_count": 19,
     "metadata": {},
     "output_type": "execute_result"
    }
   ],
   "source": [
    "df[df['IBUs'] > 64]"
   ]
  },
  {
   "cell_type": "markdown",
   "metadata": {},
   "source": [
    "## List all of the beers with IBUs below the 25th percentile"
   ]
  },
  {
   "cell_type": "code",
   "execution_count": 20,
   "metadata": {},
   "outputs": [
    {
     "data": {
      "text/html": [
       "<div>\n",
       "<style>\n",
       "    .dataframe thead tr:only-child th {\n",
       "        text-align: right;\n",
       "    }\n",
       "\n",
       "    .dataframe thead th {\n",
       "        text-align: left;\n",
       "    }\n",
       "\n",
       "    .dataframe tbody tr th {\n",
       "        vertical-align: top;\n",
       "    }\n",
       "</style>\n",
       "<table border=\"1\" class=\"dataframe\">\n",
       "  <thead>\n",
       "    <tr style=\"text-align: right;\">\n",
       "      <th></th>\n",
       "      <th>Beer</th>\n",
       "      <th>Brewery</th>\n",
       "      <th>Location</th>\n",
       "      <th>Style</th>\n",
       "      <th>Size</th>\n",
       "      <th>ABV</th>\n",
       "      <th>IBUs</th>\n",
       "    </tr>\n",
       "  </thead>\n",
       "  <tbody>\n",
       "    <tr>\n",
       "      <th>2</th>\n",
       "      <td>Wall's End</td>\n",
       "      <td>NorthGate Brewing</td>\n",
       "      <td>Minneapolis, MN</td>\n",
       "      <td>English Brown Ale</td>\n",
       "      <td>16 oz.</td>\n",
       "      <td>4.80%</td>\n",
       "      <td>19.0</td>\n",
       "    </tr>\n",
       "    <tr>\n",
       "      <th>12</th>\n",
       "      <td>Sho'nuff</td>\n",
       "      <td>Against the Grain Brewery</td>\n",
       "      <td>Louisville, KY</td>\n",
       "      <td>Belgian Pale Ale</td>\n",
       "      <td>16 oz.</td>\n",
       "      <td>4.00%</td>\n",
       "      <td>13.0</td>\n",
       "    </tr>\n",
       "    <tr>\n",
       "      <th>13</th>\n",
       "      <td>Bloody Show</td>\n",
       "      <td>Against the Grain Brewery</td>\n",
       "      <td>Louisville, KY</td>\n",
       "      <td>American Pilsner</td>\n",
       "      <td>16 oz.</td>\n",
       "      <td>5.50%</td>\n",
       "      <td>17.0</td>\n",
       "    </tr>\n",
       "    <tr>\n",
       "      <th>18</th>\n",
       "      <td>The Brown Note</td>\n",
       "      <td>Against the Grain Brewery</td>\n",
       "      <td>Louisville, KY</td>\n",
       "      <td>English Brown Ale</td>\n",
       "      <td>16 oz.</td>\n",
       "      <td>5.00%</td>\n",
       "      <td>20.0</td>\n",
       "    </tr>\n",
       "    <tr>\n",
       "      <th>19</th>\n",
       "      <td>House Lager</td>\n",
       "      <td>Jack's Abby Craft Lagers</td>\n",
       "      <td>Framingham, MA</td>\n",
       "      <td>Keller Bier / Zwickel Bier</td>\n",
       "      <td>16 oz.</td>\n",
       "      <td>5.20%</td>\n",
       "      <td>18.0</td>\n",
       "    </tr>\n",
       "  </tbody>\n",
       "</table>\n",
       "</div>"
      ],
      "text/plain": [
       "              Beer                    Brewery         Location  \\\n",
       "2       Wall's End          NorthGate Brewing  Minneapolis, MN   \n",
       "12        Sho'nuff  Against the Grain Brewery   Louisville, KY   \n",
       "13     Bloody Show  Against the Grain Brewery   Louisville, KY   \n",
       "18  The Brown Note  Against the Grain Brewery   Louisville, KY   \n",
       "19     House Lager   Jack's Abby Craft Lagers   Framingham, MA   \n",
       "\n",
       "                         Style    Size    ABV  IBUs  \n",
       "2            English Brown Ale  16 oz.  4.80%  19.0  \n",
       "12            Belgian Pale Ale  16 oz.  4.00%  13.0  \n",
       "13            American Pilsner  16 oz.  5.50%  17.0  \n",
       "18           English Brown Ale  16 oz.  5.00%  20.0  \n",
       "19  Keller Bier / Zwickel Bier  16 oz.  5.20%  18.0  "
      ]
     },
     "execution_count": 20,
     "metadata": {},
     "output_type": "execute_result"
    }
   ],
   "source": [
    "df[df['IBUs'] < 21].head()"
   ]
  },
  {
   "cell_type": "markdown",
   "metadata": {},
   "source": [
    "## List the median IBUs of each type of beer. Graph it.\n",
    "\n",
    "Put the highest at the top, and the nan ones at the bottom. I want a nice graph, too - don't let them all be squished together, either!"
   ]
  },
  {
   "cell_type": "code",
   "execution_count": 21,
   "metadata": {},
   "outputs": [
    {
     "data": {
      "text/plain": [
       "<matplotlib.axes._subplots.AxesSubplot at 0x10664dcc0>"
      ]
     },
     "execution_count": 21,
     "metadata": {},
     "output_type": "execute_result"
    },
    {
     "data": {
      "image/png": "[encoded data removed]",
      "text/plain": [
       "<matplotlib.figure.Figure at 0x10323ec88>"
      ]
     },
     "metadata": {},
     "output_type": "display_data"
    }
   ],
   "source": [
    "#df['IBUsdf['IBUs'].median()\n",
    "   \n",
    "Median_IBU = df.groupby('Style')['IBUs'].median()\n",
    "\n",
    "Median_IBU.sort_values(na_position= 'first').head(99).plot(kind='barh', figsize=(5,20))\n",
    "\n",
    "#Median_IBU.dropna().plot(kind='barh', figsize=(5,20))\n",
    "\n",
    "#make the text small or figsize."
   ]
  },
  {
   "cell_type": "markdown",
   "metadata": {},
   "source": [
    "## Hmmmm, it looks like they are generally different styles. What are the most common 5 styles of high-IBU beer vs. low-IBU beer?\n",
    "\n",
    "You'll want to think about it in three pieces - finding the high IBU beers, then finding out what the most common styles are, then getting the top 5."
   ]
  },
  {
   "cell_type": "code",
   "execution_count": 22,
   "metadata": {},
   "outputs": [
    {
     "data": {
      "text/plain": [
       "American IPA                      195\n",
       "American Double / Imperial IPA     72\n",
       "American Pale Ale (APA)            18\n",
       "American Black Ale                 15\n",
       "American Strong Ale                 9\n",
       "Name: Style, dtype: int64"
      ]
     },
     "execution_count": 22,
     "metadata": {},
     "output_type": "execute_result"
    }
   ],
   "source": [
    "high_IBU = df[df['IBUs'] > 64]\n",
    "\n",
    "high_IBU['Style'].value_counts().head()"
   ]
  },
  {
   "cell_type": "markdown",
   "metadata": {},
   "source": [
    "## Get the average IBU of \"Witbier\", \"Hefeweizen\" and \"American Pale Wheat Ale\" styles (also draw a histogram)\n",
    "\n",
    "I want ONE measurement and ONE graph, not three separate ones. And 20 to 30 bins in the histogram, please."
   ]
  },
  {
   "cell_type": "code",
   "execution_count": 23,
   "metadata": {},
   "outputs": [
    {
     "data": {
      "text/plain": [
       "18.982142857142858"
      ]
     },
     "execution_count": 23,
     "metadata": {},
     "output_type": "execute_result"
    }
   ],
   "source": [
    "#df.groupby('Style').str.contains(\"Witbier\")['IBUs'].mean()\n",
    "\n",
    "df[df['Style'].isin([\"Witbier\",\"Hefeweizen\",\"American Pale Wheat Ale\"])]['IBUs'].mean()\n",
    "\n",
    "#df_all.groupby('borough')['Primary Breed'].value_counts().groupby(level=0).head(5).plot(kind='barh')\n",
    "\n",
    "#what does .groupby(level=0) do really?"
   ]
  },
  {
   "cell_type": "code",
   "execution_count": 24,
   "metadata": {},
   "outputs": [
    {
     "data": {
      "text/plain": [
       "<matplotlib.axes._subplots.AxesSubplot at 0x1067d1eb8>"
      ]
     },
     "execution_count": 24,
     "metadata": {},
     "output_type": "execute_result"
    },
    {
     "data": {
      "image/png": "[encoded data removed]",
      "text/plain": [
       "<matplotlib.figure.Figure at 0x10676a048>"
      ]
     },
     "metadata": {},
     "output_type": "display_data"
    }
   ],
   "source": [
    "hist_1=df[df['Style'].isin([\"Witbier\",\"Hefeweizen\",\"American Pale Wheat Ale\"])]['IBUs']\n",
    "\n",
    "hist_1.hist(bins=30)"
   ]
  },
  {
   "cell_type": "markdown",
   "metadata": {},
   "source": [
    "## Get the average IBU of any style with \"IPA\" in it (also draw a histogram)"
   ]
  },
  {
   "cell_type": "code",
   "execution_count": 25,
   "metadata": {},
   "outputs": [
    {
     "data": {
      "text/plain": [
       "71.948979591836732"
      ]
     },
     "execution_count": 25,
     "metadata": {},
     "output_type": "execute_result"
    }
   ],
   "source": [
    "df[df['Style'].str.contains(\"IPA\", na=False)]['IBUs'].mean()"
   ]
  },
  {
   "cell_type": "code",
   "execution_count": 26,
   "metadata": {},
   "outputs": [
    {
     "data": {
      "text/plain": [
       "<matplotlib.axes._subplots.AxesSubplot at 0x1072a6eb8>"
      ]
     },
     "execution_count": 26,
     "metadata": {},
     "output_type": "execute_result"
    },
    {
     "data": {
      "image/png": "[encoded data removed]",
      "text/plain": [
       "<matplotlib.figure.Figure at 0x107344908>"
      ]
     },
     "metadata": {},
     "output_type": "display_data"
    }
   ],
   "source": [
    "hist_2= df[df['Style'].str.contains(\"IPA\", na=False)]['IBUs']\n",
    "\n",
    "hist_2.hist(bins=30)"
   ]
  },
  {
   "cell_type": "markdown",
   "metadata": {},
   "source": [
    "## Plot those two histograms on top of one another"
   ]
  },
  {
   "cell_type": "code",
   "execution_count": 27,
   "metadata": {},
   "outputs": [
    {
     "data": {
      "text/plain": [
       "<matplotlib.axes._subplots.AxesSubplot at 0x107476d68>"
      ]
     },
     "execution_count": 27,
     "metadata": {},
     "output_type": "execute_result"
    },
    {
     "data": {
      "image/png": "[encoded data removed]",
      "text/plain": [
       "<matplotlib.figure.Figure at 0x106fbc780>"
      ]
     },
     "metadata": {},
     "output_type": "display_data"
    }
   ],
   "source": [
    "#import matplotlib.pyplot as plt\n",
    "\n",
    "#fig = plt.figure()\n",
    "#ax = fig.add_subplot(111)\n",
    "hist_1.plot.hist(bins=30)\n",
    "hist_2.plot.hist(bins=30)"
   ]
  },
  {
   "cell_type": "markdown",
   "metadata": {},
   "source": [
    "## Compare the ABV of wheat beers vs. IPAs "
   ]
  },
  {
   "cell_type": "code",
   "execution_count": 28,
   "metadata": {},
   "outputs": [
    {
     "data": {
      "text/plain": [
       "Style\n",
       "American Double / Imperial IPA    8.736893\n",
       "American IPA                      6.452758\n",
       "American White IPA                5.963636\n",
       "Belgian IPA                       7.135294\n",
       "English India Pale Ale (IPA)      6.233333\n",
       "Name: New_ABV, dtype: float64"
      ]
     },
     "execution_count": 28,
     "metadata": {},
     "output_type": "execute_result"
    }
   ],
   "source": [
    "#IPA = df[df['Style'].str.contains(\"IPA\", na=False)]\n",
    "\n",
    "#IPA.groupby('Style')['ABV'].value_counts().groupby(level=0).head(2)\n",
    "\n",
    "df['New_ABV'] = df['ABV'].str.replace(\"%\", \"\").astype(float)\n",
    "\n",
    "\n",
    "df[df['Style'].str.contains(\"IPA\", na=False)].groupby('Style')['New_ABV'].mean()\n",
    "\n"
   ]
  },
  {
   "cell_type": "code",
   "execution_count": 29,
   "metadata": {},
   "outputs": [
    {
     "data": {
      "text/plain": [
       "Style\n",
       "American Dark Wheat Ale    5.233333\n",
       "American Pale Wheat Ale    4.841053\n",
       "Wheat Ale                  6.000000\n",
       "Name: New_ABV, dtype: float64"
      ]
     },
     "execution_count": 29,
     "metadata": {},
     "output_type": "execute_result"
    }
   ],
   "source": [
    "df[df['Style'].str.contains(\"Wheat\", na=False)].groupby('Style')['New_ABV'].mean()"
   ]
  }
 ],
 "metadata": {
  "kernelspec": {
   "display_name": "Python 3",
   "language": "python",
   "name": "python3"
  },
  "language_info": {
   "codemirror_mode": {
    "name": "ipython",
    "version": 3
   },
   "file_extension": ".py",
   "mimetype": "text/x-python",
   "name": "python",
   "nbconvert_exporter": "python",
   "pygments_lexer": "ipython3",
   "version": "3.6.1"
  }
 },
 "nbformat": 4,
 "nbformat_minor": 2
}
