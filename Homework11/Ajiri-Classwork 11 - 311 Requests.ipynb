{
 "cells": [
  {
   "cell_type": "markdown",
   "metadata": {},
   "source": [
    "# Exercise: 311 Requests\n",
    "\n",
    "#### Summary\n",
    "\n",
    "In NYC, you can call 311 with *anything* about the city - questions, complaints, etc. We'll be analyzing requests from 2015-2016 from the Department of Transportation and NYPD.\n",
    "\n",
    "#### Data Source(s)\n",
    "\n",
    "Filtered from full set, https://nycopendata.socrata.com/Social-Services/311-Service-Requests-from-2010-to-Present/erm2-nwe9\n",
    "\n",
    "#### Files\n",
    "\n",
    "- `311-requests/311_Service_Requests_from_2010_to_Present.csv`, about 1.8 million rows (over 1GB of data)\n",
    "\n",
    "#### Data dictionary\n",
    "\n",
    "Visit [this page](https://nycopendata.socrata.com/Social-Services/311-Service-Requests-from-2010-to-Present/erm2-nwe9#schema-preview) and click 'Show more' on the bottom right of the list (53 columns).\n",
    "\n",
    "#### Skills\n",
    "\n",
    "- Opening large files\n",
    "- Time"
   ]
  },
  {
   "cell_type": "markdown",
   "metadata": {},
   "source": [
    "## Opening the file\n",
    "\n",
    "It's a big one! If your computer is slow or you only have 2GB of RAM, you might want to specify `nrows=50000` (or less). Increase the number until it takes around 20 seconds, maybe!"
   ]
  },
  {
   "cell_type": "code",
   "execution_count": 122,
   "metadata": {},
   "outputs": [
    {
     "name": "stdout",
     "output_type": "stream",
     "text": [
      "CPU times: user 2.2 ms, sys: 4.44 ms, total: 6.64 ms\n",
      "Wall time: 12.4 ms\n"
     ]
    }
   ],
   "source": [
    "%%time\n",
    "%matplotlib inline\n",
    "import pandas as pd\n",
    "# df = pd.read_csv(\"data/311_Service_Requests_from_2010_to_Present.csv\")#, nrows=50000)"
   ]
  },
  {
   "cell_type": "code",
   "execution_count": 102,
   "metadata": {},
   "outputs": [
    {
     "data": {
      "text/plain": [
       "(1844278, 53)"
      ]
     },
     "execution_count": 102,
     "metadata": {},
     "output_type": "execute_result"
    }
   ],
   "source": [
    "# df.shape"
   ]
  },
  {
   "cell_type": "markdown",
   "metadata": {},
   "source": [
    "### Measuring time in Jupyter Notebooks\n",
    "\n",
    "How long did that take? Read it in again, but this time **time how long it takes.** (and no, not with your watch - with Jupyter!)"
   ]
  },
  {
   "cell_type": "code",
   "execution_count": 124,
   "metadata": {
    "collapsed": true
   },
   "outputs": [],
   "source": [
    "# %%time\n",
    "# df = pd.read_csv(\"data/311_Service_Requests_from_2010_to_Present.csv\", nrows=50000)"
   ]
  },
  {
   "cell_type": "markdown",
   "metadata": {},
   "source": [
    "### Look at the first few rows\n",
    "\n",
    "Make sure you can see **every single column.**"
   ]
  },
  {
   "cell_type": "code",
   "execution_count": 104,
   "metadata": {
    "collapsed": true
   },
   "outputs": [],
   "source": [
    "# pd.set_option('display.max_columns', 99)"
   ]
  },
  {
   "cell_type": "code",
   "execution_count": 123,
   "metadata": {
    "collapsed": true
   },
   "outputs": [],
   "source": [
    "# df.head()"
   ]
  },
  {
   "cell_type": "markdown",
   "metadata": {},
   "source": [
    "### Speeding things up\n",
    "\n",
    "We're going to be looking at open and close times, agencies, and the complaints (both types and descriptor). The only kind of location-based thing we'll want is borough.\n",
    "\n",
    "**How much faster is it if we only read in those columns?**"
   ]
  },
  {
   "cell_type": "code",
   "execution_count": 121,
   "metadata": {},
   "outputs": [
    {
     "name": "stdout",
     "output_type": "stream",
     "text": [
      "CPU times: user 14.8 s, sys: 1.23 s, total: 16 s\n",
      "Wall time: 16.6 s\n"
     ]
    }
   ],
   "source": [
    "%%time\n",
    "df = pd.read_csv(\"data/311_Service_Requests_from_2010_to_Present.csv\", usecols=[\"Created Date\", \"Closed Date\", \"Agency\", \"Complaint Type\", \"Descriptor\", \"Borough\"])"
   ]
  },
  {
   "cell_type": "markdown",
   "metadata": {},
   "source": [
    "## Converting the 'Created Date' and 'Closed Date' columns to datetimes\n",
    "\n",
    "### First, testing some things out\n",
    "\n",
    "Let's take a look at converting **Created Date**, but **not all at once**.\n",
    "\n",
    "1. Take 10,000 of them and try to convert them **without** a format string. Time it.\n",
    "2. Take the same 10,000 and try to convert them **with** a format string. Time it.\n",
    "\n",
    "If you tried to do all 1.8 million rows, **how long might it take with a format string vs without?**"
   ]
  },
  {
   "cell_type": "code",
   "execution_count": 128,
   "metadata": {},
   "outputs": [
    {
     "data": {
      "text/plain": [
       "(1844278, 6)"
      ]
     },
     "execution_count": 128,
     "metadata": {},
     "output_type": "execute_result"
    }
   ],
   "source": [
    "df.shape"
   ]
  },
  {
   "cell_type": "markdown",
   "metadata": {},
   "source": [
    "### Creating new columns\n",
    "\n",
    "Create new columns called `created_at` and `closed_at` from the `Created Date` and `Closed Date` columns. Do them individually, and **time them**."
   ]
  },
  {
   "cell_type": "code",
   "execution_count": 129,
   "metadata": {},
   "outputs": [
    {
     "name": "stdout",
     "output_type": "stream",
     "text": [
      "CPU times: user 11.8 s, sys: 107 ms, total: 11.9 s\n",
      "Wall time: 11.9 s\n"
     ]
    }
   ],
   "source": [
    "%%time\n",
    "df['created_at'] = pd.to_datetime(df['Created Date'], format = \"%m/%d/%Y %X %p\")"
   ]
  },
  {
   "cell_type": "code",
   "execution_count": 130,
   "metadata": {},
   "outputs": [
    {
     "name": "stdout",
     "output_type": "stream",
     "text": [
      "CPU times: user 10.8 s, sys: 104 ms, total: 10.9 s\n",
      "Wall time: 10.9 s\n"
     ]
    }
   ],
   "source": [
    "%%time\n",
    "df['closed_at'] = pd.to_datetime(df['Closed Date'], format = \"%m/%d/%Y %X %p\")"
   ]
  },
  {
   "cell_type": "markdown",
   "metadata": {},
   "source": [
    "### Confirming they look okay\n",
    "\n",
    "Take a look at the first few rows to make sure the dates look correct, and then make sure their data type is `datetime64[ns]`."
   ]
  },
  {
   "cell_type": "code",
   "execution_count": 131,
   "metadata": {},
   "outputs": [
    {
     "data": {
      "text/plain": [
       "Created Date              object\n",
       "Closed Date               object\n",
       "Agency                    object\n",
       "Complaint Type            object\n",
       "Descriptor                object\n",
       "Borough                   object\n",
       "created_at        datetime64[ns]\n",
       "closed_at         datetime64[ns]\n",
       "dtype: object"
      ]
     },
     "execution_count": 131,
     "metadata": {},
     "output_type": "execute_result"
    }
   ],
   "source": [
    "df.dtypes"
   ]
  },
  {
   "cell_type": "code",
   "execution_count": 111,
   "metadata": {
    "collapsed": true
   },
   "outputs": [],
   "source": [
    "#df.set_index(\"date\", inplace = True)"
   ]
  },
  {
   "cell_type": "markdown",
   "metadata": {},
   "source": [
    "# Examining agencies"
   ]
  },
  {
   "cell_type": "markdown",
   "metadata": {},
   "source": [
    "Who has more 311 requests, the Department of Transportation or the NYPD?"
   ]
  },
  {
   "cell_type": "code",
   "execution_count": 132,
   "metadata": {},
   "outputs": [
    {
     "data": {
      "text/plain": [
       "NYPD    1251121\n",
       "DOT      593157\n",
       "Name: Agency, dtype: int64"
      ]
     },
     "execution_count": 132,
     "metadata": {},
     "output_type": "execute_result"
    }
   ],
   "source": [
    "df['Agency'].value_counts()"
   ]
  },
  {
   "cell_type": "markdown",
   "metadata": {},
   "source": [
    "## What's the difference between \"Complaint Type\" and \"Descriptor\" columns?"
   ]
  },
  {
   "cell_type": "code",
   "execution_count": 134,
   "metadata": {},
   "outputs": [
    {
     "data": {
      "text/html": [
       "<div>\n",
       "<style>\n",
       "    .dataframe thead tr:only-child th {\n",
       "        text-align: right;\n",
       "    }\n",
       "\n",
       "    .dataframe thead th {\n",
       "        text-align: left;\n",
       "    }\n",
       "\n",
       "    .dataframe tbody tr th {\n",
       "        vertical-align: top;\n",
       "    }\n",
       "</style>\n",
       "<table border=\"1\" class=\"dataframe\">\n",
       "  <thead>\n",
       "    <tr style=\"text-align: right;\">\n",
       "      <th></th>\n",
       "      <th>Created Date</th>\n",
       "      <th>Closed Date</th>\n",
       "      <th>Agency</th>\n",
       "      <th>Complaint Type</th>\n",
       "      <th>Descriptor</th>\n",
       "      <th>Borough</th>\n",
       "      <th>created_at</th>\n",
       "      <th>closed_at</th>\n",
       "    </tr>\n",
       "  </thead>\n",
       "  <tbody>\n",
       "    <tr>\n",
       "      <th>0</th>\n",
       "      <td>09/04/2015 10:55:25 PM</td>\n",
       "      <td>09/05/2015 02:06:54 AM</td>\n",
       "      <td>NYPD</td>\n",
       "      <td>Noise - Street/Sidewalk</td>\n",
       "      <td>Loud Music/Party</td>\n",
       "      <td>BRONX</td>\n",
       "      <td>2015-09-04 10:55:25</td>\n",
       "      <td>2015-09-05 02:06:54</td>\n",
       "    </tr>\n",
       "    <tr>\n",
       "      <th>1</th>\n",
       "      <td>09/04/2015 01:53:45 PM</td>\n",
       "      <td>09/04/2015 06:37:24 PM</td>\n",
       "      <td>NYPD</td>\n",
       "      <td>Noise - Street/Sidewalk</td>\n",
       "      <td>Loud Music/Party</td>\n",
       "      <td>MANHATTAN</td>\n",
       "      <td>2015-09-04 01:53:45</td>\n",
       "      <td>2015-09-04 06:37:24</td>\n",
       "    </tr>\n",
       "    <tr>\n",
       "      <th>2</th>\n",
       "      <td>09/04/2015 09:15:43 PM</td>\n",
       "      <td>09/04/2015 10:32:01 PM</td>\n",
       "      <td>NYPD</td>\n",
       "      <td>Noise - Street/Sidewalk</td>\n",
       "      <td>Loud Music/Party</td>\n",
       "      <td>MANHATTAN</td>\n",
       "      <td>2015-09-04 09:15:43</td>\n",
       "      <td>2015-09-04 10:32:01</td>\n",
       "    </tr>\n",
       "    <tr>\n",
       "      <th>3</th>\n",
       "      <td>09/05/2015 01:06:57 AM</td>\n",
       "      <td>09/05/2015 02:26:43 AM</td>\n",
       "      <td>NYPD</td>\n",
       "      <td>Noise - Commercial</td>\n",
       "      <td>Loud Music/Party</td>\n",
       "      <td>BROOKLYN</td>\n",
       "      <td>2015-09-05 01:06:57</td>\n",
       "      <td>2015-09-05 02:26:43</td>\n",
       "    </tr>\n",
       "    <tr>\n",
       "      <th>4</th>\n",
       "      <td>09/04/2015 07:48:25 AM</td>\n",
       "      <td>09/04/2015 05:21:18 PM</td>\n",
       "      <td>NYPD</td>\n",
       "      <td>Illegal Parking</td>\n",
       "      <td>Overnight Commercial Storage</td>\n",
       "      <td>BROOKLYN</td>\n",
       "      <td>2015-09-04 07:48:25</td>\n",
       "      <td>2015-09-04 05:21:18</td>\n",
       "    </tr>\n",
       "  </tbody>\n",
       "</table>\n",
       "</div>"
      ],
      "text/plain": [
       "             Created Date             Closed Date Agency  \\\n",
       "0  09/04/2015 10:55:25 PM  09/05/2015 02:06:54 AM   NYPD   \n",
       "1  09/04/2015 01:53:45 PM  09/04/2015 06:37:24 PM   NYPD   \n",
       "2  09/04/2015 09:15:43 PM  09/04/2015 10:32:01 PM   NYPD   \n",
       "3  09/05/2015 01:06:57 AM  09/05/2015 02:26:43 AM   NYPD   \n",
       "4  09/04/2015 07:48:25 AM  09/04/2015 05:21:18 PM   NYPD   \n",
       "\n",
       "            Complaint Type                    Descriptor    Borough  \\\n",
       "0  Noise - Street/Sidewalk              Loud Music/Party      BRONX   \n",
       "1  Noise - Street/Sidewalk              Loud Music/Party  MANHATTAN   \n",
       "2  Noise - Street/Sidewalk              Loud Music/Party  MANHATTAN   \n",
       "3       Noise - Commercial              Loud Music/Party   BROOKLYN   \n",
       "4          Illegal Parking  Overnight Commercial Storage   BROOKLYN   \n",
       "\n",
       "           created_at           closed_at  \n",
       "0 2015-09-04 10:55:25 2015-09-05 02:06:54  \n",
       "1 2015-09-04 01:53:45 2015-09-04 06:37:24  \n",
       "2 2015-09-04 09:15:43 2015-09-04 10:32:01  \n",
       "3 2015-09-05 01:06:57 2015-09-05 02:26:43  \n",
       "4 2015-09-04 07:48:25 2015-09-04 05:21:18  "
      ]
     },
     "execution_count": 134,
     "metadata": {},
     "output_type": "execute_result"
    }
   ],
   "source": [
    "df.head()\n",
    "#Type is more general, Descriptor is more dtailed."
   ]
  },
  {
   "cell_type": "markdown",
   "metadata": {},
   "source": [
    "## What are the most popular categories of complaints for the NYPD? For the DOT?"
   ]
  },
  {
   "cell_type": "code",
   "execution_count": 135,
   "metadata": {},
   "outputs": [
    {
     "data": {
      "text/plain": [
       "Agency  Complaint Type          \n",
       "DOT     Street Condition            215052\n",
       "        Street Light Condition      187228\n",
       "        Traffic Signal Condition     79737\n",
       "        Broken Muni Meter            47234\n",
       "        Street Sign - Damaged        12041\n",
       "NYPD    Noise - Residential         429932\n",
       "        Blocked Driveway            219927\n",
       "        Illegal Parking             215158\n",
       "        Noise - Street/Sidewalk     112890\n",
       "        Noise - Commercial           93115\n",
       "Name: Complaint Type, dtype: int64"
      ]
     },
     "execution_count": 135,
     "metadata": {},
     "output_type": "execute_result"
    }
   ],
   "source": [
    "df.groupby('Agency')['Complaint Type'].value_counts().groupby(level=0).head()\n",
    "#df[df['Agency' ] == 'NYPD']['Complaint Type'].value_counts()"
   ]
  },
  {
   "cell_type": "markdown",
   "metadata": {},
   "source": [
    "## When people are complaining about street conditions, what are they usually complaining about?"
   ]
  },
  {
   "cell_type": "code",
   "execution_count": 136,
   "metadata": {},
   "outputs": [
    {
     "data": {
      "text/plain": [
       "Pothole                           137931\n",
       "Cave-in                            22026\n",
       "Rough, Pitted or Cracked Roads     12150\n",
       "Defective Hardware                 11206\n",
       "Failed Street Repair                9408\n",
       "Blocked - Construction              7034\n",
       "Line/Marking - Faded                5230\n",
       "Plate Condition - Noisy             3405\n",
       "Wear & Tear                         2555\n",
       "Plate Condition - Shifted           2004\n",
       "Plate Condition - Open               671\n",
       "Line/Marking - After Repaving        513\n",
       "Dumpster - Construction Waste        181\n",
       "Hummock                              177\n",
       "Guard Rail - Street                  145\n",
       "Crash Cushion Defect                 118\n",
       "Maintenance Cover                     85\n",
       "Unsafe Worksite                       56\n",
       "Depression Maintenance                39\n",
       "Strip Paving                          34\n",
       "Plate Condition - Anti-Skid           25\n",
       "Dumpster - Causing Damage             17\n",
       "General Bad Condition                 15\n",
       "Defacement                            15\n",
       "Suspected Street Cut                  11\n",
       "Crack Sealing                          2\n",
       "Name: Descriptor, dtype: int64"
      ]
     },
     "execution_count": 136,
     "metadata": {},
     "output_type": "execute_result"
    }
   ],
   "source": [
    "df[df['Complaint Type'] == 'Street Condition']['Descriptor'].value_counts()"
   ]
  },
  {
   "cell_type": "markdown",
   "metadata": {},
   "source": [
    "## What kinds of noise are they complaining about when making residential noise complaints?"
   ]
  },
  {
   "cell_type": "code",
   "execution_count": 137,
   "metadata": {},
   "outputs": [
    {
     "data": {
      "text/plain": [
       "Loud Music/Party    283631\n",
       "Banging/Pounding    108470\n",
       "Loud Talking         30097\n",
       "Loud Television       7734\n",
       "Name: Descriptor, dtype: int64"
      ]
     },
     "execution_count": 137,
     "metadata": {},
     "output_type": "execute_result"
    }
   ],
   "source": [
    "df[df['Complaint Type'] == 'Noise - Residential']['Descriptor'].value_counts()"
   ]
  },
  {
   "cell_type": "markdown",
   "metadata": {},
   "source": [
    "# Timing our complaints\n",
    "\n",
    "How many complaints were filed each month?\n",
    "\n",
    "- Tip: You'll probably want to `.set_index` first!"
   ]
  },
  {
   "cell_type": "code",
   "execution_count": 139,
   "metadata": {
    "collapsed": true
   },
   "outputs": [],
   "source": [
    "df.set_index(\"created_at\", inplace = True)"
   ]
  },
  {
   "cell_type": "code",
   "execution_count": 140,
   "metadata": {},
   "outputs": [
    {
     "data": {
      "text/plain": [
       "(1844278, 7)"
      ]
     },
     "execution_count": 140,
     "metadata": {},
     "output_type": "execute_result"
    }
   ],
   "source": [
    "df.shape"
   ]
  },
  {
   "cell_type": "code",
   "execution_count": 159,
   "metadata": {},
   "outputs": [
    {
     "data": {
      "text/html": [
       "<div>\n",
       "<style>\n",
       "    .dataframe thead tr:only-child th {\n",
       "        text-align: right;\n",
       "    }\n",
       "\n",
       "    .dataframe thead th {\n",
       "        text-align: left;\n",
       "    }\n",
       "\n",
       "    .dataframe tbody tr th {\n",
       "        vertical-align: top;\n",
       "    }\n",
       "</style>\n",
       "<table border=\"1\" class=\"dataframe\">\n",
       "  <thead>\n",
       "    <tr style=\"text-align: right;\">\n",
       "      <th></th>\n",
       "      <th>Created Date</th>\n",
       "      <th>Closed Date</th>\n",
       "      <th>Agency</th>\n",
       "      <th>Complaint Type</th>\n",
       "      <th>Descriptor</th>\n",
       "      <th>Borough</th>\n",
       "      <th>closed_at</th>\n",
       "    </tr>\n",
       "    <tr>\n",
       "      <th>created_at</th>\n",
       "      <th></th>\n",
       "      <th></th>\n",
       "      <th></th>\n",
       "      <th></th>\n",
       "      <th></th>\n",
       "      <th></th>\n",
       "      <th></th>\n",
       "    </tr>\n",
       "  </thead>\n",
       "  <tbody>\n",
       "    <tr>\n",
       "      <th>2015-01-31</th>\n",
       "      <td>58168</td>\n",
       "      <td>57932</td>\n",
       "      <td>58168</td>\n",
       "      <td>58168</td>\n",
       "      <td>57968</td>\n",
       "      <td>58168</td>\n",
       "      <td>57932</td>\n",
       "    </tr>\n",
       "    <tr>\n",
       "      <th>2015-02-28</th>\n",
       "      <td>59895</td>\n",
       "      <td>59663</td>\n",
       "      <td>59895</td>\n",
       "      <td>59895</td>\n",
       "      <td>59763</td>\n",
       "      <td>59895</td>\n",
       "      <td>59663</td>\n",
       "    </tr>\n",
       "    <tr>\n",
       "      <th>2015-03-31</th>\n",
       "      <td>87190</td>\n",
       "      <td>86753</td>\n",
       "      <td>87190</td>\n",
       "      <td>87190</td>\n",
       "      <td>86902</td>\n",
       "      <td>87190</td>\n",
       "      <td>86753</td>\n",
       "    </tr>\n",
       "    <tr>\n",
       "      <th>2015-04-30</th>\n",
       "      <td>78002</td>\n",
       "      <td>77626</td>\n",
       "      <td>78002</td>\n",
       "      <td>78002</td>\n",
       "      <td>77614</td>\n",
       "      <td>78002</td>\n",
       "      <td>77626</td>\n",
       "    </tr>\n",
       "    <tr>\n",
       "      <th>2015-05-31</th>\n",
       "      <td>87582</td>\n",
       "      <td>86677</td>\n",
       "      <td>87582</td>\n",
       "      <td>87582</td>\n",
       "      <td>86909</td>\n",
       "      <td>87582</td>\n",
       "      <td>86677</td>\n",
       "    </tr>\n",
       "    <tr>\n",
       "      <th>2015-06-30</th>\n",
       "      <td>84486</td>\n",
       "      <td>83924</td>\n",
       "      <td>84486</td>\n",
       "      <td>84486</td>\n",
       "      <td>83812</td>\n",
       "      <td>84486</td>\n",
       "      <td>83924</td>\n",
       "    </tr>\n",
       "    <tr>\n",
       "      <th>2015-07-31</th>\n",
       "      <td>77795</td>\n",
       "      <td>76561</td>\n",
       "      <td>77795</td>\n",
       "      <td>77795</td>\n",
       "      <td>76889</td>\n",
       "      <td>77795</td>\n",
       "      <td>76561</td>\n",
       "    </tr>\n",
       "    <tr>\n",
       "      <th>2015-08-31</th>\n",
       "      <td>78793</td>\n",
       "      <td>78286</td>\n",
       "      <td>78793</td>\n",
       "      <td>78793</td>\n",
       "      <td>77917</td>\n",
       "      <td>78793</td>\n",
       "      <td>78286</td>\n",
       "    </tr>\n",
       "    <tr>\n",
       "      <th>2015-09-30</th>\n",
       "      <td>78317</td>\n",
       "      <td>77764</td>\n",
       "      <td>78317</td>\n",
       "      <td>78317</td>\n",
       "      <td>77475</td>\n",
       "      <td>78317</td>\n",
       "      <td>77764</td>\n",
       "    </tr>\n",
       "    <tr>\n",
       "      <th>2015-10-31</th>\n",
       "      <td>72201</td>\n",
       "      <td>71612</td>\n",
       "      <td>72201</td>\n",
       "      <td>72201</td>\n",
       "      <td>71598</td>\n",
       "      <td>72201</td>\n",
       "      <td>71612</td>\n",
       "    </tr>\n",
       "    <tr>\n",
       "      <th>2015-11-30</th>\n",
       "      <td>66333</td>\n",
       "      <td>65986</td>\n",
       "      <td>66333</td>\n",
       "      <td>66333</td>\n",
       "      <td>65846</td>\n",
       "      <td>66333</td>\n",
       "      <td>65986</td>\n",
       "    </tr>\n",
       "    <tr>\n",
       "      <th>2015-12-31</th>\n",
       "      <td>70215</td>\n",
       "      <td>69719</td>\n",
       "      <td>70215</td>\n",
       "      <td>70215</td>\n",
       "      <td>69779</td>\n",
       "      <td>70215</td>\n",
       "      <td>69719</td>\n",
       "    </tr>\n",
       "    <tr>\n",
       "      <th>2016-01-31</th>\n",
       "      <td>68333</td>\n",
       "      <td>67986</td>\n",
       "      <td>68333</td>\n",
       "      <td>68333</td>\n",
       "      <td>68038</td>\n",
       "      <td>68333</td>\n",
       "      <td>67986</td>\n",
       "    </tr>\n",
       "    <tr>\n",
       "      <th>2016-02-29</th>\n",
       "      <td>68408</td>\n",
       "      <td>67997</td>\n",
       "      <td>68408</td>\n",
       "      <td>68408</td>\n",
       "      <td>68138</td>\n",
       "      <td>68408</td>\n",
       "      <td>67997</td>\n",
       "    </tr>\n",
       "    <tr>\n",
       "      <th>2016-03-31</th>\n",
       "      <td>78521</td>\n",
       "      <td>78054</td>\n",
       "      <td>78521</td>\n",
       "      <td>78521</td>\n",
       "      <td>78146</td>\n",
       "      <td>78521</td>\n",
       "      <td>78054</td>\n",
       "    </tr>\n",
       "    <tr>\n",
       "      <th>2016-04-30</th>\n",
       "      <td>80137</td>\n",
       "      <td>79655</td>\n",
       "      <td>80137</td>\n",
       "      <td>80137</td>\n",
       "      <td>79758</td>\n",
       "      <td>80137</td>\n",
       "      <td>79655</td>\n",
       "    </tr>\n",
       "    <tr>\n",
       "      <th>2016-05-31</th>\n",
       "      <td>92948</td>\n",
       "      <td>92405</td>\n",
       "      <td>92948</td>\n",
       "      <td>92948</td>\n",
       "      <td>92356</td>\n",
       "      <td>92948</td>\n",
       "      <td>92405</td>\n",
       "    </tr>\n",
       "    <tr>\n",
       "      <th>2016-06-30</th>\n",
       "      <td>91815</td>\n",
       "      <td>91017</td>\n",
       "      <td>91815</td>\n",
       "      <td>91815</td>\n",
       "      <td>91043</td>\n",
       "      <td>91815</td>\n",
       "      <td>91017</td>\n",
       "    </tr>\n",
       "    <tr>\n",
       "      <th>2016-07-31</th>\n",
       "      <td>82586</td>\n",
       "      <td>82122</td>\n",
       "      <td>82586</td>\n",
       "      <td>82586</td>\n",
       "      <td>81767</td>\n",
       "      <td>82586</td>\n",
       "      <td>82122</td>\n",
       "    </tr>\n",
       "    <tr>\n",
       "      <th>2016-08-31</th>\n",
       "      <td>78215</td>\n",
       "      <td>77694</td>\n",
       "      <td>78215</td>\n",
       "      <td>78215</td>\n",
       "      <td>77312</td>\n",
       "      <td>78215</td>\n",
       "      <td>77694</td>\n",
       "    </tr>\n",
       "    <tr>\n",
       "      <th>2016-09-30</th>\n",
       "      <td>84151</td>\n",
       "      <td>83503</td>\n",
       "      <td>84151</td>\n",
       "      <td>84151</td>\n",
       "      <td>83238</td>\n",
       "      <td>84151</td>\n",
       "      <td>83503</td>\n",
       "    </tr>\n",
       "    <tr>\n",
       "      <th>2016-10-31</th>\n",
       "      <td>78274</td>\n",
       "      <td>77729</td>\n",
       "      <td>78274</td>\n",
       "      <td>78274</td>\n",
       "      <td>77588</td>\n",
       "      <td>78274</td>\n",
       "      <td>77729</td>\n",
       "    </tr>\n",
       "    <tr>\n",
       "      <th>2016-11-30</th>\n",
       "      <td>69652</td>\n",
       "      <td>69119</td>\n",
       "      <td>69652</td>\n",
       "      <td>69652</td>\n",
       "      <td>69256</td>\n",
       "      <td>69652</td>\n",
       "      <td>69119</td>\n",
       "    </tr>\n",
       "    <tr>\n",
       "      <th>2016-12-31</th>\n",
       "      <td>72261</td>\n",
       "      <td>71747</td>\n",
       "      <td>72261</td>\n",
       "      <td>72261</td>\n",
       "      <td>71972</td>\n",
       "      <td>72261</td>\n",
       "      <td>71747</td>\n",
       "    </tr>\n",
       "  </tbody>\n",
       "</table>\n",
       "</div>"
      ],
      "text/plain": [
       "            Created Date  Closed Date  Agency  Complaint Type  Descriptor  \\\n",
       "created_at                                                                  \n",
       "2015-01-31         58168        57932   58168           58168       57968   \n",
       "2015-02-28         59895        59663   59895           59895       59763   \n",
       "2015-03-31         87190        86753   87190           87190       86902   \n",
       "2015-04-30         78002        77626   78002           78002       77614   \n",
       "2015-05-31         87582        86677   87582           87582       86909   \n",
       "2015-06-30         84486        83924   84486           84486       83812   \n",
       "2015-07-31         77795        76561   77795           77795       76889   \n",
       "2015-08-31         78793        78286   78793           78793       77917   \n",
       "2015-09-30         78317        77764   78317           78317       77475   \n",
       "2015-10-31         72201        71612   72201           72201       71598   \n",
       "2015-11-30         66333        65986   66333           66333       65846   \n",
       "2015-12-31         70215        69719   70215           70215       69779   \n",
       "2016-01-31         68333        67986   68333           68333       68038   \n",
       "2016-02-29         68408        67997   68408           68408       68138   \n",
       "2016-03-31         78521        78054   78521           78521       78146   \n",
       "2016-04-30         80137        79655   80137           80137       79758   \n",
       "2016-05-31         92948        92405   92948           92948       92356   \n",
       "2016-06-30         91815        91017   91815           91815       91043   \n",
       "2016-07-31         82586        82122   82586           82586       81767   \n",
       "2016-08-31         78215        77694   78215           78215       77312   \n",
       "2016-09-30         84151        83503   84151           84151       83238   \n",
       "2016-10-31         78274        77729   78274           78274       77588   \n",
       "2016-11-30         69652        69119   69652           69652       69256   \n",
       "2016-12-31         72261        71747   72261           72261       71972   \n",
       "\n",
       "            Borough  closed_at  \n",
       "created_at                      \n",
       "2015-01-31    58168      57932  \n",
       "2015-02-28    59895      59663  \n",
       "2015-03-31    87190      86753  \n",
       "2015-04-30    78002      77626  \n",
       "2015-05-31    87582      86677  \n",
       "2015-06-30    84486      83924  \n",
       "2015-07-31    77795      76561  \n",
       "2015-08-31    78793      78286  \n",
       "2015-09-30    78317      77764  \n",
       "2015-10-31    72201      71612  \n",
       "2015-11-30    66333      65986  \n",
       "2015-12-31    70215      69719  \n",
       "2016-01-31    68333      67986  \n",
       "2016-02-29    68408      67997  \n",
       "2016-03-31    78521      78054  \n",
       "2016-04-30    80137      79655  \n",
       "2016-05-31    92948      92405  \n",
       "2016-06-30    91815      91017  \n",
       "2016-07-31    82586      82122  \n",
       "2016-08-31    78215      77694  \n",
       "2016-09-30    84151      83503  \n",
       "2016-10-31    78274      77729  \n",
       "2016-11-30    69652      69119  \n",
       "2016-12-31    72261      71747  "
      ]
     },
     "execution_count": 159,
     "metadata": {},
     "output_type": "execute_result"
    }
   ],
   "source": [
    "#resample functions like groupby.\n",
    "df.resample('M').count()"
   ]
  },
  {
   "cell_type": "markdown",
   "metadata": {},
   "source": [
    "## Plot how many requests were filed each month"
   ]
  },
  {
   "cell_type": "code",
   "execution_count": 152,
   "metadata": {},
   "outputs": [
    {
     "data": {
      "text/plain": [
       "<matplotlib.axes._subplots.AxesSubplot at 0x10c9da630>"
      ]
     },
     "execution_count": 152,
     "metadata": {},
     "output_type": "execute_result"
    },
    {
     "data": {
      "image/png": "[encoded data removed]",
      "text/plain": [
       "<matplotlib.figure.Figure at 0x10ca93fd0>"
      ]
     },
     "metadata": {},
     "output_type": "display_data"
    }
   ],
   "source": [
    "df.resample('M').count().plot(y='Complaint Type')"
   ]
  },
  {
   "cell_type": "markdown",
   "metadata": {},
   "source": [
    "# Hmmm, it looks like a cycle\n",
    "\n",
    "What could cause that? Try a couple comparisons to see if you can find out.\n",
    "\n",
    "- Tip: Maybe the most popular summer complaints vs winter\n",
    "- Tip: Maybe graphing the different agencies on the same graph\n",
    "\n",
    "If you don't figure it out **that's okay!** "
   ]
  },
  {
   "cell_type": "code",
   "execution_count": null,
   "metadata": {
    "collapsed": true
   },
   "outputs": [],
   "source": []
  },
  {
   "cell_type": "code",
   "execution_count": null,
   "metadata": {
    "collapsed": true
   },
   "outputs": [],
   "source": []
  },
  {
   "cell_type": "markdown",
   "metadata": {},
   "source": [
    "## Time of day\n",
    "\n",
    "### What time of day do people complain?"
   ]
  },
  {
   "cell_type": "code",
   "execution_count": 214,
   "metadata": {},
   "outputs": [
    {
     "data": {
      "text/html": [
       "<div>\n",
       "<style>\n",
       "    .dataframe thead tr:only-child th {\n",
       "        text-align: right;\n",
       "    }\n",
       "\n",
       "    .dataframe thead th {\n",
       "        text-align: left;\n",
       "    }\n",
       "\n",
       "    .dataframe tbody tr th {\n",
       "        vertical-align: top;\n",
       "    }\n",
       "</style>\n",
       "<table border=\"1\" class=\"dataframe\">\n",
       "  <thead>\n",
       "    <tr style=\"text-align: right;\">\n",
       "      <th></th>\n",
       "      <th>Created Date</th>\n",
       "      <th>Closed Date</th>\n",
       "      <th>Agency</th>\n",
       "      <th>Complaint Type</th>\n",
       "      <th>Descriptor</th>\n",
       "      <th>Borough</th>\n",
       "      <th>closed_at</th>\n",
       "    </tr>\n",
       "    <tr>\n",
       "      <th>created_at</th>\n",
       "      <th></th>\n",
       "      <th></th>\n",
       "      <th></th>\n",
       "      <th></th>\n",
       "      <th></th>\n",
       "      <th></th>\n",
       "      <th></th>\n",
       "    </tr>\n",
       "  </thead>\n",
       "  <tbody>\n",
       "    <tr>\n",
       "      <th>11</th>\n",
       "      <td>232162</td>\n",
       "      <td>230883</td>\n",
       "      <td>232162</td>\n",
       "      <td>232162</td>\n",
       "      <td>230943</td>\n",
       "      <td>232162</td>\n",
       "      <td>230883</td>\n",
       "    </tr>\n",
       "    <tr>\n",
       "      <th>10</th>\n",
       "      <td>218008</td>\n",
       "      <td>216882</td>\n",
       "      <td>218008</td>\n",
       "      <td>218008</td>\n",
       "      <td>216579</td>\n",
       "      <td>218008</td>\n",
       "      <td>216882</td>\n",
       "    </tr>\n",
       "    <tr>\n",
       "      <th>12</th>\n",
       "      <td>192942</td>\n",
       "      <td>191730</td>\n",
       "      <td>192942</td>\n",
       "      <td>192942</td>\n",
       "      <td>191884</td>\n",
       "      <td>192942</td>\n",
       "      <td>191730</td>\n",
       "    </tr>\n",
       "    <tr>\n",
       "      <th>9</th>\n",
       "      <td>187637</td>\n",
       "      <td>186512</td>\n",
       "      <td>187637</td>\n",
       "      <td>187637</td>\n",
       "      <td>186167</td>\n",
       "      <td>187637</td>\n",
       "      <td>186512</td>\n",
       "    </tr>\n",
       "    <tr>\n",
       "      <th>8</th>\n",
       "      <td>159947</td>\n",
       "      <td>158980</td>\n",
       "      <td>159947</td>\n",
       "      <td>159947</td>\n",
       "      <td>158480</td>\n",
       "      <td>159947</td>\n",
       "      <td>158980</td>\n",
       "    </tr>\n",
       "    <tr>\n",
       "      <th>1</th>\n",
       "      <td>155368</td>\n",
       "      <td>153909</td>\n",
       "      <td>155368</td>\n",
       "      <td>155368</td>\n",
       "      <td>154477</td>\n",
       "      <td>155368</td>\n",
       "      <td>153909</td>\n",
       "    </tr>\n",
       "    <tr>\n",
       "      <th>2</th>\n",
       "      <td>143361</td>\n",
       "      <td>142049</td>\n",
       "      <td>143361</td>\n",
       "      <td>143361</td>\n",
       "      <td>142492</td>\n",
       "      <td>143361</td>\n",
       "      <td>142049</td>\n",
       "    </tr>\n",
       "    <tr>\n",
       "      <th>7</th>\n",
       "      <td>132544</td>\n",
       "      <td>131338</td>\n",
       "      <td>132544</td>\n",
       "      <td>132544</td>\n",
       "      <td>131309</td>\n",
       "      <td>132544</td>\n",
       "      <td>131338</td>\n",
       "    </tr>\n",
       "    <tr>\n",
       "      <th>3</th>\n",
       "      <td>118681</td>\n",
       "      <td>117687</td>\n",
       "      <td>118681</td>\n",
       "      <td>118681</td>\n",
       "      <td>117787</td>\n",
       "      <td>118681</td>\n",
       "      <td>117687</td>\n",
       "    </tr>\n",
       "    <tr>\n",
       "      <th>6</th>\n",
       "      <td>107775</td>\n",
       "      <td>107086</td>\n",
       "      <td>107775</td>\n",
       "      <td>107775</td>\n",
       "      <td>106775</td>\n",
       "      <td>107775</td>\n",
       "      <td>107086</td>\n",
       "    </tr>\n",
       "    <tr>\n",
       "      <th>4</th>\n",
       "      <td>101561</td>\n",
       "      <td>100830</td>\n",
       "      <td>101561</td>\n",
       "      <td>101561</td>\n",
       "      <td>100747</td>\n",
       "      <td>101561</td>\n",
       "      <td>100830</td>\n",
       "    </tr>\n",
       "    <tr>\n",
       "      <th>5</th>\n",
       "      <td>94292</td>\n",
       "      <td>93645</td>\n",
       "      <td>94292</td>\n",
       "      <td>94292</td>\n",
       "      <td>93444</td>\n",
       "      <td>94292</td>\n",
       "      <td>93645</td>\n",
       "    </tr>\n",
       "  </tbody>\n",
       "</table>\n",
       "</div>"
      ],
      "text/plain": [
       "            Created Date  Closed Date  Agency  Complaint Type  Descriptor  \\\n",
       "created_at                                                                  \n",
       "11                232162       230883  232162          232162      230943   \n",
       "10                218008       216882  218008          218008      216579   \n",
       "12                192942       191730  192942          192942      191884   \n",
       "9                 187637       186512  187637          187637      186167   \n",
       "8                 159947       158980  159947          159947      158480   \n",
       "1                 155368       153909  155368          155368      154477   \n",
       "2                 143361       142049  143361          143361      142492   \n",
       "7                 132544       131338  132544          132544      131309   \n",
       "3                 118681       117687  118681          118681      117787   \n",
       "6                 107775       107086  107775          107775      106775   \n",
       "4                 101561       100830  101561          101561      100747   \n",
       "5                  94292        93645   94292           94292       93444   \n",
       "\n",
       "            Borough  closed_at  \n",
       "created_at                      \n",
       "11           232162     230883  \n",
       "10           218008     216882  \n",
       "12           192942     191730  \n",
       "9            187637     186512  \n",
       "8            159947     158980  \n",
       "1            155368     153909  \n",
       "2            143361     142049  \n",
       "7            132544     131338  \n",
       "3            118681     117687  \n",
       "6            107775     107086  \n",
       "4            101561     100830  \n",
       "5             94292      93645  "
      ]
     },
     "execution_count": 214,
     "metadata": {},
     "output_type": "execute_result"
    }
   ],
   "source": [
    "#df.resample('H').count() ... This gives every hour of the day over the course of two years.\n",
    "df.groupby(df.index.hour).count().sort_values(by='Created Date', ascending = False) #.plot(y='Complaint Type')"
   ]
  },
  {
   "cell_type": "markdown",
   "metadata": {},
   "source": [
    "### What time of day do people complain about potholes?"
   ]
  },
  {
   "cell_type": "code",
   "execution_count": 274,
   "metadata": {},
   "outputs": [
    {
     "data": {
      "text/plain": [
       "<matplotlib.axes._subplots.AxesSubplot at 0x112966860>"
      ]
     },
     "execution_count": 274,
     "metadata": {},
     "output_type": "execute_result"
    },
    {
     "data": {
      "image/png": "[encoded data removed]",
      "text/plain": [
       "<matplotlib.figure.Figure at 0x112905400>"
      ]
     },
     "metadata": {},
     "output_type": "display_data"
    }
   ],
   "source": [
    "df[df['Descriptor'] == 'Pothole'].groupby(by=df[df['Descriptor'] == 'Pothole'].index.hour).count().plot(y=\"Borough\")"
   ]
  },
  {
   "cell_type": "markdown",
   "metadata": {},
   "source": [
    "### What time of day do people complain about loud parties?"
   ]
  },
  {
   "cell_type": "code",
   "execution_count": 275,
   "metadata": {},
   "outputs": [
    {
     "data": {
      "text/plain": [
       "<matplotlib.axes._subplots.AxesSubplot at 0x112d9e5f8>"
      ]
     },
     "execution_count": 275,
     "metadata": {},
     "output_type": "execute_result"
    },
    {
     "data": {
      "image/png": "[encoded data removed]",
      "text/plain": [
       "<matplotlib.figure.Figure at 0x10cac8710>"
      ]
     },
     "metadata": {},
     "output_type": "display_data"
    }
   ],
   "source": [
    "df[df['Descriptor'] == 'Loud Music/Party'].groupby(by=df[df['Descriptor'] == 'Loud Music/Party'].index.hour).count().plot(y=\"Borough\")"
   ]
  },
  {
   "cell_type": "markdown",
   "metadata": {},
   "source": [
    "## Days of the week"
   ]
  },
  {
   "cell_type": "markdown",
   "metadata": {},
   "source": [
    "### What days of the week do people complain about potholes?"
   ]
  },
  {
   "cell_type": "code",
   "execution_count": 277,
   "metadata": {},
   "outputs": [
    {
     "data": {
      "text/plain": [
       "<matplotlib.axes._subplots.AxesSubplot at 0x1129819e8>"
      ]
     },
     "execution_count": 277,
     "metadata": {},
     "output_type": "execute_result"
    },
    {
     "data": {
      "image/png": "[encoded data removed]",
      "text/plain": [
       "<matplotlib.figure.Figure at 0x11298dd68>"
      ]
     },
     "metadata": {},
     "output_type": "display_data"
    }
   ],
   "source": [
    "df[df['Descriptor'] == 'Pothole'].groupby(by=df[df['Descriptor'] == 'Pothole'].index.dayofweek).count().plot(y=\"Borough\")"
   ]
  },
  {
   "cell_type": "markdown",
   "metadata": {},
   "source": [
    "### What days of the week do people complain about loud parties?"
   ]
  },
  {
   "cell_type": "code",
   "execution_count": 279,
   "metadata": {},
   "outputs": [
    {
     "data": {
      "text/plain": [
       "<matplotlib.axes._subplots.AxesSubplot at 0x10cc02828>"
      ]
     },
     "execution_count": 279,
     "metadata": {},
     "output_type": "execute_result"
    },
    {
     "data": {
      "image/png": "[encoded data removed]",
      "text/plain": [
       "<matplotlib.figure.Figure at 0x1129ba9e8>"
      ]
     },
     "metadata": {},
     "output_type": "display_data"
    }
   ],
   "source": [
    "df[df['Descriptor'] == 'Loud Music/Party'].groupby(by=df[df['Descriptor'] == 'Loud Music/Party'].index.dayofweek).count().plot(y=\"Borough\")"
   ]
  },
  {
   "cell_type": "markdown",
   "metadata": {},
   "source": [
    "### What do you think is the best kind of graph for describing day of the week complaints?"
   ]
  },
  {
   "cell_type": "code",
   "execution_count": 281,
   "metadata": {},
   "outputs": [
    {
     "data": {
      "text/plain": [
       "<matplotlib.axes._subplots.AxesSubplot at 0x112a55978>"
      ]
     },
     "execution_count": 281,
     "metadata": {},
     "output_type": "execute_result"
    },
    {
     "data": {
      "image/png": "[encoded data removed]",
      "text/plain": [
       "<matplotlib.figure.Figure at 0x11daae438>"
      ]
     },
     "metadata": {},
     "output_type": "display_data"
    }
   ],
   "source": [
    "df[df['Descriptor'] == 'Loud Music/Party'].groupby(by=df[df['Descriptor'] == 'Loud Music/Party'].index.dayofweek).count().plot(kind = 'bar', y=\"Borough\")"
   ]
  },
  {
   "cell_type": "markdown",
   "metadata": {},
   "source": [
    "# Some more investigation\n",
    "\n",
    "## Are there more homeless people in the city in the summer or in the winter?"
   ]
  },
  {
   "cell_type": "code",
   "execution_count": 336,
   "metadata": {},
   "outputs": [
    {
     "data": {
      "text/plain": [
       "<matplotlib.axes._subplots.AxesSubplot at 0x1133e2e10>"
      ]
     },
     "execution_count": 336,
     "metadata": {},
     "output_type": "execute_result"
    },
    {
     "data": {
      "image/png": "[encoded data removed]",
      "text/plain": [
       "<matplotlib.figure.Figure at 0x111f50f60>"
      ]
     },
     "metadata": {},
     "output_type": "display_data"
    }
   ],
   "source": [
    "df[df['Complaint Type'] == 'Homeless Encampment'].sort_index().resample('M').count().plot(y='Complaint Type')"
   ]
  },
  {
   "cell_type": "markdown",
   "metadata": {},
   "source": [
    "## What holiday(s) are most popular for illegal fireworks?"
   ]
  },
  {
   "cell_type": "code",
   "execution_count": 357,
   "metadata": {},
   "outputs": [
    {
     "data": {
      "text/plain": [
       "<matplotlib.axes._subplots.AxesSubplot at 0x1164d1438>"
      ]
     },
     "execution_count": 357,
     "metadata": {},
     "output_type": "execute_result"
    },
    {
     "data": {
      "image/png": "[encoded data removed]",
      "text/plain": [
       "<matplotlib.figure.Figure at 0x115108d30>"
      ]
     },
     "metadata": {},
     "output_type": "display_data"
    }
   ],
   "source": [
    "df[df['Complaint Type'] == 'Illegal Fireworks'].groupby(by=df[df['Complaint Type'] == 'Illegal Fireworks'].index.month).count().plot(y = 'Complaint Type')"
   ]
  },
  {
   "cell_type": "code",
   "execution_count": null,
   "metadata": {
    "collapsed": true
   },
   "outputs": [],
   "source": [
    "#or df[df['Complaint Type'] == 'Illegal Fireworks'].sort_index().resample('M').count().plot(y='Complaint Type')"
   ]
  },
  {
   "cell_type": "markdown",
   "metadata": {},
   "source": [
    "## Plot all kinds of noise complaints on top of each other"
   ]
  },
  {
   "cell_type": "code",
   "execution_count": 389,
   "metadata": {
    "collapsed": true
   },
   "outputs": [],
   "source": [
    "import matplotlib.pyplot as plt\n",
    "plt.style.use('ggplot')"
   ]
  },
  {
   "cell_type": "code",
   "execution_count": 414,
   "metadata": {},
   "outputs": [
    {
     "data": {
      "text/plain": [
       "<matplotlib.text.Text at 0x1286f1278>"
      ]
     },
     "execution_count": 414,
     "metadata": {},
     "output_type": "execute_result"
    },
    {
     "data": {
      "image/png": "[encoded data removed]",
      "text/plain": [
       "<matplotlib.figure.Figure at 0x127ce6438>"
      ]
     },
     "metadata": {},
     "output_type": "display_data"
    }
   ],
   "source": [
    "fig, ax = plt.subplots(figsize = (10, 5))\n",
    "\n",
    "df[df['Complaint Type'] == \"Noise - Residential\"].sort_index().resample(\"M\").count().plot(y= 'Complaint Type', label = \"Residential\", ax=ax)\n",
    "df[df['Complaint Type'] == \"Noise - Street/Sidewalk\"].sort_index().resample(\"M\").count().plot(y= 'Complaint Type', label = \"Sidewalk\", ax=ax)\n",
    "df[df['Complaint Type'] == \"Noise - Commercial\"].sort_index().resample(\"M\").count().plot(y= 'Complaint Type', label = \"Commercial\", ax=ax)\n",
    "df[df['Complaint Type'] == \"Noise - Vehicle\"].sort_index().resample(\"M\").count().plot(y= 'Complaint Type', label = \"Vehicle\", ax=ax)\n",
    "df[df['Complaint Type'] == \"Noise - Park\"].sort_index().resample(\"M\").count().plot(y= 'Complaint Type', label = \"Park\", ax=ax)\n",
    "df[df['Complaint Type'] == \"Noise - House of Worship\"].sort_index().resample(\"M\").count().plot(y= 'Complaint Type', label = \"House of Worship\", ax=ax)\n",
    "\n",
    "ax.set_title(\"Noise Complaint\")\n",
    "\n"
   ]
  },
  {
   "cell_type": "code",
   "execution_count": null,
   "metadata": {
    "collapsed": true
   },
   "outputs": [],
   "source": []
  }
 ],
 "metadata": {
  "kernelspec": {
   "display_name": "Python 3",
   "language": "python",
   "name": "python3"
  },
  "language_info": {
   "codemirror_mode": {
    "name": "ipython",
    "version": 3
   },
   "file_extension": ".py",
   "mimetype": "text/x-python",
   "name": "python",
   "nbconvert_exporter": "python",
   "pygments_lexer": "ipython3",
   "version": "3.6.1"
  }
 },
 "nbformat": 4,
 "nbformat_minor": 2
}
