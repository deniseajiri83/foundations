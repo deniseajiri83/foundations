{
 "cells": [
  {
   "cell_type": "markdown",
   "metadata": {},
   "source": [
    "## Homework 3\n",
    "This homework asks you to scrape from three different sources, please follow the instructions and do the best you can. With the exception of the first cell that imports the URL request and the beautiful soup library, I have not pre-written any code for you. Do not be afraid--you may look at the tutorial for examples, as well as the Beautiful Soup documentation, and any other Python resource (such a Stack overflow) if need be. \n",
    "\n",
    "This homework is intended to be challenging, if you only get 70% of the stuff done than you did very well."
   ]
  },
  {
   "cell_type": "code",
   "execution_count": 133,
   "metadata": {
    "collapsed": true
   },
   "outputs": [],
   "source": [
    "from urllib.request import urlopen\n",
    "from bs4 import BeautifulSoup"
   ]
  },
  {
   "cell_type": "markdown",
   "metadata": {},
   "source": [
    "## Shakespeare \n",
    "I've posted some relatively simple HTML of the first act of William Shakespeare's The Tempest here: http://floatingmedia.com/columbia/tempest.html please use that URL to download the HTML and put it through Beautiful Soup. (It also may be very helpful for you to go to that page in chrome and inspect elements why you do this.) \n",
    "**Please note: there are 2 scenes in Act 1**\n",
    "\n"
   ]
  },
  {
   "cell_type": "markdown",
   "metadata": {},
   "source": [
    "In the cells below you should you make two lines--a variable that requests and reads the HTML from the URL (http://floatingmedia.com/columbia/tempest.html), and a second variable that passes the raw HTML into Beautiful Soup. You will use that beautiful soup variable to search the HTML."
   ]
  },
  {
   "cell_type": "code",
   "execution_count": 134,
   "metadata": {
    "collapsed": true
   },
   "outputs": [],
   "source": [
    "my_url = \"http://floatingmedia.com/columbia/tempest.html\"\n",
    "raw_html = urlopen(my_url).read()\n",
    "soup_doc = BeautifulSoup(raw_html, \"html.parser\")"
   ]
  },
  {
   "cell_type": "markdown",
   "metadata": {},
   "source": [
    "Get the title of the play:"
   ]
  },
  {
   "cell_type": "code",
   "execution_count": 135,
   "metadata": {},
   "outputs": [
    {
     "data": {
      "text/plain": [
       "<title>The Tempest</title>"
      ]
     },
     "execution_count": 135,
     "metadata": {},
     "output_type": "execute_result"
    }
   ],
   "source": [
    "soup_doc.title"
   ]
  },
  {
   "cell_type": "markdown",
   "metadata": {},
   "source": [
    "Get the HTML that contains the setting of Act One Scene 1:"
   ]
  },
  {
   "cell_type": "code",
   "execution_count": 136,
   "metadata": {},
   "outputs": [
    {
     "data": {
      "text/plain": [
       "<div>\n",
       "<p class=\"stagedir\"> a tempestuous noise of thunder and lightning heard.</p>\n",
       "<p class=\"stagedir\">[Enter a Master and a Boatswain]</p>\n",
       "<ul><li class=\"playtext\"><strong>Master. </strong>Boatswain!\n",
       "</li></ul>\n",
       "<ul><li class=\"playtext\"><strong>Boatswain. </strong>Here, master: what cheer?\n",
       "</li></ul>\n",
       "<ul><li class=\"playtext\"><strong>Master. </strong>Good, speak to the mariners: fall to't, yarely,\n",
       " <span class=\"playlinenum\">5</span><br/>or we run ourselves aground: bestir, bestir.\n",
       "</li></ul>\n",
       "<p class=\"stagedir\">[Exit]</p>\n",
       "<p class=\"stagedir\">[Enter Mariners]</p>\n",
       "<ul><li class=\"playtext\"><strong>Boatswain. </strong>Heigh, my hearts! cheerly, cheerly, my hearts!\n",
       "<br/>yare, yare! Take in the topsail. Tend to the\n",
       " <span class=\"playlinenum\">10</span><br/>master's whistle. Blow, till thou burst thy wind,\n",
       "<br/>if room enough!\n",
       "<br/><i>[Enter ALONSO, SEBASTIAN, ANTONIO, FERDINAND,]</i>\n",
       "<br/>GONZALO, and others]\n",
       "</li></ul>\n",
       "<ul><li class=\"playtext\"><strong>Alonso. </strong>Good boatswain, have care. Where's the master?\n",
       " <span class=\"playlinenum\">15</span><br/>Play the men.\n",
       "</li></ul>\n",
       "<ul><li class=\"playtext\"><strong>Boatswain. </strong>I pray now, keep below.\n",
       "</li></ul>\n",
       "<ul><li class=\"playtext\"><strong>Antonio. </strong>Where is the master, boatswain?\n",
       "</li></ul>\n",
       "<ul><li class=\"playtext\"><strong>Boatswain. </strong>Do you not hear him? You mar our labour: keep your\n",
       "<br/>cabins: you do assist the storm.\n",
       " <span class=\"playlinenum\">20</span></li></ul>\n",
       "<ul><li class=\"playtext\"><strong>Gonzalo. </strong>Nay, good, be patient.\n",
       "</li></ul>\n",
       "<ul><li class=\"playtext\"><strong>Boatswain. </strong>When the sea is. Hence! What cares these roarers\n",
       "<br/>for the name of king? To cabin: silence! trouble us not.\n",
       "</li></ul>\n",
       "<ul><li class=\"playtext\"><strong>Gonzalo. </strong>Good, yet remember whom thou hast aboard.\n",
       "</li></ul>\n",
       "<ul><li class=\"playtext\"><strong>Boatswain. </strong>None that I more love than myself. You are a\n",
       " <span class=\"playlinenum\">25</span><br/>counsellor; if you can command these elements to\n",
       "<br/>silence, and work the peace of the present, we will\n",
       "<br/>not hand a rope more; use your authority: if you\n",
       "<br/>cannot, give thanks you have lived so long, and make\n",
       "<br/>yourself ready in your cabin for the mischance of\n",
       " <span class=\"playlinenum\">30</span><br/>the hour, if it so hap. Cheerly, good hearts! Out\n",
       "<br/>of our way, I say.\n",
       "</li></ul>\n",
       "<p class=\"stagedir\">[Exit]</p>\n",
       "<ul><li class=\"playtext\"><strong>Gonzalo. </strong>I have great comfort from this fellow: methinks he\n",
       "<br/>hath no drowning mark upon him; his complexion is\n",
       " <span class=\"playlinenum\">35</span><br/>perfect gallows. Stand fast, good Fate, to his\n",
       "<br/>hanging: make the rope of his destiny our cable,\n",
       "<br/>for our own doth little advantage. If he be not\n",
       "<br/>born to be hanged, our case is miserable.\n",
       "</li></ul>\n",
       "<p class=\"stagedir\">[Exeunt]</p>\n",
       "<p class=\"stagedir\">[Re-enter Boatswain]</p>\n",
       "<ul><li class=\"playtext\"><strong>Boatswain. </strong>Down with the topmast! yare! lower, lower! Bring\n",
       "<br/>her to try with main-course.\n",
       "<br/><i>[A cry within]</i>\n",
       "<br/>A plague upon this howling! they are louder than\n",
       " <span class=\"playlinenum\">45</span><br/>the weather or our office.\n",
       "<br/><i>[Re-enter SEBASTIAN, ANTONIO, and GONZALO]</i>\n",
       "<br/>Yet again! what do you here? Shall we give o'er\n",
       "<br/>and drown? Have you a mind to sink?\n",
       "</li></ul>\n",
       "<ul><li class=\"playtext\"><strong>Sebastian. </strong>A pox o' your throat, you bawling, blasphemous,\n",
       " <span class=\"playlinenum\">50</span><br/>incharitable dog!\n",
       "</li></ul>\n",
       "<ul><li class=\"playtext\"><strong>Boatswain. </strong>Work you then.\n",
       "</li></ul>\n",
       "<ul><li class=\"playtext\"><strong>Antonio. </strong>Hang, cur! hang, you whoreson, insolent noisemaker!\n",
       "<br/>We are less afraid to be drowned than thou art.\n",
       "</li></ul>\n",
       "<ul><li class=\"playtext\"><strong>Gonzalo. </strong>I'll warrant him for drowning; though the ship were\n",
       " <span class=\"playlinenum\">55</span><br/>no stronger than a nutshell and as leaky as an\n",
       "<br/>unstanched wench.\n",
       "</li></ul>\n",
       "<ul><li class=\"playtext\"><strong>Boatswain. </strong>Lay her a-hold, a-hold! set her two courses off to\n",
       "<br/>sea again; lay her off.\n",
       "</li></ul>\n",
       "<p class=\"stagedir\">[Enter Mariners wet]</p>\n",
       "<ul><li class=\"playtext\"><strong>Mariners. </strong>All lost! to prayers, to prayers! all lost!\n",
       "</li></ul>\n",
       "<ul><li class=\"playtext\"><strong>Boatswain. </strong>What, must our mouths be cold?\n",
       "</li></ul>\n",
       "<ul><li class=\"playtext\"><strong>Gonzalo. </strong>The king and prince at prayers! let's assist them,\n",
       "<br/>For our case is as theirs.\n",
       "</li></ul>\n",
       "<ul><li class=\"playtext\"><strong>Sebastian. </strong>I'm out of patience.\n",
       " <span class=\"playlinenum\">65</span></li></ul>\n",
       "<ul><li class=\"playtext\"><strong>Antonio. </strong>We are merely cheated of our lives by drunkards:\n",
       "<br/>This wide-chapp'd rascal—would thou mightst lie drowning\n",
       "<br/>The washing of ten tides!\n",
       "</li></ul>\n",
       "<ul><li class=\"playtext\"><strong>Gonzalo. </strong>He'll be hang'd yet,\n",
       "<br/>Though every drop of water swear against it\n",
       " <span class=\"playlinenum\">70</span><br/>And gape at widest to glut him.\n",
       "<br/><i>[A confused noise within: 'Mercy on us!'—]</i>\n",
       "<br/>'We split, we split!'—'Farewell, my wife and\n",
       "<br/>children!'—\n",
       "<br/>'Farewell, brother!'—'We split, we split, we split!']\n",
       " <span class=\"playlinenum\">75</span></li></ul>\n",
       "<ul><li class=\"playtext\"><strong>Antonio. </strong>Let's all sink with the king.\n",
       "</li></ul>\n",
       "<ul><li class=\"playtext\"><strong>Sebastian. </strong>Let's take leave of him.\n",
       "</li></ul>\n",
       "<p class=\"stagedir\">[Exeunt ANTONIO and SEBASTIAN]</p>\n",
       "<ul><li class=\"playtext\"><strong>Gonzalo. </strong>Now would I give a thousand furlongs of sea for an\n",
       "<br/>acre of barren ground, long heath, brown furze, any\n",
       " <span class=\"playlinenum\">80</span><br/>thing. The wills above be done! but I would fain\n",
       "<br/>die a dry death.\n",
       "</li></ul>\n",
       "<p class=\"stagedir\">[Exeunt]</p>\n",
       "</div>"
      ]
     },
     "execution_count": 136,
     "metadata": {},
     "output_type": "execute_result"
    }
   ],
   "source": [
    "Act_1_Scene1 = soup_doc.find_all(\"div\")[1]\n",
    "Act_1_Scene1"
   ]
  },
  {
   "cell_type": "markdown",
   "metadata": {},
   "source": [
    "Get the setting of Act One Scene 1 (as a string):"
   ]
  },
  {
   "cell_type": "code",
   "execution_count": 137,
   "metadata": {},
   "outputs": [
    {
     "data": {
      "text/plain": [
       "' a tempestuous noise of thunder and lightning heard.'"
      ]
     },
     "execution_count": 137,
     "metadata": {},
     "output_type": "execute_result"
    }
   ],
   "source": [
    "Act_1_Scene1.find('p').string"
   ]
  },
  {
   "cell_type": "markdown",
   "metadata": {},
   "source": [
    "Get the setting of scene 2"
   ]
  },
  {
   "cell_type": "code",
   "execution_count": 138,
   "metadata": {},
   "outputs": [
    {
     "data": {
      "text/plain": [
       "'The island. Before PROSPERO’S cell.'"
      ]
     },
     "execution_count": 138,
     "metadata": {},
     "output_type": "execute_result"
    }
   ],
   "source": [
    "Act_1_Scene2_Setting = soup_doc.find_all(\"div\")[2]\n",
    "Act_1_Scene2_Setting.find_all('p')[1].string"
   ]
  },
  {
   "cell_type": "markdown",
   "metadata": {},
   "source": [
    "Get the name of the first character in Scene 1"
   ]
  },
  {
   "cell_type": "code",
   "execution_count": 139,
   "metadata": {},
   "outputs": [
    {
     "data": {
      "text/plain": [
       "<ul><li class=\"playtext\"><strong>Master. </strong>Boatswain!\n",
       "</li></ul>"
      ]
     },
     "execution_count": 139,
     "metadata": {},
     "output_type": "execute_result"
    }
   ],
   "source": [
    "Act_1_Scene1.find('ul')"
   ]
  },
  {
   "cell_type": "code",
   "execution_count": 140,
   "metadata": {},
   "outputs": [
    {
     "data": {
      "text/plain": [
       "'Master. '"
      ]
     },
     "execution_count": 140,
     "metadata": {},
     "output_type": "execute_result"
    }
   ],
   "source": [
    "Act_1_Scene1.find('strong').string"
   ]
  },
  {
   "cell_type": "code",
   "execution_count": 141,
   "metadata": {
    "collapsed": true
   },
   "outputs": [],
   "source": [
    "#Act_1_Scene1.find_all('strong') this is the list you need for for loop."
   ]
  },
  {
   "cell_type": "markdown",
   "metadata": {},
   "source": [
    "Get a list of all of characters in Scene 1 (repeats are fine, you need a loop here)"
   ]
  },
  {
   "cell_type": "code",
   "execution_count": 142,
   "metadata": {},
   "outputs": [
    {
     "name": "stdout",
     "output_type": "stream",
     "text": [
      "Master. \n",
      "Boatswain. \n",
      "Master. \n",
      "Boatswain. \n",
      "Alonso. \n",
      "Boatswain. \n",
      "Antonio. \n",
      "Boatswain. \n",
      "Gonzalo. \n",
      "Boatswain. \n",
      "Gonzalo. \n",
      "Boatswain. \n",
      "Gonzalo. \n",
      "Boatswain. \n",
      "Sebastian. \n",
      "Boatswain. \n",
      "Antonio. \n",
      "Gonzalo. \n",
      "Boatswain. \n",
      "Mariners. \n",
      "Boatswain. \n",
      "Gonzalo. \n",
      "Sebastian. \n",
      "Antonio. \n",
      "Gonzalo. \n",
      "Antonio. \n",
      "Sebastian. \n",
      "Gonzalo. \n"
     ]
    }
   ],
   "source": [
    "for character in Act_1_Scene1.find_all('strong'):\n",
    "    Act_1_Scene1.find ('strong')\n",
    "    print(character.string)"
   ]
  },
  {
   "cell_type": "markdown",
   "metadata": {},
   "source": [
    "**Bonus:** write a script that takes all the duplicates out of the list. (This is a python thing, not a beautiful soup thing.)"
   ]
  },
  {
   "cell_type": "markdown",
   "metadata": {},
   "source": [
    "Display every stage direction in _scene 2_"
   ]
  },
  {
   "cell_type": "code",
   "execution_count": 143,
   "metadata": {},
   "outputs": [],
   "source": [
    "Act_1_Scene2 = soup_doc.find_all(\"div\")[3]\n",
    "#Act_1_Scene2.find(class_=\"stagedir\").string"
   ]
  },
  {
   "cell_type": "code",
   "execution_count": 144,
   "metadata": {},
   "outputs": [
    {
     "name": "stdout",
     "output_type": "stream",
     "text": [
      "[Enter PROSPERO and MIRANDA]\n",
      "[Enter ARIEL]\n",
      "[Exit]\n",
      "[Enter CALIBAN]\n",
      "[Draws, and is charmed from moving]\n",
      "[Exeunt]\n"
     ]
    }
   ],
   "source": [
    "for stage in Act_1_Scene2.find_all(class_=\"stagedir\"):\n",
    "    Act_1_Scene2.find(class_=\"stagedir\")\n",
    "    print(stage.string)"
   ]
  },
  {
   "cell_type": "markdown",
   "metadata": {},
   "source": [
    "Get the HTML containing Miranda's first speech in Scene 2"
   ]
  },
  {
   "cell_type": "code",
   "execution_count": 145,
   "metadata": {},
   "outputs": [
    {
     "data": {
      "text/plain": [
       "<ul><li class=\"playtext\"><strong>Miranda. </strong>If by your art, my dearest father, you have\n",
       " <span class=\"playlinenum\">85</span><br/>Put the wild waters in this roar, allay them.\n",
       "<br/>The sky, it seems, would pour down stinking pitch,\n",
       "<br/>But that the sea, mounting to the welkin's cheek,\n",
       "<br/>Dashes the fire out. O, I have suffered\n",
       "<br/>With those that I saw suffer: a brave vessel,\n",
       " <span class=\"playlinenum\">90</span><br/>Who had, no doubt, some noble creature in her,\n",
       "<br/>Dash'd all to pieces. O, the cry did knock\n",
       "<br/>Against my very heart. Poor souls, they perish'd.\n",
       "<br/>Had I been any god of power, I would\n",
       "<br/>Have sunk the sea within the earth or ere\n",
       " <span class=\"playlinenum\">95</span><br/>It should the good ship so have swallow'd and\n",
       "<br/>The fraughting souls within her.\n",
       "</li></ul>"
      ]
     },
     "execution_count": 145,
     "metadata": {},
     "output_type": "execute_result"
    }
   ],
   "source": [
    "Mira_Speech = Act_1_Scene2.find_all('ul')[0]\n",
    "Mira_Speech"
   ]
  },
  {
   "cell_type": "code",
   "execution_count": 146,
   "metadata": {},
   "outputs": [
    {
     "data": {
      "text/plain": [
       "'If by your art, my dearest father, you have\\n '"
      ]
     },
     "execution_count": 146,
     "metadata": {},
     "output_type": "execute_result"
    }
   ],
   "source": [
    "Act_1_Scene2.find_all('li')[0].strong.next.next"
   ]
  },
  {
   "cell_type": "markdown",
   "metadata": {},
   "source": [
    "Now display those same lines without the speaker's name (need to use siblings and a loop to get this)"
   ]
  },
  {
   "cell_type": "code",
   "execution_count": 147,
   "metadata": {},
   "outputs": [
    {
     "name": "stdout",
     "output_type": "stream",
     "text": [
      "Put the wild waters in this roar, allay them.\n",
      "\n",
      "The sky, it seems, would pour down stinking pitch,\n",
      "\n",
      "But that the sea, mounting to the welkin's cheek,\n",
      "\n",
      "Dashes the fire out. O, I have suffered\n",
      "\n",
      "With those that I saw suffer: a brave vessel,\n",
      " \n",
      "Who had, no doubt, some noble creature in her,\n",
      "\n",
      "Dash'd all to pieces. O, the cry did knock\n",
      "\n",
      "Against my very heart. Poor souls, they perish'd.\n",
      "\n",
      "Had I been any god of power, I would\n",
      "\n",
      "Have sunk the sea within the earth or ere\n",
      " \n",
      "It should the good ship so have swallow'd and\n",
      "\n",
      "The fraughting souls within her.\n",
      "\n"
     ]
    }
   ],
   "source": [
    "for speech in Act_1_Scene2.find('li').find_all('br'):\n",
    "    print(speech.nextSibling)"
   ]
  },
  {
   "cell_type": "markdown",
   "metadata": {},
   "source": [
    "Get the HTML containing the speech after Miranda's"
   ]
  },
  {
   "cell_type": "code",
   "execution_count": 148,
   "metadata": {},
   "outputs": [
    {
     "data": {
      "text/plain": [
       "<ul><li class=\"playtext\"><strong>Prospero. </strong>Be collected:\n",
       "<br/>No more amazement: tell your piteous heart\n",
       "<br/>There's no harm done.\n",
       " <span class=\"playlinenum\">100</span></li></ul>"
      ]
     },
     "execution_count": 148,
     "metadata": {},
     "output_type": "execute_result"
    }
   ],
   "source": [
    "Act_1_Scene2.find_all('ul')[1]\n",
    "#or\n",
    "#Act_1_Scene2.find('ul').next_sibling.next_sibling"
   ]
  },
  {
   "cell_type": "markdown",
   "metadata": {},
   "source": [
    "## Box Office Mojo \n",
    "I've posted some slightly simplified HTML of the current worldwide box office leaders here: http://floatingmedia.com/columbia/boxoffice.htm please use that URL to download the HTML and put it through Beautiful Soup. (It also may be very helpful for you to go to that page in chrome and inspect elements why you do this.) \n",
    "\n",
    "For this part of the assignment you should focus mostly on tr (table rows) amd td (table cells) -- and search them using find_all('tr')[1] in order to get a specific row, and find_all('td')[2] to get a specific cell."
   ]
  },
  {
   "cell_type": "markdown",
   "metadata": {},
   "source": [
    "Just like with the Shakespeare write two lines get the raw HTML and then transform the raw HTML into a beautiful soup variable"
   ]
  },
  {
   "cell_type": "code",
   "execution_count": 149,
   "metadata": {
    "collapsed": true
   },
   "outputs": [],
   "source": [
    "my_url2 = \" http://floatingmedia.com/columbia/boxoffice.htm\"\n",
    "raw_html = urlopen(my_url2).read()\n",
    "soup_doc = BeautifulSoup(raw_html, \"html.parser\")"
   ]
  },
  {
   "cell_type": "markdown",
   "metadata": {},
   "source": [
    "Get the text \"2017 worldwide grosses\""
   ]
  },
  {
   "cell_type": "code",
   "execution_count": 150,
   "metadata": {},
   "outputs": [
    {
     "data": {
      "text/plain": [
       "<h1>2017 WORLDWIDE GROSSES</h1>"
      ]
     },
     "execution_count": 150,
     "metadata": {},
     "output_type": "execute_result"
    }
   ],
   "source": [
    "soup_doc.find('h1')"
   ]
  },
  {
   "cell_type": "markdown",
   "metadata": {},
   "source": [
    "Get an HTML list of all of the column names from the header of the table: rank, title, etc..."
   ]
  },
  {
   "cell_type": "code",
   "execution_count": 151,
   "metadata": {},
   "outputs": [
    {
     "data": {
      "text/plain": [
       "<tr bgcolor=\"#dcdcdc\"><td align=\"center\">Rank</td><td align=\"center\">Title</td><td align=\"center\">Studio</td><td align=\"center\">Worldwide</td><td align=\"center\">Domestic</td><td align=\"center\">Overseas</td></tr>"
      ]
     },
     "execution_count": 151,
     "metadata": {},
     "output_type": "execute_result"
    }
   ],
   "source": [
    "soup_doc.find('tr')"
   ]
  },
  {
   "cell_type": "markdown",
   "metadata": {},
   "source": [
    "Make a variable called \"headers\" and set it equal to the list of strings of the column names and header. In the next line write: \"headers[1]\" your output should be \"Title\""
   ]
  },
  {
   "cell_type": "code",
   "execution_count": 152,
   "metadata": {},
   "outputs": [
    {
     "data": {
      "text/plain": [
       "'Title'"
      ]
     },
     "execution_count": 152,
     "metadata": {},
     "output_type": "execute_result"
    }
   ],
   "source": [
    "headers = soup_doc.find('tr').find_all()\n",
    "headers[1].string"
   ]
  },
  {
   "cell_type": "markdown",
   "metadata": {},
   "source": [
    "Get the HTML for the row that contains the #1 movie"
   ]
  },
  {
   "cell_type": "code",
   "execution_count": 153,
   "metadata": {},
   "outputs": [
    {
     "data": {
      "text/plain": [
       "<b>Beauty and the Beast (2017)</b>"
      ]
     },
     "execution_count": 153,
     "metadata": {},
     "output_type": "execute_result"
    }
   ],
   "source": [
    "soup_doc.find_all('tr')[1].find_all('td')[1].find('b')"
   ]
  },
  {
   "cell_type": "markdown",
   "metadata": {},
   "source": [
    "Get the HTML for the row that contains the #10 movie "
   ]
  },
  {
   "cell_type": "code",
   "execution_count": 154,
   "metadata": {},
   "outputs": [
    {
     "data": {
      "text/plain": [
       "<b>xXx: The Return of Xander Cage</b>"
      ]
     },
     "execution_count": 154,
     "metadata": {},
     "output_type": "execute_result"
    }
   ],
   "source": [
    "soup_doc.find_all('tr')[10].find_all('td')[1].find('b')"
   ]
  },
  {
   "cell_type": "markdown",
   "metadata": {},
   "source": [
    "Get a list of the top 10 films (You'll need to use the loop and specify a range for the loop.) The list should look like this:\n",
    "\n",
    "`Beauty and the Beast (2017)\n",
    "The Fate of the Furious\n",
    "Guardians of the Galaxy Vol. 2\n",
    "Logan\n",
    "Kong: Skull Island\n",
    "Pirates of the Caribbean: Dead Men Tell No Tales\n",
    "The Boss Baby\n",
    "Fifty Shades Darker\n",
    "Your Name.\n",
    "xXx: The Return of Xander Cage`"
   ]
  },
  {
   "cell_type": "code",
   "execution_count": 155,
   "metadata": {},
   "outputs": [
    {
     "name": "stdout",
     "output_type": "stream",
     "text": [
      "Beauty and the Beast (2017)\n",
      "$1,241.3\n",
      "The Fate of the Furious\n",
      "$1,229.4\n",
      "Guardians of the Galaxy Vol. 2\n",
      "$818.6\n",
      "Logan\n",
      "$612.4\n",
      "Kong: Skull Island\n",
      "$565.9\n",
      "Pirates of the Caribbean: Dead Men Tell No Tales\n",
      "$510.5\n",
      "The Boss Baby\n",
      "$483.6\n",
      "Fifty Shades Darker\n",
      "$378.8\n",
      "Your Name.\n",
      "$354.4\n",
      "xXx: The Return of Xander Cage\n",
      "$346.1\n"
     ]
    }
   ],
   "source": [
    "for movie in soup_doc.find_all('b')[0:20]:\n",
    "    print(movie.string)"
   ]
  },
  {
   "cell_type": "markdown",
   "metadata": {},
   "source": [
    "Display as strings the top 10 films by name and worldwide gross. Like this:\n",
    "\n",
    "`Beauty and the Beast (2017) $502.2\n",
    "The Fate of the Furious $223.9\n",
    "Guardians of the Galaxy Vol. 2 $356.7\n",
    "Logan $226.2\n",
    "Kong: Skull Island $167.8\n",
    "Pirates of the Caribbean: Dead Men Tell No Tales $117.6\n",
    "The Boss Baby $171.0\n",
    "Fifty Shades Darker $114.4\n",
    "Your Name. $4.9\n",
    "xXx: The Return of Xander Cage $44.9`"
   ]
  },
  {
   "cell_type": "code",
   "execution_count": 156,
   "metadata": {},
   "outputs": [
    {
     "name": "stdout",
     "output_type": "stream",
     "text": [
      "Beauty and the Beast (2017)\n",
      "$1,241.3\n",
      "The Fate of the Furious\n",
      "$1,229.4\n",
      "Guardians of the Galaxy Vol. 2\n",
      "$818.6\n",
      "Logan\n",
      "$612.4\n",
      "Kong: Skull Island\n",
      "$565.9\n",
      "Pirates of the Caribbean: Dead Men Tell No Tales\n",
      "$510.5\n",
      "The Boss Baby\n",
      "$483.6\n",
      "Fifty Shades Darker\n",
      "$378.8\n",
      "Your Name.\n",
      "$354.4\n",
      "xXx: The Return of Xander Cage\n",
      "$346.1\n"
     ]
    }
   ],
   "source": [
    "for movie in soup_doc.find_all('b')[0:20]:\n",
    "    print(movie.string)"
   ]
  },
  {
   "cell_type": "markdown",
   "metadata": {},
   "source": [
    "Display the link for the movie `Logan`:"
   ]
  },
  {
   "cell_type": "code",
   "execution_count": 157,
   "metadata": {},
   "outputs": [
    {
     "name": "stdout",
     "output_type": "stream",
     "text": [
      "http://www.boxofficemojo.com/movies/?id=wolverine2017.htm\n"
     ]
    }
   ],
   "source": [
    "link = soup_doc.find_all('tr')[4].find_all('td')[1].find('a')\n",
    "get_url = link['href']\n",
    "print(get_url)"
   ]
  },
  {
   "cell_type": "markdown",
   "metadata": {},
   "source": [
    "Create a list for `Logan` that looks like this:\n",
    "\n",
    "`['4', 'Logan', 'Fox', '$612.4', '$226.2', '$386.2']`"
   ]
  },
  {
   "cell_type": "code",
   "execution_count": 166,
   "metadata": {},
   "outputs": [
    {
     "name": "stdout",
     "output_type": "stream",
     "text": [
      "['4']\n",
      "['4']\n",
      "['Logan']\n",
      "['Logan']\n",
      "['Logan']\n",
      "['Logan']\n",
      "['Fox']\n",
      "['Fox']\n",
      "['$612.4']\n",
      "['$612.4']\n",
      "['$612.4']\n",
      "['$226.2']\n",
      "['$226.2']\n",
      "['$386.2']\n",
      "['$386.2']\n"
     ]
    }
   ],
   "source": [
    "Logan=[soup_doc.find_all('tr')[4].find_all('td')]\n",
    "for element in Logan_list:\n",
    "    Logan_list = soup_doc.find_all('tr')[4].find_all('td')\n",
    "    Logan = [element.string]\n",
    "    print(Logan)\n",
    "    "
   ]
  },
  {
   "cell_type": "markdown",
   "metadata": {},
   "source": [
    "Here is some premade code. If you got your headers list and your logan_list right, this will make you a nice dictionary for Logan."
   ]
  },
  {
   "cell_type": "code",
   "execution_count": 159,
   "metadata": {},
   "outputs": [
    {
     "name": "stdout",
     "output_type": "stream",
     "text": [
      "{<td align=\"center\">Rank</td>: '$386.2'}\n"
     ]
    }
   ],
   "source": [
    "logan_dict = dict(zip(headers, Logan))\n",
    "print(logan_dict)"
   ]
  },
  {
   "cell_type": "markdown",
   "metadata": {},
   "source": [
    "## Advanced Challenge\n",
    "Pitchfork is no go, so try to get out all of the artists and albums (and synopses) from NPRs 2015 list: http://www.npr.org/2015/12/07/458447213/npr-musics-50-favorite-albums-of-2015\n",
    "Use as many cells as you would like, and don't forget to make a new URL request and a new beautiful soup variable"
   ]
  },
  {
   "cell_type": "code",
   "execution_count": null,
   "metadata": {
    "collapsed": true
   },
   "outputs": [],
   "source": []
  }
 ],
 "metadata": {
  "kernelspec": {
   "display_name": "Python 3",
   "language": "python",
   "name": "python3"
  },
  "language_info": {
   "codemirror_mode": {
    "name": "ipython",
    "version": 3
   },
   "file_extension": ".py",
   "mimetype": "text/x-python",
   "name": "python",
   "nbconvert_exporter": "python",
   "pygments_lexer": "ipython3",
   "version": "3.6.1"
  }
 },
 "nbformat": 4,
 "nbformat_minor": 2
}
